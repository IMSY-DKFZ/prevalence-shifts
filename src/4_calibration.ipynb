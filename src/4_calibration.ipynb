{
 "cells": [
  {
   "cell_type": "markdown",
   "metadata": {},
   "source": [
    "# RQ2a: What is the effect of prevalence shifts on the quality of calibration\n",
    "This notebook generates figure 5. It assesses re-calibration methods in our use cases."
   ]
  },
  {
   "cell_type": "code",
   "execution_count": 1,
   "metadata": {
    "ExecuteTime": {
     "end_time": "2024-08-21T14:59:44.818005Z",
     "start_time": "2024-08-21T14:59:42.888515Z"
    }
   },
   "outputs": [],
   "source": [
    "import os\n",
    "import sys\n",
    "\n",
    "sys.path.insert(0, os.path.abspath('..'))\n",
    "from pathlib import Path\n",
    "from typing import Dict\n",
    "\n",
    "import numpy as np\n",
    "import pandas as pd\n",
    "import plotly.subplots\n",
    "import plotly.graph_objects as go\n",
    "import torch\n",
    "from progiter import ProgIter\n",
    "\n",
    "import IPython\n",
    "from src.prev.calibration import CalibrationMethod, calc_calibration_metrics, calibrate_logits_fast\n",
    "from src.prev.data_loading import get_values, Kind, Split, all_tasks, example_tasks\n",
    "from src.prev.plotting import plot_aggregate_results, Confidence, box_plot, add_little_guys, add_ir_annotation\n",
    "from src.prev.scaling import scale_prevalences_ir\n",
    "\n",
    "current_path = os.getcwd()\n",
    "DATA_PATH = Path(current_path).parent / 'data'\n",
    "RESULT_PATH = Path(current_path).parent / 'results'\n",
    "assert DATA_PATH.exists() and RESULT_PATH.exists()\n",
    "torch.manual_seed(seed=0)\n",
    "\n",
    "IRS = list(np.arange(1, 10.5, 0.5))\n",
    "\n",
    "# set to false for a full rerun, including all tasks, note that we do not provide\n",
    "# logits for all tasks for licensing considerations, so one needs to generate them from scratch\n",
    "EXAMPLE_TASKS_ONLY = True\n",
    "if EXAMPLE_TASKS_ONLY:\n",
    "    rel_tasks = example_tasks\n",
    "else: rel_tasks = all_tasks"
   ]
  },
  {
   "cell_type": "code",
   "execution_count": 2,
   "metadata": {
    "ExecuteTime": {
     "end_time": "2024-08-21T14:59:55.158472Z",
     "start_time": "2024-08-21T14:59:45.680066Z"
    },
    "collapsed": false
   },
   "outputs": [
    {
     "name": "stdout",
     "output_type": "stream",
     "text": [
      "Loading data 100.00% 30/30... rate=5.55 Hz, eta=0:00:00, total=0:00:05\n"
     ]
    }
   ],
   "source": [
    "data = {}\n",
    "for t in ProgIter(rel_tasks, desc='Loading data'):\n",
    "    data[t] = get_values(t, DATA_PATH, proj='mic23_predictions_original_0')  # original paper predictions"
   ]
  },
  {
   "cell_type": "code",
   "execution_count": 3,
   "metadata": {
    "ExecuteTime": {
     "end_time": "2024-08-21T15:06:13.011696Z",
     "start_time": "2024-08-21T15:00:00.625596Z"
    }
   },
   "outputs": [
    {
     "name": "stdout",
     "output_type": "stream",
     "text": [
      "Loading data 100.00% 30/30... rate=0.08 Hz, eta=0:00:00, total=0:06:12\n"
     ]
    }
   ],
   "source": [
    "train_adapted_data = {}\n",
    "train_adapted_estimated_data = {}\n",
    "for t in ProgIter(rel_tasks, desc='Loading data'):\n",
    "    train_adapted_data[t] = {}\n",
    "    train_adapted_estimated_data[t] = {}\n",
    "    for ir in IRS:\n",
    "        train_adapted_data[t][ir] = get_values(t, DATA_PATH,\n",
    "                                               proj=f'mic23_predictions_extension_balanced_0_{ir}')  # additional predictions\n",
    "        train_adapted_estimated_data[t][ir] = get_values(t, DATA_PATH,\n",
    "                                                         proj=f'mic23_predictions_extension_balanced_estimated_0_{ir}')  # additional predictions"
   ]
  },
  {
   "cell_type": "code",
   "execution_count": 4,
   "metadata": {
    "ExecuteTime": {
     "end_time": "2024-08-21T15:08:14.776280Z",
     "start_time": "2024-08-21T15:08:14.758390Z"
    }
   },
   "outputs": [],
   "source": [
    "# results from notebook 3\n",
    "estimated_prevalences = pd.read_pickle(RESULT_PATH / '24_prev_estimation_df.pkl').set_index(['task', 'ir'])\n",
    "\n",
    "\n",
    "def get_estimated_prevalences(task: str, target_ir: float, method: str = 'ACC') -> torch.Tensor:\n",
    "    return torch.tensor(estimated_prevalences[method].loc[task, target_ir])"
   ]
  },
  {
   "cell_type": "code",
   "execution_count": 5,
   "metadata": {
    "ExecuteTime": {
     "end_time": "2024-08-21T15:11:17.598010Z",
     "start_time": "2024-08-21T15:08:15.822089Z"
    }
   },
   "outputs": [
    {
     "name": "stdout",
     "output_type": "stream",
     "text": [
      " 100.00% 12/12... rate=0.07 Hz, eta=0:00:00, total=0:03:01\n"
     ]
    }
   ],
   "source": [
    "# Research Question 2 a): What are the effects of prevalence shifts on the quality of calibration\n",
    "\n",
    "calibration_ir_results = []\n",
    "for cal_method in ProgIter(list(CalibrationMethod)[:]):\n",
    "    for ir in IRS:\n",
    "        # do the calibration on all tasks\n",
    "        calibrated_test_data: Dict[str, Dict[Kind, Dict[Split, torch.Tensor]]] = {}\n",
    "        for t in rel_tasks:\n",
    "            # STEP 1: modify DEV_TEST according to IR\n",
    "            if cal_method in [CalibrationMethod.ADAPTED_TRAIN_WEIGHTS,\n",
    "                              CalibrationMethod.ADAPTED_TRAIN_WEIGHTS_AND_AFFINE_SCALING_REWEIGHTED,\n",
    "                              CalibrationMethod.ADAPTED_TRAIN_WEIGHTS_AND_TEMPERATURE_SCALING_REWEIGHTED]:\n",
    "                task_data = train_adapted_data[t][ir]\n",
    "            elif cal_method in [CalibrationMethod.ADAPTED_TRAIN_WEIGHTS_ACC,\n",
    "                                CalibrationMethod.ADAPTED_TRAIN_WEIGHTS_AND_AFFINE_SCALING_REWEIGHETD_ACC,\n",
    "                                CalibrationMethod.ADAPTED_TRAIN_WEIGHTS_AND_TEMPERATURE_SCALING_REWEIGHTED_ACC]:\n",
    "                task_data = train_adapted_estimated_data[t][ir]\n",
    "            else:\n",
    "                task_data = data[t]\n",
    "            app_test_logits, app_test_classes = scale_prevalences_ir(logits=task_data[Kind.LOGITS][Split.APP_TEST],\n",
    "                                                                     classes=task_data[Kind.LABELS][Split.APP_TEST],\n",
    "                                                                     ir=ir)\n",
    "            mod_data = {Kind.LOGITS: {Split.DEV_CAL: task_data[Kind.LOGITS][Split.DEV_CAL],\n",
    "                                      Split.DEV_TEST: task_data[Kind.LOGITS][Split.DEV_TEST],\n",
    "                                      Split.APP_TEST: app_test_logits},\n",
    "                        Kind.LABELS: {Split.DEV_CAL: task_data[Kind.LABELS][Split.DEV_CAL],\n",
    "                                      Split.DEV_TEST: task_data[Kind.LABELS][Split.DEV_TEST],\n",
    "                                      Split.APP_TEST: app_test_classes}}\n",
    "            # STEP 2: determine prior knowledge\n",
    "            prior = None  # by default, we know nothing\n",
    "            if cal_method in [CalibrationMethod.AFFINE_REWEIGHTED, CalibrationMethod.TEMPERATURE_SCALING_REWEIGHTED,\n",
    "                              CalibrationMethod.ADAPTED_TRAIN_WEIGHTS_AND_AFFINE_SCALING_REWEIGHTED,\n",
    "                              CalibrationMethod.ADAPTED_TRAIN_WEIGHTS_AND_TEMPERATURE_SCALING_REWEIGHTED]:\n",
    "                # adapt prevalences from DEV_CAL to APP_TEST (the latter is balanced)\n",
    "                prior = torch.bincount(app_test_classes)\n",
    "                # scaling for convergence stability\n",
    "                prior = prior / prior.sum()\n",
    "            elif cal_method in [CalibrationMethod.AFFINE_ACC,\n",
    "                                CalibrationMethod.ADAPTED_TRAIN_WEIGHTS_AND_TEMPERATURE_SCALING_REWEIGHTED_ACC,\n",
    "                                CalibrationMethod.ADAPTED_TRAIN_WEIGHTS_AND_AFFINE_SCALING_REWEIGHETD_ACC]:\n",
    "                prior = get_estimated_prevalences(task=t, target_ir=ir)\n",
    "            # STEP 3: re-calibrate\n",
    "            if cal_method in [CalibrationMethod.ADAPTED_TRAIN_WEIGHTS_AND_AFFINE_SCALING_REWEIGHTED,\n",
    "                              CalibrationMethod.ADAPTED_TRAIN_WEIGHTS_AND_TEMPERATURE_SCALING_REWEIGHTED,\n",
    "                              CalibrationMethod.ADAPTED_TRAIN_WEIGHTS_AND_AFFINE_SCALING_REWEIGHETD_ACC,\n",
    "                              CalibrationMethod.ADAPTED_TRAIN_WEIGHTS_AND_TEMPERATURE_SCALING_REWEIGHTED_ACC]:\n",
    "                affine = 'AFFINE' in cal_method.name\n",
    "                calibrated_logits = calibrate_logits_fast(data=mod_data,\n",
    "                                                          calibration=CalibrationMethod.AFFINE_REWEIGHTED if affine else CalibrationMethod.TEMPERATURE_SCALING_REWEIGHTED,\n",
    "                                                          prior=prior)\n",
    "            elif 'ADAPTED_TRAIN_WEIGHTS' not in cal_method.name:\n",
    "                calibrated_logits = calibrate_logits_fast(data=mod_data,\n",
    "                                                          calibration=cal_method, prior=prior)\n",
    "            else:\n",
    "                # adapted without post calibration\n",
    "                calibrated_logits = {Split.DEV_TEST: mod_data[Kind.LOGITS][Split.DEV_TEST],\n",
    "                                     Split.APP_TEST: mod_data[Kind.LOGITS][Split.APP_TEST]}\n",
    "            # STEP 4: calculate calibration metrics\n",
    "            # suppress plotting from the metrics reloaded\n",
    "            with IPython.utils.io.capture_output():\n",
    "                dev_metrics = calc_calibration_metrics(logits=calibrated_logits[Split.DEV_TEST],\n",
    "                                                       labels=task_data[Kind.LABELS][Split.DEV_TEST])\n",
    "                app_metrics = calc_calibration_metrics(logits=calibrated_logits[Split.APP_TEST],\n",
    "                                                       labels=app_test_classes)\n",
    "            # going from dev to test\n",
    "            diff_metrics = {m: app_metrics[m] - dev_metrics[m] for m in dev_metrics}\n",
    "            _info = {'calibration': cal_method.name, 'ir': ir, 'task': t}\n",
    "            _info.update({f'dev_{m}': v for m, v in dev_metrics.items()})\n",
    "            _info.update({f'app_{m}': v for m, v in app_metrics.items()})\n",
    "            _info.update({f'diff_{m}': v for m, v in diff_metrics.items()})\n",
    "            calibration_ir_results.append(_info)\n",
    "            # plot calibration curves (binary tasks only, DEV_TEST visualization)\n",
    "ir_df = pd.DataFrame(calibration_ir_results)\n",
    "ir_df.to_csv(RESULT_PATH / '24_recalibration_results.csv')"
   ]
  },
  {
   "cell_type": "code",
   "execution_count": 2,
   "metadata": {
    "ExecuteTime": {
     "end_time": "2024-08-21T15:14:23.221116Z",
     "start_time": "2024-08-21T15:14:21.375297Z"
    }
   },
   "outputs": [],
   "source": [
    "# plotting (if results are already stored)\n",
    "p = RESULT_PATH / '24_recalibration_results.csv'\n",
    "DELTA = False\n",
    "plot_methods_all = [CalibrationMethod.NONE, CalibrationMethod.TEMPERATURE_SCALING,\n",
    "                    CalibrationMethod.TEMPERATURE_SCALING_REWEIGHTED, CalibrationMethod.AFFINE,\n",
    "                    CalibrationMethod.ADAPTED_TRAIN_WEIGHTS_ACC,\n",
    "                    CalibrationMethod.ADAPTED_TRAIN_WEIGHTS, CalibrationMethod.AFFINE_ACC,\n",
    "                    CalibrationMethod.AFFINE_REWEIGHTED]\n",
    "plot_methods_unweighted = [CalibrationMethod.NONE, CalibrationMethod.TEMPERATURE_SCALING, CalibrationMethod.AFFINE]\n",
    "plot_methods_retrained = [CalibrationMethod.ADAPTED_TRAIN_WEIGHTS, CalibrationMethod.ADAPTED_TRAIN_WEIGHTS_ACC,\n",
    "                          CalibrationMethod.ADAPTED_TRAIN_WEIGHTS_AND_AFFINE_SCALING_REWEIGHTED]\n",
    "plot_methods_proposed = [CalibrationMethod.TEMPERATURE_SCALING_REWEIGHTED,\n",
    "                         CalibrationMethod.AFFINE_REWEIGHTED, CalibrationMethod.AFFINE_ACC]\n",
    "\n",
    "plot_methods_main = plot_methods_all\n",
    "plot_methods_supp = [CalibrationMethod.NONE, CalibrationMethod.ADAPTED_TRAIN_WEIGHTS_ACC,\n",
    "                     CalibrationMethod.ADAPTED_TRAIN_WEIGHTS, CalibrationMethod.AFFINE_ACC,\n",
    "                     CalibrationMethod.AFFINE_REWEIGHTED,\n",
    "                     CalibrationMethod.ADAPTED_TRAIN_WEIGHTS_AND_AFFINE_SCALING_REWEIGHETD_ACC,\n",
    "                     CalibrationMethod.ADAPTED_TRAIN_WEIGHTS_AND_AFFINE_SCALING_REWEIGHTED]\n",
    "left_plots = []\n",
    "left_plots_bs = []\n",
    "right_plots = []\n",
    "right_plots_bs = []\n",
    "if p.exists():\n",
    "    ir_df = pd.read_csv(p)\n",
    "    for metric in ['rbs', 'cwce', 'bs', 'nbs']:\n",
    "        for variant, plot_methods in zip(['main', 'main', 'main', 'main', 'main', 'supp'],\n",
    "                                         [plot_methods_all, plot_methods_unweighted, plot_methods_retrained,\n",
    "                                          plot_methods_proposed, plot_methods_main, plot_methods_supp]):\n",
    "            if variant == 'main':\n",
    "                bound = {'rbs': None, 'bs': None, 'nbs': None, 'cwce': None}[metric]\n",
    "            else:\n",
    "                bound = None\n",
    "            plots_base_path = RESULT_PATH / f'24_calibration_deterioration_{metric}_{DELTA}_{variant}'\n",
    "            fig = plotly.subplots.make_subplots(rows=1, cols=2,\n",
    "                                                y_title=f'<b>{metric.upper()}</b>',\n",
    "                                                horizontal_spacing=0.04,\n",
    "                                                shared_yaxes=True)\n",
    "            fig.update_layout(template='plotly')\n",
    "\n",
    "\n",
    "            # first generate the data for the line plot\n",
    "            def line_values_extraction_func(results_df, line_identifier, delta):\n",
    "                _col = f'diff_{metric}' if delta else f'app_{metric}'\n",
    "                _df = results_df[results_df['calibration'] == line_identifier.name][['task', 'ir', _col]]\n",
    "                _df = _df.pivot(index='task', columns='ir', values=_col)\n",
    "                _df = _df.abs()\n",
    "                return _df.values\n",
    "\n",
    "\n",
    "            line_fig_data = plot_aggregate_results(info_df=ir_df, line_ids=plot_methods,\n",
    "                                                   file=None,\n",
    "                                                   line_values_extraction_func=line_values_extraction_func,\n",
    "                                                   bound=bound,\n",
    "                                                   ci=Confidence.STD,\n",
    "                                                   y_axis_title=metric.upper(),\n",
    "                                                   ).data\n",
    "            if metric == 'cwce':\n",
    "                left_plots.append(line_fig_data)\n",
    "            elif metric == 'bs':\n",
    "                left_plots_bs.append(line_fig_data)\n",
    "            # build line plot into fig\n",
    "            for elem in line_fig_data:\n",
    "                elem['showlegend'] = False\n",
    "                fig.add_trace(elem, row=1, col=1)\n",
    "            # generate box plot and pass into fig\n",
    "            _col = f'diff_{metric}' if DELTA else f'app_{metric}'\n",
    "            _df = ir_df[ir_df['ir'] == 10.0][[_col, 'calibration', 'task']]\n",
    "            _df = _df.pivot(index='task', columns='calibration', values=_col)\n",
    "            box_fig_data = box_plot(\n",
    "                df=_df.rename(columns={cal.name: cal.value for cal in CalibrationMethod}),\n",
    "                line_ids=plot_methods).data\n",
    "            if metric == 'cwce':\n",
    "                right_plots.append(box_fig_data)\n",
    "            elif metric == 'bs':\n",
    "                right_plots_bs.append(box_fig_data)\n",
    "            for elem in box_fig_data:\n",
    "                fig.add_trace(elem, row=1, col=2)\n",
    "            # layout stuff\n",
    "            fig.update_layout(autosize=False, width=1800, height=500,\n",
    "                              legend={\"font\": {\"size\": 30}, \"itemsizing\": 'constant'})\n",
    "            # fix distances\n",
    "            fig.update_layout(margin=dict(t=0, b=0))\n",
    "            fig['layout']['xaxis']['title'] = \"<b>Imbalance ratio</b>\"\n",
    "            fig['layout']['yaxis']['range'] = bound\n",
    "            fig['layout']['font']['size'] = 20\n",
    "            for i in fig['layout']['annotations']:\n",
    "                i['font'] = dict(size=30)\n",
    "            fig['layout']['font']['family'] = \"NewComputerModern10\"\n",
    "            joint_path = plots_base_path.parent / (plots_base_path.name + '_joint_white_background')\n",
    "            fig.update_layout(\n",
    "                images=[\n",
    "                    go.layout.Image(\n",
    "                        source=\"../data/little_guys_balanced.png\",  # URL or local path to the image\n",
    "                        xref=\"paper\", yref=\"paper\",\n",
    "                        x=0, y=-0.15,\n",
    "                        sizex=0.15, sizey=0.15,  # Size of the image\n",
    "                        xanchor=\"left\", yanchor=\"middle\"\n",
    "                    ),\n",
    "                    go.layout.Image(\n",
    "                        source=\"../data/little_guys_high_ir.png\",  # URL or local path to the image\n",
    "                        xref=\"paper\", yref=\"paper\",\n",
    "                        x=0.48, y=-0.15,\n",
    "                        sizex=0.15, sizey=0.15,  # Size of the image\n",
    "                        xanchor=\"right\", yanchor=\"middle\"\n",
    "                    )\n",
    "                ]\n",
    "            )\n",
    "            # fig.write_image(joint_path.with_suffix(suffix='.svg'))\n",
    "            # fig.write_image(joint_path.with_suffix(suffix='.png'))\n",
    "            # fig.write_html(joint_path.with_suffix(suffix='.html'))"
   ]
  },
  {
   "cell_type": "markdown",
   "metadata": {
    "collapsed": false
   },
   "source": [
    "## Generate Figure 5"
   ]
  },
  {
   "cell_type": "code",
   "execution_count": 4,
   "metadata": {
    "ExecuteTime": {
     "end_time": "2024-08-21T15:14:25.748919Z",
     "start_time": "2024-08-21T15:14:25.682690Z"
    }
   },
   "outputs": [
    {
     "data": {
      "application/vnd.plotly.v1+json": {
       "config": {
        "plotlyServerURL": "https://plot.ly"
       },
       "data": [
        {
         "fill": "toself",
         "fillcolor": "rgba(230, 25, 75, 0.15)",
         "line": {
          "color": "rgba(255,255,255,0)"
         },
         "mode": "lines",
         "name": "No re-calibration",
         "showlegend": false,
         "type": "scatter",
         "x": [
          1,
          1.5,
          2,
          2.5,
          3,
          3.5,
          4,
          4.5,
          5,
          5.5,
          6,
          6.5,
          7,
          7.5,
          8,
          8.5,
          9,
          9.5,
          10,
          10,
          9.5,
          9,
          8.5,
          8,
          7.5,
          7,
          6.5,
          6,
          5.5,
          5,
          4.5,
          4,
          3.5,
          3,
          2.5,
          2,
          1.5,
          1
         ],
         "xaxis": "x",
         "y": [
          0.12179228743720172,
          0.10036640544704808,
          0.09944463120557663,
          0.10962697841428684,
          0.1190653203283414,
          0.12983538465628447,
          0.1406616936199771,
          0.1452294770929788,
          0.15450424163722354,
          0.15998886618590796,
          0.16452359156842727,
          0.17168974577706894,
          0.17322375496026127,
          0.17615429263894383,
          0.1798504531163419,
          0.1835085615938522,
          0.1876800669885147,
          0.18937722322124073,
          0.19063296052736461,
          0.023548070451480954,
          0.023175871383185206,
          0.02315879076448639,
          0.02254068481088363,
          0.02224135433157931,
          0.021993917971351598,
          0.021224626134077565,
          0.020431828824563486,
          0.020451671518093698,
          0.019568197830637027,
          0.018035909119389668,
          0.017145688760656363,
          0.015631559008081816,
          0.015149019997043656,
          0.013313003455596203,
          0.010910358586336454,
          0.007717645420491637,
          0.00728598903227326,
          0.008986765137781218
         ],
         "yaxis": "y"
        },
        {
         "fill": "toself",
         "fillcolor": "rgba(67, 99, 216, 0.15)",
         "line": {
          "color": "rgba(255,255,255,0)"
         },
         "mode": "lines",
         "name": "TempScal",
         "showlegend": false,
         "type": "scatter",
         "x": [
          1,
          1.5,
          2,
          2.5,
          3,
          3.5,
          4,
          4.5,
          5,
          5.5,
          6,
          6.5,
          7,
          7.5,
          8,
          8.5,
          9,
          9.5,
          10,
          10,
          9.5,
          9,
          8.5,
          8,
          7.5,
          7,
          6.5,
          6,
          5.5,
          5,
          4.5,
          4,
          3.5,
          3,
          2.5,
          2,
          1.5,
          1
         ],
         "xaxis": "x",
         "y": [
          0.09146591129822443,
          0.06913222896549982,
          0.08076951961118534,
          0.10174832072472109,
          0.120953489624143,
          0.13406834342704296,
          0.14833284899500682,
          0.16043568546456333,
          0.17154954074205533,
          0.17806249426683773,
          0.18480705509278467,
          0.19170522491092343,
          0.19682297152368983,
          0.2008455537808919,
          0.20551697139721897,
          0.20827839294534958,
          0.21224378431238605,
          0.21537347066807006,
          0.2173603061490863,
          0.026120632676842767,
          0.024907817808298108,
          0.02480277540550399,
          0.024691665806105156,
          0.024242384559740288,
          0.023633650582153,
          0.022899273316497423,
          0.02093199945636992,
          0.020718676593303065,
          0.019572361259604362,
          0.01831410118714144,
          0.016025302359168173,
          0.015026811153080008,
          0.012215319000611992,
          0.010469192067072627,
          0.007816381736432391,
          0.005370124900058858,
          0.006298279405385229,
          0.007037782085467369
         ],
         "yaxis": "y"
        },
        {
         "fill": "toself",
         "fillcolor": "rgba(70, 240, 240, 0.15)",
         "line": {
          "color": "rgba(255,255,255,0)"
         },
         "mode": "lines",
         "name": "TempScal (dep. prev.)",
         "showlegend": false,
         "type": "scatter",
         "x": [
          1,
          1.5,
          2,
          2.5,
          3,
          3.5,
          4,
          4.5,
          5,
          5.5,
          6,
          6.5,
          7,
          7.5,
          8,
          8.5,
          9,
          9.5,
          10,
          10,
          9.5,
          9,
          8.5,
          8,
          7.5,
          7,
          6.5,
          6,
          5.5,
          5,
          4.5,
          4,
          3.5,
          3,
          2.5,
          2,
          1.5,
          1
         ],
         "xaxis": "x",
         "y": [
          0.07747725021067195,
          0.06503533235363604,
          0.07969519678880523,
          0.10093096132184409,
          0.1161149409361712,
          0.1307448220403275,
          0.1452953578523114,
          0.15053165911546157,
          0.16153196017182003,
          0.16571812842847755,
          0.17008538932271927,
          0.17746356222892767,
          0.1804398747161281,
          0.18256127537209377,
          0.18673083584222278,
          0.18945198895899729,
          0.1928517328641385,
          0.19446196857822295,
          0.1965281609922666,
          0.022878587749940185,
          0.02192403253960548,
          0.02192535304129603,
          0.021567016930119753,
          0.021488110051614648,
          0.02099736588840885,
          0.020177272820778136,
          0.01914219964509968,
          0.018675908414007333,
          0.01743291032564541,
          0.016304260980787688,
          0.014830094303029076,
          0.012867205471286627,
          0.011239442142470656,
          0.009475270721847902,
          0.006938611002341534,
          0.003987106400819548,
          0.005240605866432376,
          0.010004506597909836
         ],
         "yaxis": "y"
        },
        {
         "fill": "toself",
         "fillcolor": "rgba(245, 130, 49, 0.15)",
         "line": {
          "color": "rgba(255,255,255,0)"
         },
         "mode": "lines",
         "name": "Affine",
         "showlegend": false,
         "type": "scatter",
         "x": [
          1,
          1.5,
          2,
          2.5,
          3,
          3.5,
          4,
          4.5,
          5,
          5.5,
          6,
          6.5,
          7,
          7.5,
          8,
          8.5,
          9,
          9.5,
          10,
          10,
          9.5,
          9,
          8.5,
          8,
          7.5,
          7,
          6.5,
          6,
          5.5,
          5,
          4.5,
          4,
          3.5,
          3,
          2.5,
          2,
          1.5,
          1
         ],
         "xaxis": "x",
         "y": [
          0.1416071435117708,
          0.09558649917549546,
          0.08000817349768011,
          0.08500306230121846,
          0.09659474214449207,
          0.10651355002856085,
          0.11764548334215309,
          0.12958525068332066,
          0.1392220855023295,
          0.1452437801072154,
          0.1519200117520672,
          0.15868145004896478,
          0.1629209589770812,
          0.16698394173316608,
          0.17092497179474003,
          0.17330798368483247,
          0.1776367665639907,
          0.18045708740909272,
          0.1827258005307859,
          0.014315207269354119,
          0.013806365066261261,
          0.013075341534632995,
          0.013305988380438366,
          0.012468716332393798,
          0.011470262917995244,
          0.009962094473302888,
          0.007866902246697699,
          0.0077395730590912315,
          0.0065489234752067055,
          0.004725464855579592,
          0.0020818290360615777,
          0.0006833710910885277,
          -0.0007700276293667457,
          -0.0024150097980998597,
          -0.0011633197119601604,
          0.00506258402550365,
          0.005155946447761295,
          0.0009758102038307237
         ],
         "yaxis": "y"
        },
        {
         "fill": "toself",
         "fillcolor": "rgba(240, 50, 230, 0.15)",
         "line": {
          "color": "rgba(255,255,255,0)"
         },
         "mode": "lines",
         "name": "Retraining (est. prev.)",
         "showlegend": false,
         "type": "scatter",
         "x": [
          1,
          1.5,
          2,
          2.5,
          3,
          3.5,
          4,
          4.5,
          5,
          5.5,
          6,
          6.5,
          7,
          7.5,
          8,
          8.5,
          9,
          9.5,
          10,
          10,
          9.5,
          9,
          8.5,
          8,
          7.5,
          7,
          6.5,
          6,
          5.5,
          5,
          4.5,
          4,
          3.5,
          3,
          2.5,
          2,
          1.5,
          1
         ],
         "xaxis": "x",
         "y": [
          0.11789426350245061,
          0.10576235080626087,
          0.10843062372423547,
          0.09113917708843483,
          0.08520771380127798,
          0.07955891966475125,
          0.06692404214419177,
          0.05800417673329629,
          0.06834510748673805,
          0.06764982169670039,
          0.0623743771825747,
          0.06347991382377528,
          0.08042842367792258,
          0.05824501534864812,
          0.059231933306987075,
          0.0533751126917099,
          0.049952111569061874,
          0.052482018595924454,
          0.047758533929075725,
          0.008874094085724867,
          0.005569692503705807,
          0.010537751439981594,
          0.011800520679080842,
          0.004450805688571525,
          0.004903792435492018,
          0.012863571285426957,
          0.007528400131794455,
          0.008161004635620129,
          0.011759794505264418,
          0.008239640414813558,
          0.01192217865184483,
          0.012064380687042377,
          0.00972619623455305,
          0.017707208626820008,
          0.009236657874880705,
          0.015234575008372539,
          0.008602454871748967,
          0.014617377200411029
         ],
         "yaxis": "y"
        },
        {
         "fill": "toself",
         "fillcolor": "rgba(145, 30, 180, 0.15)",
         "line": {
          "color": "rgba(255,255,255,0)"
         },
         "mode": "lines",
         "name": "Retraining (dep. prev.)",
         "showlegend": false,
         "type": "scatter",
         "x": [
          1,
          1.5,
          2,
          2.5,
          3,
          3.5,
          4,
          4.5,
          5,
          5.5,
          6,
          6.5,
          7,
          7.5,
          8,
          8.5,
          9,
          9.5,
          10,
          10,
          9.5,
          9,
          8.5,
          8,
          7.5,
          7,
          6.5,
          6,
          5.5,
          5,
          4.5,
          4,
          3.5,
          3,
          2.5,
          2,
          1.5,
          1
         ],
         "xaxis": "x",
         "y": [
          0.1227867712270096,
          0.12207077552887727,
          0.1098222770111308,
          0.10282501268031247,
          0.08855921846052142,
          0.10324968303369275,
          0.08935246599126781,
          0.1305089258150245,
          0.0633037546110374,
          0.05777813804524404,
          0.05502181128957831,
          0.07933144434187575,
          0.05610586336122804,
          0.06251538469622256,
          0.056445908742225756,
          0.05123942030575849,
          0.07535735424816392,
          0.059773384194778525,
          0.04995800080438949,
          0.007346816887449696,
          0.0033580776156896634,
          0.00002227985400769794,
          0.009404397953634527,
          0.011173466076762131,
          0.007365013058718242,
          0.005171439375243579,
          -0.00041351872212051083,
          0.010178227148912328,
          0.009629790645479197,
          0.012224538097072878,
          -0.02123628414646548,
          0.0014399826232117732,
          0.01140930184906052,
          0.008549686777792283,
          0.015271825046122976,
          0.012433845654988923,
          0.0133601015909083,
          0.00875788540000929
         ],
         "yaxis": "y"
        },
        {
         "fill": "toself",
         "fillcolor": "rgba(128, 128, 0, 0.15)",
         "line": {
          "color": "rgba(255,255,255,0)"
         },
         "mode": "lines",
         "name": "Affine (est. prev.)",
         "showlegend": false,
         "type": "scatter",
         "x": [
          1,
          1.5,
          2,
          2.5,
          3,
          3.5,
          4,
          4.5,
          5,
          5.5,
          6,
          6.5,
          7,
          7.5,
          8,
          8.5,
          9,
          9.5,
          10,
          10,
          9.5,
          9,
          8.5,
          8,
          7.5,
          7,
          6.5,
          6,
          5.5,
          5,
          4.5,
          4,
          3.5,
          3,
          2.5,
          2,
          1.5,
          1
         ],
         "xaxis": "x",
         "y": [
          0.06474813934269796,
          0.07014190432614739,
          0.052478683075115315,
          0.06769216196776928,
          0.05010086835756841,
          0.06109487913849272,
          0.056848985690013676,
          0.053482685887303094,
          0.04899641636826394,
          0.055607579406832496,
          0.049921720590554206,
          0.056973306111575556,
          0.055734915549036174,
          0.05255169476029328,
          0.04851129242976605,
          0.04881643147170063,
          0.05029093318594148,
          0.04673672140339594,
          0.04780275950866868,
          -0.0021034082013515684,
          -0.0020790935921228167,
          -0.003869011335534852,
          -0.0027782907132894823,
          -0.0035817517152371137,
          -0.002648020711859423,
          -0.0040422485910436325,
          -0.003707568362160893,
          -0.0026383669348598697,
          -0.004119687363972925,
          -0.0035140059871833842,
          -0.0028186756855879645,
          -0.0031813789960543487,
          -0.0047665811895321285,
          -0.0030195659274797025,
          -0.0061907066314868114,
          -0.002798873716180466,
          -0.004035429050208712,
          -0.0035458608282657803
         ],
         "yaxis": "y"
        },
        {
         "fill": "toself",
         "fillcolor": "rgba(60, 180, 75, 0.15)",
         "line": {
          "color": "rgba(255,255,255,0)"
         },
         "mode": "lines",
         "name": "Affine (dep. prev.)",
         "showlegend": false,
         "type": "scatter",
         "x": [
          1,
          1.5,
          2,
          2.5,
          3,
          3.5,
          4,
          4.5,
          5,
          5.5,
          6,
          6.5,
          7,
          7.5,
          8,
          8.5,
          9,
          9.5,
          10,
          10,
          9.5,
          9,
          8.5,
          8,
          7.5,
          7,
          6.5,
          6,
          5.5,
          5,
          4.5,
          4,
          3.5,
          3,
          2.5,
          2,
          1.5,
          1
         ],
         "xaxis": "x",
         "y": [
          0.05773872925635621,
          0.05222025588060484,
          0.048089017334011094,
          0.04085980639838108,
          0.039168572243487326,
          0.040192505213787574,
          0.042751603157155926,
          0.03635306149665135,
          0.03772569426506593,
          0.035755983973003225,
          0.03082598320043095,
          0.03402490037000697,
          0.028541945129849425,
          0.02813429663358468,
          0.028777015431385257,
          0.028826881196466585,
          0.025145882645382533,
          0.028217545580746642,
          0.02797368178929472,
          0.00035057672489420197,
          0.0007841156405215405,
          0.00182427166229991,
          0.001140916549733596,
          0.0025040775853978695,
          0.0031062382499101922,
          0.0017125754303970384,
          0.0003281969219498179,
          0.0009977190469701493,
          0.0008924827163510653,
          0.00040519494070636805,
          0.0005546355686808432,
          0.00009292258449762614,
          0.00262717080338604,
          0.0029556045651213357,
          0.0026724506281373926,
          0.0008759634892675748,
          0.0006113929225476863,
          0.000030563409100320404
         ],
         "yaxis": "y"
        },
        {
         "line": {
          "color": "rgb(60, 180, 75)",
          "width": 4
         },
         "mode": "lines",
         "name": "Affine (dep. prev.)",
         "showlegend": false,
         "type": "scatter",
         "x": [
          1,
          1.5,
          2,
          2.5,
          3,
          3.5,
          4,
          4.5,
          5,
          5.5,
          6,
          6.5,
          7,
          7.5,
          8,
          8.5,
          9,
          9.5,
          10
         ],
         "xaxis": "x",
         "y": [
          0.028884646332728265,
          0.026415824401576263,
          0.024482490411639336,
          0.021766128513259233,
          0.02106208840430433,
          0.021409838008586805,
          0.021422262870826776,
          0.018453848532666097,
          0.019065444602886148,
          0.018324233344677143,
          0.01591185112370055,
          0.017176548645978396,
          0.015127260280123232,
          0.015620267441747437,
          0.015640546508391563,
          0.014983898873100091,
          0.013485077153841223,
          0.014500830610634091,
          0.014162129257094461
         ],
         "yaxis": "y"
        },
        {
         "line": {
          "color": "rgb(128, 128, 0)",
          "width": 4
         },
         "mode": "lines",
         "name": "Affine (est. prev.)",
         "showlegend": false,
         "type": "scatter",
         "x": [
          1,
          1.5,
          2,
          2.5,
          3,
          3.5,
          4,
          4.5,
          5,
          5.5,
          6,
          6.5,
          7,
          7.5,
          8,
          8.5,
          9,
          9.5,
          10
         ],
         "xaxis": "x",
         "y": [
          0.030601139257216095,
          0.03305323763796934,
          0.024839904679467426,
          0.030750727668141235,
          0.023540651215044357,
          0.0281641489744803,
          0.026833803346979664,
          0.025332005100857567,
          0.02274120519054028,
          0.025743946021429785,
          0.02364167682784717,
          0.02663286887470733,
          0.02584633347899627,
          0.02495183702421693,
          0.022464770357264466,
          0.023019070379205572,
          0.023210960925203312,
          0.02232881390563656,
          0.022849675653658554
         ],
         "yaxis": "y"
        },
        {
         "line": {
          "color": "rgb(145, 30, 180)",
          "width": 4
         },
         "mode": "lines",
         "name": "Retraining (dep. prev.)",
         "showlegend": false,
         "type": "scatter",
         "x": [
          1,
          1.5,
          2,
          2.5,
          3,
          3.5,
          4,
          4.5,
          5,
          5.5,
          6,
          6.5,
          7,
          7.5,
          8,
          8.5,
          9,
          9.5,
          10
         ],
         "xaxis": "x",
         "y": [
          0.06577232831350945,
          0.06771543855989279,
          0.06112806133305986,
          0.05904841886321772,
          0.048554452619156856,
          0.05732949244137664,
          0.045396224307239795,
          0.0546363208342795,
          0.037764146354055145,
          0.03370396434536162,
          0.03260001921924532,
          0.03945896280987762,
          0.03063865136823581,
          0.0349401988774704,
          0.033809687409493944,
          0.030321909129696508,
          0.03768981705108581,
          0.031565730905234096,
          0.028652408845919592
         ],
         "yaxis": "y"
        },
        {
         "line": {
          "color": "rgb(240, 50, 230)",
          "width": 4
         },
         "mode": "lines",
         "name": "Retraining (est. prev.)",
         "showlegend": false,
         "type": "scatter",
         "x": [
          1,
          1.5,
          2,
          2.5,
          3,
          3.5,
          4,
          4.5,
          5,
          5.5,
          6,
          6.5,
          7,
          7.5,
          8,
          8.5,
          9,
          9.5,
          10
         ],
         "xaxis": "x",
         "y": [
          0.06625582035143082,
          0.057182402839004914,
          0.061832599366304,
          0.05018791748165777,
          0.05145746121404899,
          0.04464255794965215,
          0.03949421141561708,
          0.03496317769257056,
          0.03829237395077581,
          0.039704808100982404,
          0.03526769090909741,
          0.03550415697778487,
          0.046645997481674764,
          0.03157440389207007,
          0.0318413694977793,
          0.03258781668539537,
          0.030244931504521733,
          0.02902585554981513,
          0.028316314007400298
         ],
         "yaxis": "y"
        },
        {
         "line": {
          "color": "rgb(245, 130, 49)",
          "width": 4
         },
         "mode": "lines",
         "name": "Affine",
         "showlegend": false,
         "type": "scatter",
         "x": [
          1,
          1.5,
          2,
          2.5,
          3,
          3.5,
          4,
          4.5,
          5,
          5.5,
          6,
          6.5,
          7,
          7.5,
          8,
          8.5,
          9,
          9.5,
          10
         ],
         "xaxis": "x",
         "y": [
          0.07129147685780077,
          0.050371222811628376,
          0.04253537876159188,
          0.041919871294629145,
          0.047089866173196104,
          0.05287176119959705,
          0.05916442721662081,
          0.06583353985969112,
          0.07197377517895455,
          0.07589635179121104,
          0.07982979240557922,
          0.08327417614783124,
          0.08644152672519205,
          0.08922710232558066,
          0.09169684406356692,
          0.09330698603263542,
          0.09535605404931184,
          0.09713172623767699,
          0.09852050390007001
         ],
         "yaxis": "y"
        },
        {
         "line": {
          "color": "rgb(70, 240, 240)",
          "width": 4
         },
         "mode": "lines",
         "name": "TempScal (dep. prev.)",
         "showlegend": false,
         "type": "scatter",
         "x": [
          1,
          1.5,
          2,
          2.5,
          3,
          3.5,
          4,
          4.5,
          5,
          5.5,
          6,
          6.5,
          7,
          7.5,
          8,
          8.5,
          9,
          9.5,
          10
         ],
         "xaxis": "x",
         "y": [
          0.04374087840429089,
          0.03513796911003421,
          0.04184115159481239,
          0.05393478616209282,
          0.06279510582900955,
          0.07099213209139908,
          0.07908128166179902,
          0.08268087670924533,
          0.08891811057630386,
          0.09157551937706147,
          0.0943806488683633,
          0.09830288093701368,
          0.10030857376845312,
          0.10177932063025132,
          0.1041094729469187,
          0.10550950294455852,
          0.10738854295271727,
          0.10819300055891422,
          0.10970337437110339
         ],
         "yaxis": "y"
        },
        {
         "line": {
          "color": "rgb(67, 99, 216)",
          "width": 4
         },
         "mode": "lines",
         "name": "TempScal",
         "showlegend": false,
         "type": "scatter",
         "x": [
          1,
          1.5,
          2,
          2.5,
          3,
          3.5,
          4,
          4.5,
          5,
          5.5,
          6,
          6.5,
          7,
          7.5,
          8,
          8.5,
          9,
          9.5,
          10
         ],
         "xaxis": "x",
         "y": [
          0.0492518466918459,
          0.037715254185442526,
          0.0430698222556221,
          0.054782351230576745,
          0.06571134084560781,
          0.07314183121382747,
          0.08167983007404342,
          0.08823049391186576,
          0.09493182096459839,
          0.09881742776322106,
          0.10276286584304387,
          0.10631861218364667,
          0.10986112242009363,
          0.11223960218152244,
          0.11487967797847963,
          0.11648502937572737,
          0.11852327985894502,
          0.12014064423818407,
          0.12174046941296453
         ],
         "yaxis": "y"
        },
        {
         "line": {
          "color": "rgb(230, 25, 75)",
          "width": 4
         },
         "mode": "lines",
         "name": "No re-calibration",
         "showlegend": false,
         "type": "scatter",
         "x": [
          1,
          1.5,
          2,
          2.5,
          3,
          3.5,
          4,
          4.5,
          5,
          5.5,
          6,
          6.5,
          7,
          7.5,
          8,
          8.5,
          9,
          9.5,
          10
         ],
         "xaxis": "x",
         "y": [
          0.06538952628749146,
          0.05382619723966067,
          0.053581138313034134,
          0.060268668500311644,
          0.0661891618919688,
          0.07249220232666406,
          0.07814662631402945,
          0.08118758292681758,
          0.08627007537830661,
          0.0897785320082725,
          0.09248763154326049,
          0.09606078730081621,
          0.09722419054716941,
          0.09907410530514772,
          0.1010459037239606,
          0.10302462320236792,
          0.10541942887650053,
          0.10627654730221296,
          0.10709051548942278
         ],
         "yaxis": "y"
        },
        {
         "fill": "toself",
         "fillcolor": "rgba(230, 25, 75, 0.15)",
         "line": {
          "color": "rgba(255,255,255,0)"
         },
         "mode": "lines",
         "name": "No re-calibration",
         "showlegend": false,
         "type": "scatter",
         "x": [
          1,
          1.5,
          2,
          2.5,
          3,
          3.5,
          4,
          4.5,
          5,
          5.5,
          6,
          6.5,
          7,
          7.5,
          8,
          8.5,
          9,
          9.5,
          10,
          10,
          9.5,
          9,
          8.5,
          8,
          7.5,
          7,
          6.5,
          6,
          5.5,
          5,
          4.5,
          4,
          3.5,
          3,
          2.5,
          2,
          1.5,
          1
         ],
         "xaxis": "x3",
         "y": [
          0.1918147692616626,
          0.1781594436669644,
          0.1684882512426984,
          0.1624382971180076,
          0.1576051728657039,
          0.15569180352476908,
          0.1528270352270101,
          0.1487025898426223,
          0.14631719241126157,
          0.1469982170563123,
          0.1448156465363466,
          0.14489547638968395,
          0.1419233186895548,
          0.14151591683606735,
          0.14038010980185864,
          0.1410505903702307,
          0.14017703256743286,
          0.13949769801803596,
          0.1395448876039156,
          0.02139755720672814,
          0.022076786360761907,
          0.021695283708600827,
          0.021593285403222078,
          0.021779031976000666,
          0.021922465204409047,
          0.021875222078969192,
          0.022075149386182213,
          0.021799355662419015,
          0.02245213260707194,
          0.023297836352394005,
          0.022811694026948423,
          0.02300125199766323,
          0.023647912547463984,
          0.023782702423564242,
          0.024166545873430464,
          0.02390711835524509,
          0.024051964120434935,
          0.02325041077344206
         ],
         "yaxis": "y3"
        },
        {
         "fill": "toself",
         "fillcolor": "rgba(67, 99, 216, 0.15)",
         "line": {
          "color": "rgba(255,255,255,0)"
         },
         "mode": "lines",
         "name": "TempScal",
         "showlegend": false,
         "type": "scatter",
         "x": [
          1,
          1.5,
          2,
          2.5,
          3,
          3.5,
          4,
          4.5,
          5,
          5.5,
          6,
          6.5,
          7,
          7.5,
          8,
          8.5,
          9,
          9.5,
          10,
          10,
          9.5,
          9,
          8.5,
          8,
          7.5,
          7,
          6.5,
          6,
          5.5,
          5,
          4.5,
          4,
          3.5,
          3,
          2.5,
          2,
          1.5,
          1
         ],
         "xaxis": "x3",
         "y": [
          0.18268925053314816,
          0.17141496765444741,
          0.1635581104656949,
          0.1585808234604868,
          0.15445784342636443,
          0.1531705133697399,
          0.15071367091115478,
          0.14729814860093188,
          0.1453367637198192,
          0.14586979558550067,
          0.14409081319793923,
          0.14423938740921394,
          0.14172579871663024,
          0.14143652338580923,
          0.1403784160928603,
          0.14098682105463886,
          0.1402833799171026,
          0.1396276986835997,
          0.1398485284808492,
          0.021154906320780174,
          0.02182300783186144,
          0.021319301702012503,
          0.021280828262676584,
          0.021460796741353844,
          0.021558362012265735,
          0.021606653865720332,
          0.021711164957149504,
          0.021416790362945498,
          0.022161846953925965,
          0.022983772971255333,
          0.02252452489477176,
          0.02271847783156751,
          0.023423100025882673,
          0.023578499561736674,
          0.024104225914411456,
          0.024085675553485036,
          0.024415766481756473,
          0.02407829936036017
         ],
         "yaxis": "y3"
        },
        {
         "fill": "toself",
         "fillcolor": "rgba(70, 240, 240, 0.15)",
         "line": {
          "color": "rgba(255,255,255,0)"
         },
         "mode": "lines",
         "name": "TempScal (dep. prev.)",
         "showlegend": false,
         "type": "scatter",
         "x": [
          1,
          1.5,
          2,
          2.5,
          3,
          3.5,
          4,
          4.5,
          5,
          5.5,
          6,
          6.5,
          7,
          7.5,
          8,
          8.5,
          9,
          9.5,
          10,
          10,
          9.5,
          9,
          8.5,
          8,
          7.5,
          7,
          6.5,
          6,
          5.5,
          5,
          4.5,
          4,
          3.5,
          3,
          2.5,
          2,
          1.5,
          1
         ],
         "xaxis": "x3",
         "y": [
          0.1799787589570787,
          0.17038592610582318,
          0.16323267188735024,
          0.1581934728090072,
          0.1539752418000394,
          0.1527615280290331,
          0.1501999944616275,
          0.14628179943365355,
          0.1439760491929516,
          0.1446286741963603,
          0.14262780210275713,
          0.14274709341427494,
          0.14003750275724758,
          0.13962023242980462,
          0.13857200528160374,
          0.13925418376955748,
          0.13826818490951287,
          0.1377212731763923,
          0.1375668629750392,
          0.021013553636666953,
          0.021581135351190515,
          0.021189844954377333,
          0.021110426800304498,
          0.02130452253802352,
          0.021438817925301924,
          0.021474789954747928,
          0.021610349925847698,
          0.021343451459340544,
          0.02207113177580603,
          0.022909840408010793,
          0.022484547900756185,
          0.02259344496289159,
          0.023345624506857413,
          0.023550428219249395,
          0.024090001820116794,
          0.024099384858691744,
          0.024575221094648214,
          0.024583427151202472
         ],
         "yaxis": "y3"
        },
        {
         "fill": "toself",
         "fillcolor": "rgba(245, 130, 49, 0.15)",
         "line": {
          "color": "rgba(255,255,255,0)"
         },
         "mode": "lines",
         "name": "Affine",
         "showlegend": false,
         "type": "scatter",
         "x": [
          1,
          1.5,
          2,
          2.5,
          3,
          3.5,
          4,
          4.5,
          5,
          5.5,
          6,
          6.5,
          7,
          7.5,
          8,
          8.5,
          9,
          9.5,
          10,
          10,
          9.5,
          9,
          8.5,
          8,
          7.5,
          7,
          6.5,
          6,
          5.5,
          5,
          4.5,
          4,
          3.5,
          3,
          2.5,
          2,
          1.5,
          1
         ],
         "xaxis": "x3",
         "y": [
          0.19784685626365817,
          0.17726704824306627,
          0.16374827765498154,
          0.15455746608392532,
          0.1472333241187605,
          0.14416216705445167,
          0.14007288985089086,
          0.13511475881847534,
          0.13218616483138293,
          0.13175516772455417,
          0.1289944700046376,
          0.12893749611686436,
          0.1255620807343863,
          0.12494860395225202,
          0.12361133136326982,
          0.12400054247776546,
          0.12250198363906067,
          0.12198800982864158,
          0.12167656761161869,
          0.016168941895040374,
          0.01665744708886762,
          0.016448113228989307,
          0.016379879008862203,
          0.016778084488637428,
          0.017414201790524907,
          0.01753582525219867,
          0.017754520628375924,
          0.018064145656927516,
          0.018730414083241324,
          0.020074912992412985,
          0.02004337139611763,
          0.020058792472232585,
          0.021538824924838496,
          0.021806411263072048,
          0.02262599223103101,
          0.022887075085812697,
          0.023244587809274866,
          0.022538841695973047
         ],
         "yaxis": "y3"
        },
        {
         "fill": "toself",
         "fillcolor": "rgba(240, 50, 230, 0.15)",
         "line": {
          "color": "rgba(255,255,255,0)"
         },
         "mode": "lines",
         "name": "Retraining (est. prev.)",
         "showlegend": false,
         "type": "scatter",
         "x": [
          1,
          1.5,
          2,
          2.5,
          3,
          3.5,
          4,
          4.5,
          5,
          5.5,
          6,
          6.5,
          7,
          7.5,
          8,
          8.5,
          9,
          9.5,
          10,
          10,
          9.5,
          9,
          8.5,
          8,
          7.5,
          7,
          6.5,
          6,
          5.5,
          5,
          4.5,
          4,
          3.5,
          3,
          2.5,
          2,
          1.5,
          1
         ],
         "xaxis": "x3",
         "y": [
          0.2008163886285207,
          0.19458205366242604,
          0.18152295891997772,
          0.16657751169096843,
          0.1565114639951779,
          0.1505324228330228,
          0.13759289190628263,
          0.12779006828947156,
          0.12394361678402628,
          0.12456664021584782,
          0.11899318629006796,
          0.10790531261149765,
          0.1197056142469287,
          0.10620228228496253,
          0.09759286600589931,
          0.0956566491702833,
          0.0945070277383466,
          0.09027202950411328,
          0.09051151340266206,
          0.021791133406595463,
          0.019647797268978272,
          0.023385191336494554,
          0.02172425556974969,
          0.020511876842061717,
          0.023683713331081886,
          0.02783630907733832,
          0.02498695623803908,
          0.027460116467125664,
          0.03257381373558546,
          0.027290731834864787,
          0.027900290846874974,
          0.030778761422527577,
          0.03254580221709875,
          0.03143270934038547,
          0.03264094219501898,
          0.03644787427787917,
          0.03503999646008708,
          0.040174993951729784
         ],
         "yaxis": "y3"
        },
        {
         "fill": "toself",
         "fillcolor": "rgba(145, 30, 180, 0.15)",
         "line": {
          "color": "rgba(255,255,255,0)"
         },
         "mode": "lines",
         "name": "Retraining (dep. prev.)",
         "showlegend": false,
         "type": "scatter",
         "x": [
          1,
          1.5,
          2,
          2.5,
          3,
          3.5,
          4,
          4.5,
          5,
          5.5,
          6,
          6.5,
          7,
          7.5,
          8,
          8.5,
          9,
          9.5,
          10,
          10,
          9.5,
          9,
          8.5,
          8,
          7.5,
          7,
          6.5,
          6,
          5.5,
          5,
          4.5,
          4,
          3.5,
          3,
          2.5,
          2,
          1.5,
          1
         ],
         "xaxis": "x3",
         "y": [
          0.21516611242122732,
          0.2023560644193653,
          0.19027401477525585,
          0.17569267580140308,
          0.157009798738591,
          0.16128940036871553,
          0.14821451068581665,
          0.1629172819136545,
          0.12596062701749294,
          0.11734505655292099,
          0.11179027962525007,
          0.12200619248397393,
          0.10709243906832216,
          0.11002758050002216,
          0.1038228977496512,
          0.0921349258143832,
          0.10772783066976922,
          0.09566568858490551,
          0.09050531610297241,
          0.021458790601296497,
          0.022196326189455988,
          0.01912266071986292,
          0.022429553506547684,
          0.024583827207134562,
          0.024021741490437967,
          0.022735444331315413,
          0.021578361211620288,
          0.025059643635880757,
          0.02452148350218005,
          0.03164241981604451,
          0.020919274514147088,
          0.025667229410053297,
          0.03454363168283538,
          0.029129820231552292,
          0.04248583226321015,
          0.036298726622090174,
          0.03806922748643518,
          0.04374587952029044
         ],
         "yaxis": "y3"
        },
        {
         "fill": "toself",
         "fillcolor": "rgba(128, 128, 0, 0.15)",
         "line": {
          "color": "rgba(255,255,255,0)"
         },
         "mode": "lines",
         "name": "Affine (est. prev.)",
         "showlegend": false,
         "type": "scatter",
         "x": [
          1,
          1.5,
          2,
          2.5,
          3,
          3.5,
          4,
          4.5,
          5,
          5.5,
          6,
          6.5,
          7,
          7.5,
          8,
          8.5,
          9,
          9.5,
          10,
          10,
          9.5,
          9,
          8.5,
          8,
          7.5,
          7,
          6.5,
          6,
          5.5,
          5,
          4.5,
          4,
          3.5,
          3,
          2.5,
          2,
          1.5,
          1
         ],
         "xaxis": "x3",
         "y": [
          0.17933026797385826,
          0.1720806026181026,
          0.1583185889256445,
          0.15172994947398377,
          0.13752542538370047,
          0.1334433697671522,
          0.1242161169772165,
          0.11564734202615437,
          0.10624323604272427,
          0.1066798074257717,
          0.09971539929692522,
          0.09772184163662151,
          0.09238061210172258,
          0.08925726365065981,
          0.08436568431064057,
          0.08264525633552333,
          0.08154740951572623,
          0.07670224813434492,
          0.07633956023914396,
          0.013480998332041978,
          0.01477156024628462,
          0.013662474127170303,
          0.014568021292854769,
          0.014959506497173591,
          0.015201780655941168,
          0.015600255238655304,
          0.015517754878725948,
          0.01703896076773461,
          0.017370218475395133,
          0.017679945665490013,
          0.019188381901421026,
          0.01968594082116952,
          0.02119131256460397,
          0.019281954204982972,
          0.022388845684801054,
          0.020798497625518733,
          0.023751342556569438,
          0.02139239827213546
         ],
         "yaxis": "y3"
        },
        {
         "fill": "toself",
         "fillcolor": "rgba(60, 180, 75, 0.15)",
         "line": {
          "color": "rgba(255,255,255,0)"
         },
         "mode": "lines",
         "name": "Affine (dep. prev.)",
         "showlegend": false,
         "type": "scatter",
         "x": [
          1,
          1.5,
          2,
          2.5,
          3,
          3.5,
          4,
          4.5,
          5,
          5.5,
          6,
          6.5,
          7,
          7.5,
          8,
          8.5,
          9,
          9.5,
          10,
          10,
          9.5,
          9,
          8.5,
          8,
          7.5,
          7,
          6.5,
          6,
          5.5,
          5,
          4.5,
          4,
          3.5,
          3,
          2.5,
          2,
          1.5,
          1
         ],
         "xaxis": "x3",
         "y": [
          0.17618136435786097,
          0.16865608117817943,
          0.1571791135081092,
          0.14655185263149867,
          0.136180315058302,
          0.12906682867735636,
          0.12105321204593943,
          0.11283569054002845,
          0.10625619707289598,
          0.10210819931232218,
          0.09660043635104333,
          0.09351516689282247,
          0.08789727390447902,
          0.08582317882493073,
          0.08135888202432748,
          0.0797123029692769,
          0.0768650300436225,
          0.07376378548216075,
          0.07254267545044395,
          0.014159662632087372,
          0.015085762348830321,
          0.01449049219920703,
          0.014763086492636378,
          0.015074243402909242,
          0.015546486374858608,
          0.016250979488696297,
          0.01607231537897743,
          0.017207020697126235,
          0.018021727338955275,
          0.019257327039292324,
          0.019327198381242555,
          0.01977324064611459,
          0.021315718455199105,
          0.021291065719858893,
          0.022495278393909725,
          0.02286893541256775,
          0.023606305927265245,
          0.0236337335299084
         ],
         "yaxis": "y3"
        },
        {
         "line": {
          "color": "rgb(60, 180, 75)",
          "width": 4
         },
         "mode": "lines",
         "name": "Affine (dep. prev.)",
         "showlegend": false,
         "type": "scatter",
         "x": [
          1,
          1.5,
          2,
          2.5,
          3,
          3.5,
          4,
          4.5,
          5,
          5.5,
          6,
          6.5,
          7,
          7.5,
          8,
          8.5,
          9,
          9.5,
          10
         ],
         "xaxis": "x3",
         "y": [
          0.09990754894388469,
          0.09613119355272233,
          0.09002402446033847,
          0.0845235655127042,
          0.07873569038908045,
          0.07519127356627774,
          0.07041322634602701,
          0.0660814444606355,
          0.06275676205609415,
          0.06006496332563873,
          0.05690372852408478,
          0.054793741135899944,
          0.05207412669658766,
          0.05068483259989467,
          0.048216562713618356,
          0.04723769473095664,
          0.045677761121414764,
          0.044424773915495534,
          0.04335116904126566
         ],
         "yaxis": "y3"
        },
        {
         "line": {
          "color": "rgb(128, 128, 0)",
          "width": 4
         },
         "mode": "lines",
         "name": "Affine (est. prev.)",
         "showlegend": false,
         "type": "scatter",
         "x": [
          1,
          1.5,
          2,
          2.5,
          3,
          3.5,
          4,
          4.5,
          5,
          5.5,
          6,
          6.5,
          7,
          7.5,
          8,
          8.5,
          9,
          9.5,
          10
         ],
         "xaxis": "x3",
         "y": [
          0.10036133312299686,
          0.09791597258733602,
          0.08955854327558162,
          0.08705939757939242,
          0.07840368979434172,
          0.07731734116587809,
          0.07195102889919301,
          0.0674178619637877,
          0.06196159085410714,
          0.062025012950583415,
          0.05837718003232992,
          0.05661979825767373,
          0.05399043367018894,
          0.052229522153300484,
          0.04966259540390708,
          0.04860663881418905,
          0.04760494182144827,
          0.04573690419031477,
          0.04491027928559296
         ],
         "yaxis": "y3"
        },
        {
         "line": {
          "color": "rgb(145, 30, 180)",
          "width": 4
         },
         "mode": "lines",
         "name": "Retraining (dep. prev.)",
         "showlegend": false,
         "type": "scatter",
         "x": [
          1,
          1.5,
          2,
          2.5,
          3,
          3.5,
          4,
          4.5,
          5,
          5.5,
          6,
          6.5,
          7,
          7.5,
          8,
          8.5,
          9,
          9.5,
          10
         ],
         "xaxis": "x3",
         "y": [
          0.12945599597075888,
          0.12021264595290024,
          0.11328637069867302,
          0.10908925403230661,
          0.09306980948507164,
          0.09791651602577545,
          0.08694087004793496,
          0.09191827821390079,
          0.07880152341676873,
          0.07093327002755052,
          0.06842496163056541,
          0.07179227684779711,
          0.06491394169981879,
          0.06702466099523006,
          0.06420336247839288,
          0.057282239660465445,
          0.06342524569481607,
          0.05893100738718075,
          0.05598205335213446
         ],
         "yaxis": "y3"
        },
        {
         "line": {
          "color": "rgb(240, 50, 230)",
          "width": 4
         },
         "mode": "lines",
         "name": "Retraining (est. prev.)",
         "showlegend": false,
         "type": "scatter",
         "x": [
          1,
          1.5,
          2,
          2.5,
          3,
          3.5,
          4,
          4.5,
          5,
          5.5,
          6,
          6.5,
          7,
          7.5,
          8,
          8.5,
          9,
          9.5,
          10
         ],
         "xaxis": "x3",
         "y": [
          0.12049569129012523,
          0.11481102506125655,
          0.10898541659892845,
          0.0996092269429937,
          0.09397208666778169,
          0.09153911252506076,
          0.0841858266644051,
          0.07784517956817327,
          0.07561717430944553,
          0.07857022697571664,
          0.07322665137859681,
          0.06644613442476836,
          0.07377096166213351,
          0.06494299780802221,
          0.05905237142398051,
          0.058690452370016494,
          0.05894610953742058,
          0.05495991338654578,
          0.05615132340462876
         ],
         "yaxis": "y3"
        },
        {
         "line": {
          "color": "rgb(245, 130, 49)",
          "width": 4
         },
         "mode": "lines",
         "name": "Affine",
         "showlegend": false,
         "type": "scatter",
         "x": [
          1,
          1.5,
          2,
          2.5,
          3,
          3.5,
          4,
          4.5,
          5,
          5.5,
          6,
          6.5,
          7,
          7.5,
          8,
          8.5,
          9,
          9.5,
          10
         ],
         "xaxis": "x3",
         "y": [
          0.11019284897981561,
          0.10025581802617058,
          0.09331767637039712,
          0.08859172915747816,
          0.08451986769091628,
          0.08285049598964508,
          0.08006584116156172,
          0.07757906510729648,
          0.07613053891189796,
          0.07524279090389775,
          0.07352930783078256,
          0.07334600837262015,
          0.07154895299329249,
          0.07118140287138847,
          0.07019470792595363,
          0.07019021074331383,
          0.069475048434025,
          0.0693227284587546,
          0.06892275475332953
         ],
         "yaxis": "y3"
        },
        {
         "line": {
          "color": "rgb(70, 240, 240)",
          "width": 4
         },
         "mode": "lines",
         "name": "TempScal (dep. prev.)",
         "showlegend": false,
         "type": "scatter",
         "x": [
          1,
          1.5,
          2,
          2.5,
          3,
          3.5,
          4,
          4.5,
          5,
          5.5,
          6,
          6.5,
          7,
          7.5,
          8,
          8.5,
          9,
          9.5,
          10
         ],
         "xaxis": "x3",
         "y": [
          0.1022810930541406,
          0.0974805736002357,
          0.093666028373021,
          0.09114173731456199,
          0.08876283500964441,
          0.08805357626794526,
          0.08639671971225954,
          0.08438317366720487,
          0.08344294480048119,
          0.08334990298608316,
          0.08198562678104884,
          0.08217872167006132,
          0.08075614635599775,
          0.08052952517755327,
          0.07993826390981362,
          0.08018230528493099,
          0.0797290149319451,
          0.07965120426379141,
          0.07929020830585308
         ],
         "yaxis": "y3"
        },
        {
         "line": {
          "color": "rgb(67, 99, 216)",
          "width": 4
         },
         "mode": "lines",
         "name": "TempScal",
         "showlegend": false,
         "type": "scatter",
         "x": [
          1,
          1.5,
          2,
          2.5,
          3,
          3.5,
          4,
          4.5,
          5,
          5.5,
          6,
          6.5,
          7,
          7.5,
          8,
          8.5,
          9,
          9.5,
          10
         ],
         "xaxis": "x3",
         "y": [
          0.10338377494675416,
          0.09791536706810194,
          0.09382189300958997,
          0.09134252468744912,
          0.08901817149405056,
          0.0882968066978113,
          0.08671607437136115,
          0.08491133674785183,
          0.08416026834553728,
          0.08401582126971333,
          0.08275380178044237,
          0.08297527618318172,
          0.08166622629117529,
          0.08149744269903748,
          0.08091960641710708,
          0.08113382465865772,
          0.08080134080955756,
          0.08072535325773057,
          0.08050171740081469
         ],
         "yaxis": "y3"
        },
        {
         "line": {
          "color": "rgb(230, 25, 75)",
          "width": 4
         },
         "mode": "lines",
         "name": "No re-calibration",
         "showlegend": false,
         "type": "scatter",
         "x": [
          1,
          1.5,
          2,
          2.5,
          3,
          3.5,
          4,
          4.5,
          5,
          5.5,
          6,
          6.5,
          7,
          7.5,
          8,
          8.5,
          9,
          9.5,
          10
         ],
         "xaxis": "x3",
         "y": [
          0.10753259001755233,
          0.10110570389369967,
          0.09619768479897174,
          0.09330242149571905,
          0.09069393764463407,
          0.08966985803611653,
          0.08791414361233667,
          0.08575714193478536,
          0.08480751438182778,
          0.08472517483169212,
          0.08330750109938281,
          0.08348531288793308,
          0.081899270384262,
          0.0817191910202382,
          0.08107957088892966,
          0.0813219378867264,
          0.08093615813801684,
          0.08078724218939894,
          0.08047122240532187
         ],
         "yaxis": "y3"
        },
        {
         "boxpoints": "all",
         "jitter": 0.5,
         "marker": {
          "color": "rgb(230, 25, 75)",
          "opacity": 0.6
         },
         "name": "No re-calibration",
         "pointpos": 0,
         "type": "box",
         "whiskerwidth": 0.2,
         "xaxis": "x2",
         "y": [
          0.0315101735820002,
          0.0349637920070376,
          0.1234604144587735,
          0.1006817412094853,
          0.1756087564155024,
          0.1646851012575876,
          0.1518432410458499,
          0.0676650826834175,
          0.2216619944443189,
          0.1606822055612723,
          0.0557628892947459,
          0.0122686384738746,
          0.0154305481117137,
          0.082598465833625,
          0.2733334737278304,
          0.0679441900681873,
          0.0097083124603569,
          0.0033696501949495,
          0.0483901264347166,
          0.0561333425158061,
          0.007108420224708,
          0.1340151623834129,
          0.2410308920347476,
          0.1373287036199758,
          0.1573035025051926,
          0.2088939295956372,
          0.2784295974138507,
          0.1695223616396636,
          0.0005169281208714,
          0.0208638273635717
         ],
         "yaxis": "y2"
        },
        {
         "boxpoints": "all",
         "jitter": 0.5,
         "marker": {
          "color": "rgb(67, 99, 216)",
          "opacity": 0.6
         },
         "name": "TempScal",
         "pointpos": 0,
         "type": "box",
         "whiskerwidth": 0.2,
         "xaxis": "x2",
         "y": [
          0.0374008985041421,
          0.0420276764045478,
          0.1267803389339774,
          0.1019103000084969,
          0.1632276265669222,
          0.169948709664463,
          0.1932951330999348,
          0.0540399370746475,
          0.2666805433236483,
          0.1945912316617475,
          0.0645190251829921,
          0.0140704192740671,
          0.0175583548416291,
          0.0695145549490296,
          0.2943796970094871,
          0.0866237828209771,
          0.0095667332894896,
          0.0034292887855602,
          0.0586014179006704,
          0.0698378747825396,
          0.0047159889574449,
          0.1946557978729579,
          0.27831053124457,
          0.1896927029027132,
          0.2015602378377445,
          0.2201804669882952,
          0.3013459472293905,
          0.2017345201973384,
          0.0006973727024736,
          0.021316972377039
         ],
         "yaxis": "y2"
        },
        {
         "boxpoints": "all",
         "jitter": 0.5,
         "marker": {
          "color": "rgb(70, 240, 240)",
          "opacity": 0.6
         },
         "name": "TempScal (dep. prev.)",
         "pointpos": 0,
         "type": "box",
         "whiskerwidth": 0.2,
         "xaxis": "x2",
         "y": [
          0.0296718022331842,
          0.0413355794384938,
          0.1238609584328364,
          0.0773817196530659,
          0.1507894435598702,
          0.1272644193870671,
          0.1698552572795394,
          0.0430480840400671,
          0.2260444418165912,
          0.1783524488340788,
          0.0673133975792736,
          0.0144875595705222,
          0.0182509057492776,
          0.0694789585157212,
          0.2610593129003655,
          0.0853860538390963,
          0.0110726948799283,
          0.0033914352815716,
          0.0544286384254835,
          0.0695585739284684,
          0.004698375738336,
          0.1548557156609663,
          0.2559576697450205,
          0.1510731655436049,
          0.1756883890051784,
          0.2200942042079073,
          0.3042131970495843,
          0.1812278153615567,
          0.0006960624882348,
          0.0205649509882103
         ],
         "yaxis": "y2"
        },
        {
         "boxpoints": "all",
         "jitter": 0.5,
         "marker": {
          "color": "rgb(245, 130, 49)",
          "opacity": 0.6
         },
         "name": "Affine",
         "pointpos": 0,
         "type": "box",
         "whiskerwidth": 0.2,
         "xaxis": "x2",
         "y": [
          0.0461971251700922,
          0.0216183292970782,
          0.0884524448879352,
          0.1015392098142451,
          0.096528047885066,
          0.1530668042120033,
          0.0931604108861083,
          0.059614176338495,
          0.1819447873603157,
          0.1107750958794234,
          0.0558082875712789,
          0.014321516944468,
          0.0139462070934939,
          0.0410095256080115,
          0.3485800636117306,
          0.0884475811490428,
          0.0088348302162152,
          0.0030630021638043,
          0.0336683031712543,
          0.0655977357141406,
          0.0050454116746195,
          0.1821132110368034,
          0.2012431957339246,
          0.1784452393570136,
          0.1340940183368192,
          0.1813026631712147,
          0.2578679670250625,
          0.172044829761151,
          0.0004442659307094,
          0.0168408300005802
         ],
         "yaxis": "y2"
        },
        {
         "boxpoints": "all",
         "jitter": 0.5,
         "marker": {
          "color": "rgb(240, 50, 230)",
          "opacity": 0.6
         },
         "name": "Retraining (est. prev.)",
         "pointpos": 0,
         "type": "box",
         "whiskerwidth": 0.2,
         "xaxis": "x2",
         "y": [
          0.0113417307678596,
          0.0219979306687928,
          0.0254549921100353,
          0.0120348201754094,
          0.0087423315618798,
          0.0154307041712392,
          0.0363967918061245,
          0.0329869808590156,
          0.0357681685626564,
          0.0283197767321829,
          0.0153109199990441,
          0.0075134989417559,
          0.0125308394024322,
          0.073642238384273,
          0.0194670499202985,
          0.0379086639225662,
          0.0080146922094916,
          0.0029181676027107,
          0.0246712749586035,
          0.0450729143179851,
          0.0329317854354993,
          0.0376434838143224,
          0.0258815042320339,
          0.024762495688658,
          0.0396073567664227,
          0.0825877853172242,
          0.0738466629731676,
          0.0253867046924879,
          0.0186539595133401,
          0.0126631947144965
         ],
         "yaxis": "y2"
        },
        {
         "boxpoints": "all",
         "jitter": 0.5,
         "marker": {
          "color": "rgb(145, 30, 180)",
          "opacity": 0.6
         },
         "name": "Retraining (dep. prev.)",
         "pointpos": 0,
         "type": "box",
         "whiskerwidth": 0.2,
         "xaxis": "x2",
         "y": [
          0.0056972579548772,
          0.0135076437829011,
          0.0163424671581525,
          0.0145240891162077,
          0.0279867017558242,
          0.0440424442949111,
          0.0484317070568929,
          0.0323968521873468,
          0.0468032035693438,
          0.0257470535127168,
          0.012770572209007,
          0.002812018216232,
          0.0098309867365444,
          0,
          0.0391113583034681,
          0.0302646385978491,
          0.0060033893612094,
          0.0026570288661299,
          0.0391184635397107,
          0.0271897712391155,
          0.0946577611039153,
          0.0414125647475514,
          0.028946452726528,
          0.010140966192722,
          0.052367618555242,
          0.0637334850220001,
          0.0234986113906978,
          0.0141325475399564,
          0.0618757349373379,
          0.0235688757031967
         ],
         "yaxis": "y2"
        },
        {
         "boxpoints": "all",
         "jitter": 0.5,
         "marker": {
          "color": "rgb(128, 128, 0)",
          "opacity": 0.6
         },
         "name": "Affine (est. prev.)",
         "pointpos": 0,
         "type": "box",
         "whiskerwidth": 0.2,
         "xaxis": "x2",
         "y": [
          0.008477515209131,
          0.00831955450985,
          0.0061279697515444,
          0.0083208337296525,
          0.0066557209991857,
          0.0080968181982017,
          0.0340675163260186,
          0.0034216176232067,
          0.0324028219292425,
          0.018788782228067,
          0.0031655401264745,
          0.0019754964887383,
          0.0109650534721999,
          0.088434449516921,
          0.0494352216082297,
          0.0172215064400111,
          0.0033669934348592,
          0.0031933043018329,
          0.0168499776290665,
          0.0089833473967753,
          0.0049817540800199,
          0.0301048842149132,
          0.0265187421695803,
          0.0407852064665268,
          0.1051302829403887,
          0.0574178427828327,
          0.0436217585913218,
          0.0240370697120293,
          0.0004553112126288,
          0.0141673765203069
         ],
         "yaxis": "y2"
        },
        {
         "boxpoints": "all",
         "jitter": 0.5,
         "marker": {
          "color": "rgb(60, 180, 75)",
          "opacity": 0.6
         },
         "name": "Affine (dep. prev.)",
         "pointpos": 0,
         "type": "box",
         "whiskerwidth": 0.2,
         "xaxis": "x2",
         "y": [
          0.0085246197511272,
          0.0087247158567322,
          0.0055804443022622,
          0.0102686060019863,
          0.0071895799283561,
          0.0061396040999997,
          0.0056322827796847,
          0.0030528126920091,
          0.0167555667401839,
          0.0048861208624893,
          0.003421912480207,
          0.0019816062385166,
          0.0111640997660279,
          0.0413150390573775,
          0.0083960523515226,
          0.0165496786506953,
          0.0034150590519455,
          0.0031919730112165,
          0.0141593344281305,
          0.0078631444151878,
          0.0046912210028477,
          0.0182493191077578,
          0.0256633565182743,
          0.0387972978767336,
          0.0242516873884537,
          0.06408908381132,
          0.0175927820272716,
          0.0285319744919756,
          0.0004553111889168,
          0.0143295918336249
         ],
         "yaxis": "y2"
        },
        {
         "boxpoints": "all",
         "jitter": 0.5,
         "marker": {
          "color": "rgb(230, 25, 75)",
          "opacity": 0.6
         },
         "name": "No re-calibration",
         "pointpos": 0,
         "showlegend": false,
         "type": "box",
         "whiskerwidth": 0.2,
         "xaxis": "x4",
         "y": [
          0.0234505236148834,
          0.0272434577345848,
          0.0902991071343422,
          0.0614197887480258,
          0.1020071506500244,
          0.1094626635313034,
          0.1434656083583831,
          0.0460912697017192,
          0.1566931158304214,
          0.1320082545280456,
          0.0437880419194698,
          0.0091661596670746,
          0.0105335703119635,
          0.1202095821499824,
          0.1724629700183868,
          0.054662138223648,
          0.0092224860563874,
          0.0018116433639079,
          0.0466262586414814,
          0.0426075160503387,
          0.0088922809809446,
          0.1025506630539894,
          0.1486663669347763,
          0.123219110071659,
          0.1325980424880981,
          0.1735956966876983,
          0.192890003323555,
          0.1103167161345481,
          0.0002473439089953,
          0.0179291423410177
         ],
         "yaxis": "y4"
        },
        {
         "boxpoints": "all",
         "jitter": 0.5,
         "marker": {
          "color": "rgb(67, 99, 216)",
          "opacity": 0.6
         },
         "name": "TempScal",
         "pointpos": 0,
         "showlegend": false,
         "type": "box",
         "whiskerwidth": 0.2,
         "xaxis": "x4",
         "y": [
          0.0231893323361873,
          0.0257175136357545,
          0.0902278423309326,
          0.0615759678184986,
          0.1001417934894561,
          0.1103134080767631,
          0.1399099230766296,
          0.0450686588883399,
          0.162653163075447,
          0.1299937069416046,
          0.0420602560043334,
          0.0090170828625559,
          0.0105185694992542,
          0.1151541993021965,
          0.1767534017562866,
          0.0509665235877037,
          0.0092727467417716,
          0.0033696785103529,
          0.0453816056251525,
          0.0422531627118587,
          0.0084336837753653,
          0.1078369095921516,
          0.1561635881662368,
          0.1254172027111053,
          0.1310997605323791,
          0.1694112867116928,
          0.189643383026123,
          0.1127520054578781,
          0.0006905845948494,
          0.0200645811855793
         ],
         "yaxis": "y4"
        },
        {
         "boxpoints": "all",
         "jitter": 0.5,
         "marker": {
          "color": "rgb(70, 240, 240)",
          "opacity": 0.6
         },
         "name": "TempScal (dep. prev.)",
         "pointpos": 0,
         "showlegend": false,
         "type": "box",
         "whiskerwidth": 0.2,
         "xaxis": "x4",
         "y": [
          0.0236555989831686,
          0.0257842577993869,
          0.0902845561504364,
          0.0594777017831802,
          0.0989147648215293,
          0.1062341555953025,
          0.1394833922386169,
          0.0448885336518287,
          0.1567954421043396,
          0.1296136826276779,
          0.0419304035604,
          0.0090177170932292,
          0.0105185071006417,
          0.1151408478617668,
          0.1712669432163238,
          0.0510163679718971,
          0.0089219780638813,
          0.0033007825259119,
          0.0455837696790695,
          0.0422397442162036,
          0.008428824134171,
          0.1025870069861412,
          0.1509498208761215,
          0.1228063628077507,
          0.129886507987976,
          0.1694374084472656,
          0.1895647644996643,
          0.1103937104344368,
          0.0006880140863358,
          0.0198946818709373
         ],
         "yaxis": "y4"
        },
        {
         "boxpoints": "all",
         "jitter": 0.5,
         "marker": {
          "color": "rgb(245, 130, 49)",
          "opacity": 0.6
         },
         "name": "Affine",
         "pointpos": 0,
         "showlegend": false,
         "type": "box",
         "whiskerwidth": 0.2,
         "xaxis": "x4",
         "y": [
          0.0276953735859422,
          0.0161169492326326,
          0.0738941546636671,
          0.0614235981380645,
          0.0711043703621159,
          0.1016708474431328,
          0.0907478885812654,
          0.0468730865740203,
          0.1145819562718449,
          0.0894227152768774,
          0.0379849097951429,
          0.0091257287893345,
          0.0100637224438754,
          0.1058076046857849,
          0.2171606362370816,
          0.0517958562472984,
          0.0089177459370195,
          0.0027818489291886,
          0.0346973437355826,
          0.0404327802536474,
          0.0084298163087729,
          0.1010272068582362,
          0.1111067949871204,
          0.1190028115290683,
          0.0941035601135087,
          0.14684724928112,
          0.1629664181956189,
          0.0958747902114823,
          0.0003748530138545,
          0.0156500249175842
         ],
         "yaxis": "y4"
        },
        {
         "boxpoints": "all",
         "jitter": 0.5,
         "marker": {
          "color": "rgb(240, 50, 230)",
          "opacity": 0.6
         },
         "name": "Retraining (est. prev.)",
         "pointpos": 0,
         "showlegend": false,
         "type": "box",
         "whiskerwidth": 0.2,
         "xaxis": "x4",
         "y": [
          0.0096520809456706,
          0.019963102415204,
          0.0590359754860401,
          0.0456575341522693,
          0.0551609434187412,
          0.0657819584012031,
          0.0783765017986297,
          0.0500562116503715,
          0.0793783590197563,
          0.0743662863969802,
          0.0223596431314945,
          0.0069531206972897,
          0.0104889459908008,
          0.1235488504171371,
          0.0793381556868553,
          0.0407474376261234,
          0.0064894179813563,
          0.0019255423685535,
          0.0816161334514617,
          0.0980059877038002,
          0.0438669361174106,
          0.0601812973618507,
          0.0609389767050743,
          0.0608429089188575,
          0.0794571712613105,
          0.0833202600479126,
          0.07789096981287,
          0.0507582165300846,
          0.1443974673748016,
          0.0139833092689514
         ],
         "yaxis": "y4"
        },
        {
         "boxpoints": "all",
         "jitter": 0.5,
         "marker": {
          "color": "rgb(145, 30, 180)",
          "opacity": 0.6
         },
         "name": "Retraining (dep. prev.)",
         "pointpos": 0,
         "showlegend": false,
         "type": "box",
         "whiskerwidth": 0.2,
         "xaxis": "x4",
         "y": [
          0.0062843086197972,
          0.0145164877176284,
          0.0595851466059684,
          0.0465163514018058,
          0.0588803179562091,
          0.0731458812952041,
          0.0781732499599456,
          0.0450059287250041,
          0.083587422966957,
          0.0726808011531829,
          0.0234910640865564,
          0.0090220188722014,
          0.0098657654598355,
          null,
          0.0777316018939018,
          0.0411513894796371,
          0.0057436879724264,
          0.0015668657142668,
          0.0657261833548545,
          0.0937111154198646,
          0.1105060949921608,
          0.0658999010920524,
          0.0714883804321289,
          0.0536202192306518,
          0.0799071416258812,
          0.0840122401714325,
          0.0748874843120575,
          0.0495595037937164,
          0.1492987871170044,
          0.017914205789566
         ],
         "yaxis": "y4"
        },
        {
         "boxpoints": "all",
         "jitter": 0.5,
         "marker": {
          "color": "rgb(128, 128, 0)",
          "opacity": 0.6
         },
         "name": "Affine (est. prev.)",
         "pointpos": 0,
         "showlegend": false,
         "type": "box",
         "whiskerwidth": 0.2,
         "xaxis": "x4",
         "y": [
          0.0133942539302852,
          0.0116896828639262,
          0.0562555924134982,
          0.0426583707143068,
          0.055696913921082,
          0.06786333248893,
          0.080223926149507,
          0.0376337860029658,
          0.0792181686674551,
          0.0719186100825411,
          0.0215308563720594,
          0.0053695036785676,
          0.0107272544944432,
          0.121161261874058,
          0.0796415495767984,
          0.0273985360187043,
          0.0077456258401528,
          0.0029775826001049,
          0.0298703769778685,
          0.0243797722283056,
          0.0084707307657338,
          0.0519112644921131,
          0.0628488422446287,
          0.0710295027068145,
          0.0842236101498427,
          0.07909805931453,
          0.0780953904601631,
          0.0499104247694466,
          0.0003809172416929,
          0.0139846795272631
         ],
         "yaxis": "y4"
        },
        {
         "boxpoints": "all",
         "jitter": 0.5,
         "marker": {
          "color": "rgb(60, 180, 75)",
          "opacity": 0.6
         },
         "name": "Affine (dep. prev.)",
         "pointpos": 0,
         "showlegend": false,
         "type": "box",
         "whiskerwidth": 0.2,
         "xaxis": "x4",
         "y": [
          0.0134357484549363,
          0.0116985665783749,
          0.0562314779529204,
          0.0425269361425206,
          0.0557753505898553,
          0.0678178047978993,
          0.0782858834667039,
          0.0376520326869824,
          0.0774371194607751,
          0.0710887039547293,
          0.0215289946348399,
          0.00536967139797,
          0.0104431984343521,
          0.1057333846968777,
          0.0757497643249522,
          0.0276024489557487,
          0.0077551496682431,
          0.0029755415157265,
          0.0292022050949152,
          0.0244135277601471,
          0.008426249721468,
          0.0518612736170874,
          0.0626353732577358,
          0.0737661981846616,
          0.0670865024562153,
          0.0767696309148647,
          0.0733748022750129,
          0.0495129485198831,
          0.0003809172288171,
          0.0139976644927539
         ],
         "yaxis": "y4"
        },
        {
         "line": {
          "color": "rgb(60, 180, 75)",
          "width": 4
         },
         "mode": "lines",
         "name": "Affine (dep. prev.)",
         "showlegend": false,
         "type": "scatter",
         "x": [
          1,
          1.5,
          2,
          2.5,
          3,
          3.5,
          4,
          4.5,
          5,
          5.5,
          6,
          6.5,
          7,
          7.5,
          8,
          8.5,
          9,
          9.5,
          10
         ],
         "xaxis": "x3",
         "y": [
          0.09990754894388469,
          0.09613119355272233,
          0.09002402446033847,
          0.0845235655127042,
          0.07873569038908045,
          0.07519127356627774,
          0.07041322634602701,
          0.0660814444606355,
          0.06275676205609415,
          0.06006496332563873,
          0.05690372852408478,
          0.054793741135899944,
          0.05207412669658766,
          0.05068483259989467,
          0.048216562713618356,
          0.04723769473095664,
          0.045677761121414764,
          0.044424773915495534,
          0.04335116904126566
         ],
         "yaxis": "y3"
        }
       ],
       "layout": {
        "annotations": [
         {
          "bgcolor": "white",
          "bordercolor": "black",
          "borderwidth": 1,
          "font": {
           "color": "black",
           "size": 20
          },
          "showarrow": false,
          "text": "IR=10",
          "x": 1,
          "xanchor": "right",
          "xref": "paper",
          "y": 1,
          "yanchor": "top",
          "yref": "paper"
         },
         {
          "bgcolor": "white",
          "bordercolor": "black",
          "borderwidth": 1,
          "font": {
           "color": "black",
           "size": 20
          },
          "showarrow": false,
          "text": "IR=10",
          "x": 1,
          "xanchor": "right",
          "xref": "paper",
          "y": 0.49,
          "yanchor": "top",
          "yref": "paper"
         }
        ],
        "autosize": false,
        "font": {
         "family": "NewComputerModern10",
         "size": 20
        },
        "height": 800,
        "images": [
         {
          "sizex": 0.08,
          "sizey": 0.08,
          "source": "/home/p079i/Projects/prevalences/data/little_guys_balanced.png",
          "x": 0,
          "xanchor": "left",
          "xref": "paper",
          "y": -0.04,
          "yanchor": "top",
          "yref": "paper"
         },
         {
          "sizex": 0.08,
          "sizey": 0.08,
          "source": "/home/p079i/Projects/prevalences/data/little_guys_high_ir.png",
          "x": 0.48,
          "xanchor": "right",
          "xref": "paper",
          "y": -0.04,
          "yanchor": "top",
          "yref": "paper"
         }
        ],
        "legend": {
         "font": {
          "size": 30
         },
         "itemsizing": "constant"
        },
        "margin": {
         "t": 10
        },
        "template": {
         "data": {
          "bar": [
           {
            "error_x": {
             "color": "#2a3f5f"
            },
            "error_y": {
             "color": "#2a3f5f"
            },
            "marker": {
             "line": {
              "color": "white",
              "width": 0.5
             },
             "pattern": {
              "fillmode": "overlay",
              "size": 10,
              "solidity": 0.2
             }
            },
            "type": "bar"
           }
          ],
          "barpolar": [
           {
            "marker": {
             "line": {
              "color": "white",
              "width": 0.5
             },
             "pattern": {
              "fillmode": "overlay",
              "size": 10,
              "solidity": 0.2
             }
            },
            "type": "barpolar"
           }
          ],
          "carpet": [
           {
            "aaxis": {
             "endlinecolor": "#2a3f5f",
             "gridcolor": "#C8D4E3",
             "linecolor": "#C8D4E3",
             "minorgridcolor": "#C8D4E3",
             "startlinecolor": "#2a3f5f"
            },
            "baxis": {
             "endlinecolor": "#2a3f5f",
             "gridcolor": "#C8D4E3",
             "linecolor": "#C8D4E3",
             "minorgridcolor": "#C8D4E3",
             "startlinecolor": "#2a3f5f"
            },
            "type": "carpet"
           }
          ],
          "choropleth": [
           {
            "colorbar": {
             "outlinewidth": 0,
             "ticks": ""
            },
            "type": "choropleth"
           }
          ],
          "contour": [
           {
            "colorbar": {
             "outlinewidth": 0,
             "ticks": ""
            },
            "colorscale": [
             [
              0,
              "#0d0887"
             ],
             [
              0.1111111111111111,
              "#46039f"
             ],
             [
              0.2222222222222222,
              "#7201a8"
             ],
             [
              0.3333333333333333,
              "#9c179e"
             ],
             [
              0.4444444444444444,
              "#bd3786"
             ],
             [
              0.5555555555555556,
              "#d8576b"
             ],
             [
              0.6666666666666666,
              "#ed7953"
             ],
             [
              0.7777777777777778,
              "#fb9f3a"
             ],
             [
              0.8888888888888888,
              "#fdca26"
             ],
             [
              1,
              "#f0f921"
             ]
            ],
            "type": "contour"
           }
          ],
          "contourcarpet": [
           {
            "colorbar": {
             "outlinewidth": 0,
             "ticks": ""
            },
            "type": "contourcarpet"
           }
          ],
          "heatmap": [
           {
            "colorbar": {
             "outlinewidth": 0,
             "ticks": ""
            },
            "colorscale": [
             [
              0,
              "#0d0887"
             ],
             [
              0.1111111111111111,
              "#46039f"
             ],
             [
              0.2222222222222222,
              "#7201a8"
             ],
             [
              0.3333333333333333,
              "#9c179e"
             ],
             [
              0.4444444444444444,
              "#bd3786"
             ],
             [
              0.5555555555555556,
              "#d8576b"
             ],
             [
              0.6666666666666666,
              "#ed7953"
             ],
             [
              0.7777777777777778,
              "#fb9f3a"
             ],
             [
              0.8888888888888888,
              "#fdca26"
             ],
             [
              1,
              "#f0f921"
             ]
            ],
            "type": "heatmap"
           }
          ],
          "heatmapgl": [
           {
            "colorbar": {
             "outlinewidth": 0,
             "ticks": ""
            },
            "colorscale": [
             [
              0,
              "#0d0887"
             ],
             [
              0.1111111111111111,
              "#46039f"
             ],
             [
              0.2222222222222222,
              "#7201a8"
             ],
             [
              0.3333333333333333,
              "#9c179e"
             ],
             [
              0.4444444444444444,
              "#bd3786"
             ],
             [
              0.5555555555555556,
              "#d8576b"
             ],
             [
              0.6666666666666666,
              "#ed7953"
             ],
             [
              0.7777777777777778,
              "#fb9f3a"
             ],
             [
              0.8888888888888888,
              "#fdca26"
             ],
             [
              1,
              "#f0f921"
             ]
            ],
            "type": "heatmapgl"
           }
          ],
          "histogram": [
           {
            "marker": {
             "pattern": {
              "fillmode": "overlay",
              "size": 10,
              "solidity": 0.2
             }
            },
            "type": "histogram"
           }
          ],
          "histogram2d": [
           {
            "colorbar": {
             "outlinewidth": 0,
             "ticks": ""
            },
            "colorscale": [
             [
              0,
              "#0d0887"
             ],
             [
              0.1111111111111111,
              "#46039f"
             ],
             [
              0.2222222222222222,
              "#7201a8"
             ],
             [
              0.3333333333333333,
              "#9c179e"
             ],
             [
              0.4444444444444444,
              "#bd3786"
             ],
             [
              0.5555555555555556,
              "#d8576b"
             ],
             [
              0.6666666666666666,
              "#ed7953"
             ],
             [
              0.7777777777777778,
              "#fb9f3a"
             ],
             [
              0.8888888888888888,
              "#fdca26"
             ],
             [
              1,
              "#f0f921"
             ]
            ],
            "type": "histogram2d"
           }
          ],
          "histogram2dcontour": [
           {
            "colorbar": {
             "outlinewidth": 0,
             "ticks": ""
            },
            "colorscale": [
             [
              0,
              "#0d0887"
             ],
             [
              0.1111111111111111,
              "#46039f"
             ],
             [
              0.2222222222222222,
              "#7201a8"
             ],
             [
              0.3333333333333333,
              "#9c179e"
             ],
             [
              0.4444444444444444,
              "#bd3786"
             ],
             [
              0.5555555555555556,
              "#d8576b"
             ],
             [
              0.6666666666666666,
              "#ed7953"
             ],
             [
              0.7777777777777778,
              "#fb9f3a"
             ],
             [
              0.8888888888888888,
              "#fdca26"
             ],
             [
              1,
              "#f0f921"
             ]
            ],
            "type": "histogram2dcontour"
           }
          ],
          "mesh3d": [
           {
            "colorbar": {
             "outlinewidth": 0,
             "ticks": ""
            },
            "type": "mesh3d"
           }
          ],
          "parcoords": [
           {
            "line": {
             "colorbar": {
              "outlinewidth": 0,
              "ticks": ""
             }
            },
            "type": "parcoords"
           }
          ],
          "pie": [
           {
            "automargin": true,
            "type": "pie"
           }
          ],
          "scatter": [
           {
            "fillpattern": {
             "fillmode": "overlay",
             "size": 10,
             "solidity": 0.2
            },
            "type": "scatter"
           }
          ],
          "scatter3d": [
           {
            "line": {
             "colorbar": {
              "outlinewidth": 0,
              "ticks": ""
             }
            },
            "marker": {
             "colorbar": {
              "outlinewidth": 0,
              "ticks": ""
             }
            },
            "type": "scatter3d"
           }
          ],
          "scattercarpet": [
           {
            "marker": {
             "colorbar": {
              "outlinewidth": 0,
              "ticks": ""
             }
            },
            "type": "scattercarpet"
           }
          ],
          "scattergeo": [
           {
            "marker": {
             "colorbar": {
              "outlinewidth": 0,
              "ticks": ""
             }
            },
            "type": "scattergeo"
           }
          ],
          "scattergl": [
           {
            "marker": {
             "colorbar": {
              "outlinewidth": 0,
              "ticks": ""
             }
            },
            "type": "scattergl"
           }
          ],
          "scattermapbox": [
           {
            "marker": {
             "colorbar": {
              "outlinewidth": 0,
              "ticks": ""
             }
            },
            "type": "scattermapbox"
           }
          ],
          "scatterpolar": [
           {
            "marker": {
             "colorbar": {
              "outlinewidth": 0,
              "ticks": ""
             }
            },
            "type": "scatterpolar"
           }
          ],
          "scatterpolargl": [
           {
            "marker": {
             "colorbar": {
              "outlinewidth": 0,
              "ticks": ""
             }
            },
            "type": "scatterpolargl"
           }
          ],
          "scatterternary": [
           {
            "marker": {
             "colorbar": {
              "outlinewidth": 0,
              "ticks": ""
             }
            },
            "type": "scatterternary"
           }
          ],
          "surface": [
           {
            "colorbar": {
             "outlinewidth": 0,
             "ticks": ""
            },
            "colorscale": [
             [
              0,
              "#0d0887"
             ],
             [
              0.1111111111111111,
              "#46039f"
             ],
             [
              0.2222222222222222,
              "#7201a8"
             ],
             [
              0.3333333333333333,
              "#9c179e"
             ],
             [
              0.4444444444444444,
              "#bd3786"
             ],
             [
              0.5555555555555556,
              "#d8576b"
             ],
             [
              0.6666666666666666,
              "#ed7953"
             ],
             [
              0.7777777777777778,
              "#fb9f3a"
             ],
             [
              0.8888888888888888,
              "#fdca26"
             ],
             [
              1,
              "#f0f921"
             ]
            ],
            "type": "surface"
           }
          ],
          "table": [
           {
            "cells": {
             "fill": {
              "color": "#EBF0F8"
             },
             "line": {
              "color": "white"
             }
            },
            "header": {
             "fill": {
              "color": "#C8D4E3"
             },
             "line": {
              "color": "white"
             }
            },
            "type": "table"
           }
          ]
         },
         "layout": {
          "annotationdefaults": {
           "arrowcolor": "#2a3f5f",
           "arrowhead": 0,
           "arrowwidth": 1
          },
          "autotypenumbers": "strict",
          "coloraxis": {
           "colorbar": {
            "outlinewidth": 0,
            "ticks": ""
           }
          },
          "colorscale": {
           "diverging": [
            [
             0,
             "#8e0152"
            ],
            [
             0.1,
             "#c51b7d"
            ],
            [
             0.2,
             "#de77ae"
            ],
            [
             0.3,
             "#f1b6da"
            ],
            [
             0.4,
             "#fde0ef"
            ],
            [
             0.5,
             "#f7f7f7"
            ],
            [
             0.6,
             "#e6f5d0"
            ],
            [
             0.7,
             "#b8e186"
            ],
            [
             0.8,
             "#7fbc41"
            ],
            [
             0.9,
             "#4d9221"
            ],
            [
             1,
             "#276419"
            ]
           ],
           "sequential": [
            [
             0,
             "#0d0887"
            ],
            [
             0.1111111111111111,
             "#46039f"
            ],
            [
             0.2222222222222222,
             "#7201a8"
            ],
            [
             0.3333333333333333,
             "#9c179e"
            ],
            [
             0.4444444444444444,
             "#bd3786"
            ],
            [
             0.5555555555555556,
             "#d8576b"
            ],
            [
             0.6666666666666666,
             "#ed7953"
            ],
            [
             0.7777777777777778,
             "#fb9f3a"
            ],
            [
             0.8888888888888888,
             "#fdca26"
            ],
            [
             1,
             "#f0f921"
            ]
           ],
           "sequentialminus": [
            [
             0,
             "#0d0887"
            ],
            [
             0.1111111111111111,
             "#46039f"
            ],
            [
             0.2222222222222222,
             "#7201a8"
            ],
            [
             0.3333333333333333,
             "#9c179e"
            ],
            [
             0.4444444444444444,
             "#bd3786"
            ],
            [
             0.5555555555555556,
             "#d8576b"
            ],
            [
             0.6666666666666666,
             "#ed7953"
            ],
            [
             0.7777777777777778,
             "#fb9f3a"
            ],
            [
             0.8888888888888888,
             "#fdca26"
            ],
            [
             1,
             "#f0f921"
            ]
           ]
          },
          "colorway": [
           "#636efa",
           "#EF553B",
           "#00cc96",
           "#ab63fa",
           "#FFA15A",
           "#19d3f3",
           "#FF6692",
           "#B6E880",
           "#FF97FF",
           "#FECB52"
          ],
          "font": {
           "color": "#2a3f5f"
          },
          "geo": {
           "bgcolor": "white",
           "lakecolor": "white",
           "landcolor": "white",
           "showlakes": true,
           "showland": true,
           "subunitcolor": "#C8D4E3"
          },
          "hoverlabel": {
           "align": "left"
          },
          "hovermode": "closest",
          "mapbox": {
           "style": "light"
          },
          "paper_bgcolor": "white",
          "plot_bgcolor": "white",
          "polar": {
           "angularaxis": {
            "gridcolor": "#EBF0F8",
            "linecolor": "#EBF0F8",
            "ticks": ""
           },
           "bgcolor": "white",
           "radialaxis": {
            "gridcolor": "#EBF0F8",
            "linecolor": "#EBF0F8",
            "ticks": ""
           }
          },
          "scene": {
           "xaxis": {
            "backgroundcolor": "white",
            "gridcolor": "#DFE8F3",
            "gridwidth": 2,
            "linecolor": "#EBF0F8",
            "showbackground": true,
            "ticks": "",
            "zerolinecolor": "#EBF0F8"
           },
           "yaxis": {
            "backgroundcolor": "white",
            "gridcolor": "#DFE8F3",
            "gridwidth": 2,
            "linecolor": "#EBF0F8",
            "showbackground": true,
            "ticks": "",
            "zerolinecolor": "#EBF0F8"
           },
           "zaxis": {
            "backgroundcolor": "white",
            "gridcolor": "#DFE8F3",
            "gridwidth": 2,
            "linecolor": "#EBF0F8",
            "showbackground": true,
            "ticks": "",
            "zerolinecolor": "#EBF0F8"
           }
          },
          "shapedefaults": {
           "line": {
            "color": "#2a3f5f"
           }
          },
          "ternary": {
           "aaxis": {
            "gridcolor": "#DFE8F3",
            "linecolor": "#A2B1C6",
            "ticks": ""
           },
           "baxis": {
            "gridcolor": "#DFE8F3",
            "linecolor": "#A2B1C6",
            "ticks": ""
           },
           "bgcolor": "white",
           "caxis": {
            "gridcolor": "#DFE8F3",
            "linecolor": "#A2B1C6",
            "ticks": ""
           }
          },
          "title": {
           "x": 0.05
          },
          "xaxis": {
           "automargin": true,
           "gridcolor": "#EBF0F8",
           "linecolor": "#EBF0F8",
           "ticks": "",
           "title": {
            "standoff": 15
           },
           "zerolinecolor": "#EBF0F8",
           "zerolinewidth": 2
          },
          "yaxis": {
           "automargin": true,
           "gridcolor": "#EBF0F8",
           "linecolor": "#EBF0F8",
           "ticks": "",
           "title": {
            "standoff": 15
           },
           "zerolinecolor": "#EBF0F8",
           "zerolinewidth": 2
          }
         }
        },
        "width": 1800,
        "xaxis": {
         "anchor": "y",
         "domain": [
          0,
          0.48
         ],
         "matches": "x3",
         "showticklabels": false
        },
        "xaxis2": {
         "anchor": "y2",
         "domain": [
          0.52,
          1
         ],
         "matches": "x4",
         "showticklabels": false
        },
        "xaxis3": {
         "anchor": "y3",
         "domain": [
          0,
          0.48
         ],
         "title": {
          "text": "<b>Imbalance ratio</b>"
         }
        },
        "xaxis4": {
         "anchor": "y4",
         "domain": [
          0.52,
          1
         ]
        },
        "yaxis": {
         "anchor": "x",
         "domain": [
          0.51,
          1
         ],
         "range": [
          0,
          0.25
         ],
         "title": {
          "text": "<b>CWCE</b>"
         }
        },
        "yaxis2": {
         "anchor": "x2",
         "domain": [
          0.51,
          1
         ]
        },
        "yaxis3": {
         "anchor": "x3",
         "domain": [
          0,
          0.49
         ],
         "range": [
          0,
          0.23
         ],
         "title": {
          "text": "<b>BS</b>"
         }
        },
        "yaxis4": {
         "anchor": "x4",
         "domain": [
          0,
          0.49
         ],
         "range": [
          0,
          0.23
         ]
        }
       }
      }
     },
     "metadata": {},
     "output_type": "display_data"
    }
   ],
   "source": [
    "fig = plotly.subplots.make_subplots(rows=2, cols=2,\n",
    "                                    horizontal_spacing=0.04,\n",
    "                                    vertical_spacing=0.02,\n",
    "                                    shared_yaxes=False,\n",
    "                                    shared_xaxes=True\n",
    "                                    )\n",
    "fig.update_layout(template='plotly_white')\n",
    "\n",
    "# plotting shaded regions first, then lines in reversed order so that Affine and No re-calibration lines are not covered\n",
    "for i, elem in enumerate(left_plots[0]):\n",
    "    if i % 2 == 0:\n",
    "        elem['showlegend'] = False\n",
    "        fig.add_trace(elem, row=1, col=1)\n",
    "for i, elem in enumerate(reversed(left_plots[0])):\n",
    "    if i % 2 == 0:\n",
    "        elem['showlegend'] = False\n",
    "        fig.add_trace(elem, row=1, col=1)\n",
    "for i, elem in enumerate(left_plots_bs[0]):\n",
    "    if i % 2 == 0:\n",
    "        elem['showlegend'] = False\n",
    "        fig.add_trace(elem, row=2, col=1)\n",
    "for i, elem in enumerate(reversed(left_plots_bs[0])):\n",
    "    if i % 2 == 0:\n",
    "        elem['showlegend'] = False\n",
    "        fig.add_trace(elem, row=2, col=1)\n",
    "\n",
    "for elem in right_plots[0]:\n",
    "    fig.add_trace(elem, row=1, col=2)\n",
    "for elem in right_plots_bs[0]:\n",
    "    elem['showlegend'] = False\n",
    "    fig.add_trace(elem, row=2, col=2)\n",
    "fig.add_trace(left_plots_bs[0][-1], row=2, col=1)\n",
    "fig['layout']['yaxis']['range'] = [0, 0.25]\n",
    "fig['layout']['yaxis3']['range'] = [0, 0.23]\n",
    "fig['layout']['yaxis4']['range'] = [0, 0.23]\n",
    "fig.update_layout(autosize=False, width=1800, height=800,\n",
    "                  legend={\"font\": {\"size\": 30}, \"itemsizing\": 'constant'}, margin=dict(t=10))\n",
    "\n",
    "fig['layout']['font']['family'] = \"NewComputerModern10\"\n",
    "fig['layout']['xaxis3']['title'] = \"<b>Imbalance ratio</b>\"\n",
    "fig['layout']['yaxis']['title'] = \"<b>CWCE</b>\"\n",
    "fig['layout']['yaxis3']['title'] = \"<b>BS</b>\"\n",
    "add_ir_annotation(fig, 2)\n",
    "add_ir_annotation(fig, 4)\n",
    "fig['layout']['font']['size'] = 20\n",
    "add_little_guys(fig, 3, size=0.08)\n",
    "fig.update_annotations(font_size=20, font_color='black', bgcolor='white')"
   ]
  },
  {
   "cell_type": "code",
   "execution_count": 6,
   "metadata": {
    "ExecuteTime": {
     "end_time": "2024-08-21T15:14:26.946196Z",
     "start_time": "2024-08-21T15:14:26.596537Z"
    }
   },
   "outputs": [],
   "source": [
    "fig.write_image(RESULT_PATH / f\"24_fig_5.png\")\n",
    "fig.write_image(RESULT_PATH / f\"24_fig_5.svg\")\n",
    "fig.write_image(RESULT_PATH / f\"24_fig_5.pdf\")\n",
    "fig.write_html(RESULT_PATH / f\"24_fig_5.html\")"
   ]
  },
  {
   "cell_type": "code",
   "execution_count": null,
   "metadata": {},
   "outputs": [],
   "source": []
  }
 ],
 "metadata": {
  "kernelspec": {
   "display_name": "Python 3.10.6 ('vascular')",
   "language": "python",
   "name": "python3"
  },
  "language_info": {
   "codemirror_mode": {
    "name": "ipython",
    "version": 3
   },
   "file_extension": ".py",
   "mimetype": "text/x-python",
   "name": "python",
   "nbconvert_exporter": "python",
   "pygments_lexer": "ipython3",
   "version": "3.10.11"
  },
  "vscode": {
   "interpreter": {
    "hash": "1b47bab53be8ae485d28610d1dc2fbf4c819861786dab8f91abab26ce30e3185"
   }
  }
 },
 "nbformat": 4,
 "nbformat_minor": 0
}
