{
 "cells": [
  {
   "cell_type": "markdown",
   "metadata": {},
   "source": [
    "# RQ2b: What is the effect of prevalence shifts on the quality of decision rules\n",
    "This notebook generates figure 8. It shows quantitatively the implications of prevalence shifts on optimal thresholds in our use cases."
   ]
  },
  {
   "cell_type": "code",
   "execution_count": 1,
   "metadata": {
    "ExecuteTime": {
     "end_time": "2024-08-22T22:34:55.525768Z",
     "start_time": "2024-08-22T22:34:53.611304Z"
    }
   },
   "outputs": [
    {
     "data": {
      "text/plain": [
       "<torch._C.Generator at 0x7f907c0d5d30>"
      ]
     },
     "execution_count": 1,
     "metadata": {},
     "output_type": "execute_result"
    }
   ],
   "source": [
    "import os\n",
    "import sys\n",
    "\n",
    "sys.path.insert(0, os.path.abspath('..'))\n",
    "from pathlib import Path\n",
    "\n",
    "import torch\n",
    "import pandas as pd\n",
    "import numpy as np\n",
    "from progiter import ProgIter\n",
    "\n",
    "from src.prev.calibration import CalibrationMethod, calibrate_logits_fast\n",
    "from src.prev.scaling import scale_prevalences_ir\n",
    "from src.prev.plotting import plot_aggregate_results, Confidence, multiplot\n",
    "from src.prev.thresholding import find_best_thresholds, ThresholdingMethod\n",
    "from src.prev.metrics import Metric, compute_all_metrics\n",
    "from src.prev.quantification import adjust_priors_qp\n",
    "from src.prev.data_loading import get_values, Kind, Split, all_tasks, binary_tasks, example_tasks, example_binary_tasks\n",
    "\n",
    "import torch.nn.functional as F\n",
    "\n",
    "current_path = os.getcwd()\n",
    "DATA_PATH = Path(current_path).parent / 'data'\n",
    "RESULT_PATH = Path(current_path).parent / 'results'\n",
    "assert DATA_PATH.exists() and RESULT_PATH.exists()\n",
    "torch.manual_seed(seed=0)\n",
    "\n",
    "# set to false for a full rerun, including all tasks, note that we do not provide\n",
    "# logits for all tasks for licensing considerations, so one needs to generate them from scratch\n",
    "EXAMPLE_TASKS_ONLY = True\n",
    "if EXAMPLE_TASKS_ONLY:\n",
    "    rel_tasks = example_tasks\n",
    "    rel_binary_tasks = example_binary_tasks\n",
    "else: \n",
    "    rel_tasks = all_tasks\n",
    "    rel_binary_tasks = binary_tasks"
   ]
  },
  {
   "cell_type": "code",
   "execution_count": 2,
   "metadata": {
    "ExecuteTime": {
     "end_time": "2024-08-22T22:35:05.884161Z",
     "start_time": "2024-08-22T22:34:56.347637Z"
    }
   },
   "outputs": [
    {
     "name": "stdout",
     "output_type": "stream",
     "text": [
      "Loading data 100.00% 30/30... rate=5.43 Hz, eta=0:00:00, total=0:00:05\n"
     ]
    }
   ],
   "source": [
    "data = {}\n",
    "for t in ProgIter(rel_tasks, desc='Loading data'):\n",
    "    data[t] = get_values(t, DATA_PATH, proj='mic23_predictions_original_0')  # original paper predictions"
   ]
  },
  {
   "cell_type": "code",
   "execution_count": 3,
   "metadata": {
    "ExecuteTime": {
     "end_time": "2024-08-22T22:45:13.988078Z",
     "start_time": "2024-08-22T22:45:13.974464Z"
    }
   },
   "outputs": [],
   "source": [
    "ir_range = np.arange(1, 10 + 0.5, 0.5)\n",
    "def thresholds_across_ir(task_data, calibration: CalibrationMethod = CalibrationMethod.NONE,\n",
    "                          thresholding: ThresholdingMethod = ThresholdingMethod.ARGMAX):\n",
    "    \"\"\"\n",
    "    Computes the values of metrics for optimal thresholds computed for the application test set and\n",
    "    thresholds set on the development test set for a given task across imbalance ratios.\n",
    "\n",
    "    :param task_data: logits and labels for all splits\n",
    "    :param calibration: calibration method\n",
    "    :param thresholding: thresholding method to be used\n",
    "    :return results: dictionary of metric values\n",
    "    \"\"\"\n",
    "    # initialize the results dictionary\n",
    "    results = {m: [] for m in Metric}\n",
    "    results.update({\"reference \" + m.value: [] for m in Metric})\n",
    "    for ir in ir_range:\n",
    "        # scale prevalences in the deployment set according to imbalance ratio\n",
    "        app_test_logits, app_test_classes = scale_prevalences_ir(logits=task_data[Kind.LOGITS][Split.APP_TEST],\n",
    "                                                                 classes=task_data[Kind.LABELS][Split.APP_TEST],\n",
    "                                                                 ir=ir)\n",
    "        # create a data dictionary with the modified deployment test set\n",
    "        mod_data = {Kind.LOGITS: {Split.DEV_CAL: task_data[Kind.LOGITS][Split.DEV_CAL],\n",
    "                                  Split.DEV_TEST: task_data[Kind.LOGITS][Split.DEV_TEST],\n",
    "                                  Split.APP_TEST: app_test_logits},\n",
    "                    Kind.LABELS: {Split.DEV_CAL: task_data[Kind.LABELS][Split.DEV_CAL],\n",
    "                                  Split.DEV_TEST: task_data[Kind.LABELS][Split.DEV_TEST],\n",
    "                                  Split.APP_TEST: app_test_classes}}\n",
    "        # compute the number of samples in each class of the app test set with modified prevalence\n",
    "        exact_prevalence = torch.bincount(mod_data[Kind.LABELS][Split.APP_TEST]) / len(mod_data[Kind.LABELS][Split.APP_TEST])\n",
    "        # estimated version of these prevalences\n",
    "        estimated_prevalence = torch.Tensor(\n",
    "            adjust_priors_qp(torch.softmax(mod_data[Kind.LOGITS][Split.DEV_TEST], dim=1),\n",
    "                             mod_data[Kind.LABELS][Split.DEV_TEST],\n",
    "                             torch.softmax(mod_data[Kind.LOGITS][Split.APP_TEST], dim=1),\n",
    "                             mod_data[Kind.LABELS][Split.APP_TEST]))\n",
    "\n",
    "        if calibration == CalibrationMethod.AFFINE_REWEIGHTED:\n",
    "            prior = exact_prevalence\n",
    "        elif calibration == CalibrationMethod.AFFINE_ACC:\n",
    "            prior = estimated_prevalence\n",
    "        elif calibration == CalibrationMethod.NONE:\n",
    "            prior = None\n",
    "        else:\n",
    "            raise ValueError('calibration method not supported')\n",
    "        calibrated_logits = calibrate_logits_fast(data=mod_data, calibration=calibration, prior=prior)\n",
    "        # extract the minority class for F1 computation\n",
    "        val_prevalences = torch.bincount(mod_data[Kind.LABELS][Split.DEV_CAL])\n",
    "        min_class = torch.argmin(val_prevalences).item()\n",
    "        max_class = torch.argmax(val_prevalences).item()\n",
    "        # catches case where for balanced task, min class was used as max class in scaling\n",
    "        if min_class == max_class:\n",
    "            min_class = 1\n",
    "        if thresholding == ThresholdingMethod.ARGMAX:\n",
    "            # use 0.5 as threshold (argmax)\n",
    "            thresholds = {m: 0.5 for m in Metric}\n",
    "        elif thresholding == ThresholdingMethod.DEV_TEST:\n",
    "            # find optimal thresholds on dev test\n",
    "            thresholds = find_best_thresholds(labels=mod_data[Kind.LABELS][Split.DEV_TEST],\n",
    "                                              logits=calibrated_logits[Split.DEV_TEST], min_class=min_class,\n",
    "                                              priors=exact_prevalence.numpy(),\n",
    "                                              est_priors=estimated_prevalence.numpy())\n",
    "        else:\n",
    "            raise ValueError('invalid thresholding method')\n",
    "        # find optimal thresholds on app test\n",
    "        optimal_thresholds = find_best_thresholds(labels=mod_data[Kind.LABELS][Split.APP_TEST],\n",
    "                                                  logits=calibrated_logits[Split.APP_TEST], min_class=min_class,\n",
    "                                                  priors=exact_prevalence.numpy(),\n",
    "                                                  est_priors=estimated_prevalence.numpy())\n",
    "        # compute  predictions on app test using the two sets of thresholds                                        \n",
    "        new_app_test_preds = {key: F.softmax(calibrated_logits[Split.APP_TEST], dim=1)[:, 0] < thresholds[key] for key\n",
    "                              in thresholds.keys()}\n",
    "        optimal_app_test_preds = {\n",
    "            key: F.softmax(calibrated_logits[Split.APP_TEST], dim=1)[:, 0] < optimal_thresholds[key] for key in\n",
    "            optimal_thresholds.keys()}\n",
    "        # compute metrics values for predictions made using optimal app test thresholds\n",
    "        optimal_metrics = compute_all_metrics(mod_data[Kind.LABELS][Split.APP_TEST],\n",
    "                                              mod_data[Kind.LOGITS][Split.APP_TEST], optimal_app_test_preds,\n",
    "                                              min_class=min_class, exact_priors=exact_prevalence,\n",
    "                                              estimated_priors=exact_prevalence)\n",
    "        # compute metrics values for predictions made using the other thresholds \n",
    "        dev_threshold_metrics = compute_all_metrics(mod_data[Kind.LABELS][Split.APP_TEST],\n",
    "                                                    mod_data[Kind.LOGITS][Split.APP_TEST], new_app_test_preds,\n",
    "                                                    min_class=min_class, exact_priors=exact_prevalence,\n",
    "                                                    estimated_priors=exact_prevalence)\n",
    "        # append the computed metrics values to the results\n",
    "        for k in optimal_metrics.keys():\n",
    "            results[k].append(optimal_metrics[k])\n",
    "        for k in dev_threshold_metrics.keys():\n",
    "            results['reference ' + k.value].append(dev_threshold_metrics[k])\n",
    "    return results"
   ]
  },
  {
   "cell_type": "code",
   "execution_count": 4,
   "metadata": {
    "ExecuteTime": {
     "end_time": "2024-08-22T23:23:20.708903Z",
     "start_time": "2024-08-22T22:45:20.215429Z"
    }
   },
   "outputs": [
    {
     "name": "stdout",
     "output_type": "stream",
     "text": [
      " 100.00% 24/24... rate=0.05 Hz, eta=0:00:00, total=0:08:09\n",
      " 100.00% 24/24... rate=0.09 Hz, eta=0:00:00, total=0:04:36\n",
      " 100.00% 24/24... rate=0.05 Hz, eta=0:00:00, total=0:08:02\n",
      " 100.00% 24/24... rate=0.09 Hz, eta=0:00:00, total=0:04:36\n",
      " 100.00% 24/24... rate=0.05 Hz, eta=0:00:00, total=0:07:58\n",
      " 100.00% 24/24... rate=0.09 Hz, eta=0:00:00, total=0:04:36\n"
     ]
    }
   ],
   "source": [
    "for cal in [CalibrationMethod.NONE, CalibrationMethod.AFFINE_REWEIGHTED, CalibrationMethod.AFFINE_ACC]:\n",
    "    for thresholding in [ThresholdingMethod.DEV_TEST, ThresholdingMethod.ARGMAX]:\n",
    "        collector = {t: {} for t in rel_tasks}\n",
    "        for t in ProgIter(rel_binary_tasks):\n",
    "            # compute values of metrics for thresholds computed on app test and dev test across IRs\n",
    "            collector[t].update(thresholds_across_ir(task_data=data[t],\n",
    "                                                 calibration=cal, thresholding=thresholding))\n",
    "        # save a data frame with the results\n",
    "        result_df = pd.DataFrame(rel_binary_tasks, columns=[\"name\"])\n",
    "        for key in collector[rel_binary_tasks[0]].keys():\n",
    "            result_df[key] = [torch.tensor(collector[t][key]) for t in rel_binary_tasks]\n",
    "        result_df.to_pickle(RESULT_PATH / (\"24_decision_rule_results_\" + cal.value + \"_\" + thresholding.value + \".pkl\"))"
   ]
  },
  {
   "cell_type": "markdown",
   "metadata": {},
   "source": [
    "# Generate Figure 8"
   ]
  },
  {
   "cell_type": "code",
   "execution_count": 3,
   "metadata": {
    "ExecuteTime": {
     "end_time": "2024-08-23T07:19:33.185797Z",
     "start_time": "2024-08-23T07:19:32.616790Z"
    }
   },
   "outputs": [],
   "source": [
    "# initialize list of subplots\n",
    "subplts = []\n",
    "metrics = [Metric.ACCURACY, Metric.F1, Metric.MCC, Metric.BALANCED_ACC, Metric.EC_EST, Metric.EC_ADJUSTED]\n",
    "for thresholding in [ThresholdingMethod.ARGMAX, ThresholdingMethod.DEV_TEST]:\n",
    "    for cal in [CalibrationMethod.NONE, CalibrationMethod.AFFINE_REWEIGHTED]:\n",
    "        # load appropriate results data frame\n",
    "        result_df = pd.read_pickle(RESULT_PATH / (\"24_decision_rule_results_\" + cal.value + \"_\" + thresholding.value + \".pkl\"))\n",
    "        # subtract reference values from metrics\n",
    "        for met in metrics:\n",
    "            if met == Metric.EC_EST:\n",
    "                continue\n",
    "            result_df[met.value] = result_df[met] - result_df['reference ' + met.value]\n",
    "\n",
    "        if cal == CalibrationMethod.NONE:\n",
    "            result_df[Metric.EC_EST.value] = result_df[Metric.EC_EST] - result_df['reference ' + Metric.EC_EST.value]\n",
    "        else:\n",
    "            est_df = pd.read_pickle(RESULT_PATH / (\n",
    "                        \"24_decision_rule_results_\" + CalibrationMethod.AFFINE_ACC.value + \"_\" + thresholding.value + \".pkl\"))\n",
    "            result_df[Metric.EC_EST.value] = est_df[Metric.EC_EST] - est_df['reference ' + Metric.EC_EST.value]\n",
    "\n",
    "        # define relevant metrics to be plotted\n",
    "        if thresholding == ThresholdingMethod.ARGMAX:\n",
    "            plot_metrics = [Metric.ACCURACY, Metric.F1, Metric.MCC, Metric.BALANCED_ACC]\n",
    "        else:\n",
    "            plot_metrics = metrics\n",
    "        # create the aggregate subplot\n",
    "        subplt = plot_aggregate_results(result_df, metrics=plot_metrics, file=None, delta=False, ci=Confidence.STD,  bound=[0, 0.2], opacity=0.15, plot_lines_later=True)\n",
    "        # append subplot to list\n",
    "        subplts.append(subplt)"
   ]
  },
  {
   "cell_type": "code",
   "execution_count": 4,
   "metadata": {
    "ExecuteTime": {
     "end_time": "2024-08-23T07:19:36.234611Z",
     "start_time": "2024-08-23T07:19:36.025132Z"
    }
   },
   "outputs": [
    {
     "data": {
      "application/vnd.plotly.v1+json": {
       "config": {
        "plotlyServerURL": "https://plot.ly"
       },
       "data": [
        {
         "fill": "toself",
         "fillcolor": "rgba(67, 99, 216, 0.15)",
         "line": {
          "color": "rgba(255,255,255,0)"
         },
         "mode": "lines",
         "name": "Accuracy",
         "showlegend": false,
         "type": "scatter",
         "x": [
          1,
          1.5,
          2,
          2.5,
          3,
          3.5,
          4,
          4.5,
          5,
          5.5,
          6,
          6.5,
          7,
          7.5,
          8,
          8.5,
          9,
          9.5,
          10,
          10,
          9.5,
          9,
          8.5,
          8,
          7.5,
          7,
          6.5,
          6,
          5.5,
          5,
          4.5,
          4,
          3.5,
          3,
          2.5,
          2,
          1.5,
          1
         ],
         "xaxis": "x",
         "y": [
          0.019242461770772934,
          0.012765366584062576,
          0.02582404389977455,
          0.03371740132570267,
          0.04717789590358734,
          0.05998747795820236,
          0.06870755553245544,
          0.07589375972747803,
          0.08147094398736954,
          0.08719731867313385,
          0.09506191313266754,
          0.10089398920536041,
          0.10470996797084808,
          0.10969468951225281,
          0.11374065279960632,
          0.11708825826644897,
          0.11822494864463806,
          0.12237809598445892,
          0.12361308932304382,
          0.012104671448469162,
          0.010006871074438095,
          0.009962067008018494,
          0.009504642337560654,
          0.008531037718057632,
          0.007996555417776108,
          0.006699215620756149,
          0.006474591791629791,
          0.005800135433673859,
          0.0061426348984241486,
          0.003359273076057434,
          0.0031802207231521606,
          0.0008664950728416443,
          -0.0009709950536489487,
          -0.00009978190064430237,
          -0.000406680628657341,
          -0.003161037340760231,
          -0.0014707781374454498,
          -0.0011364482343196869
         ],
         "yaxis": "y"
        },
        {
         "fill": "toself",
         "fillcolor": "rgba(245, 130, 49, 0.15)",
         "line": {
          "color": "rgba(255,255,255,0)"
         },
         "mode": "lines",
         "name": "F1 Score",
         "showlegend": false,
         "type": "scatter",
         "x": [
          1,
          1.5,
          2,
          2.5,
          3,
          3.5,
          4,
          4.5,
          5,
          5.5,
          6,
          6.5,
          7,
          7.5,
          8,
          8.5,
          9,
          9.5,
          10,
          10,
          9.5,
          9,
          8.5,
          8,
          7.5,
          7,
          6.5,
          6,
          5.5,
          5,
          4.5,
          4,
          3.5,
          3,
          2.5,
          2,
          1.5,
          1
         ],
         "xaxis": "x",
         "y": [
          0.07846114967585284,
          0.04943050557557121,
          0.040092128086301096,
          0.034243955756280905,
          0.03743022220921259,
          0.03210026867894095,
          0.03454069403876474,
          0.04285266301281384,
          0.045396721115273306,
          0.04865362452424561,
          0.06113151905481612,
          0.06362418626179275,
          0.0674201461174995,
          0.07581722869900101,
          0.08558556108223501,
          0.08562720812263401,
          0.0913654068218932,
          0.09645232206164336,
          0.09859144420486747,
          0.0058680720453898605,
          0.013904279553374525,
          0.010258949504961305,
          0.006137225619946132,
          0.006589230756937431,
          0.007012861126206568,
          0.00467120753354814,
          0.001474934920905089,
          0.0021374852495404002,
          0.002100544892116977,
          0.0002684351099329456,
          -0.0009505078384527271,
          -0.000458266936902884,
          -0.00046461331696725366,
          -0.002475291626298552,
          -0.0029913536056511425,
          -0.0064104649374881716,
          -0.009481133614703659,
          -0.012895710602156704
         ],
         "yaxis": "y"
        },
        {
         "fill": "toself",
         "fillcolor": "rgba(230, 25, 75, 0.15)",
         "line": {
          "color": "rgba(255,255,255,0)"
         },
         "mode": "lines",
         "name": "MCC",
         "showlegend": false,
         "type": "scatter",
         "x": [
          1,
          1.5,
          2,
          2.5,
          3,
          3.5,
          4,
          4.5,
          5,
          5.5,
          6,
          6.5,
          7,
          7.5,
          8,
          8.5,
          9,
          9.5,
          10,
          10,
          9.5,
          9,
          8.5,
          8,
          7.5,
          7,
          6.5,
          6,
          5.5,
          5,
          4.5,
          4,
          3.5,
          3,
          2.5,
          2,
          1.5,
          1
         ],
         "xaxis": "x",
         "y": [
          0.02777774239383186,
          0.02849688241404756,
          0.03793846232534806,
          0.038649174758043636,
          0.04833595373984367,
          0.05881733276974492,
          0.06125737929061095,
          0.0658153564931148,
          0.07245852387411406,
          0.06615370655427527,
          0.07949501577775009,
          0.08409226674053105,
          0.08636572425374475,
          0.09352100090114497,
          0.09631618095418043,
          0.09507193304360749,
          0.09519285708256466,
          0.10781236589330026,
          0.10250950462917575,
          0.0042155513620013435,
          0.009396187811303712,
          0.010212018628292074,
          0.011575537636105998,
          0.0076709194689636925,
          0.008006391506152344,
          0.005379566490495216,
          0.0027859031631424086,
          0.0021603749039180303,
          0.00244120046754448,
          -0.005905846382826367,
          -0.0020412019827598105,
          -0.004089611891564763,
          -0.0037214869852392647,
          -0.0022043119863337235,
          -0.0007031088494064315,
          -0.0036618638157087623,
          -0.002420610916787651,
          -0.00077797593310985
         ],
         "yaxis": "y"
        },
        {
         "fill": "toself",
         "fillcolor": "rgba(0, 128, 128, 0.15)",
         "line": {
          "color": "rgba(255,255,255,0)"
         },
         "mode": "lines",
         "name": "Bal. Accuracy",
         "showlegend": false,
         "type": "scatter",
         "x": [
          1,
          1.5,
          2,
          2.5,
          3,
          3.5,
          4,
          4.5,
          5,
          5.5,
          6,
          6.5,
          7,
          7.5,
          8,
          8.5,
          9,
          9.5,
          10,
          10,
          9.5,
          9,
          8.5,
          8,
          7.5,
          7,
          6.5,
          6,
          5.5,
          5,
          4.5,
          4,
          3.5,
          3,
          2.5,
          2,
          1.5,
          1
         ],
         "xaxis": "x",
         "y": [
          0.01924246913539999,
          0.017899284193569537,
          0.020675120509067575,
          0.020272287044457556,
          0.023427565092775354,
          0.019896090043184995,
          0.019737220029733108,
          0.029400419467416866,
          0.022063162995405932,
          0.01937106928003783,
          0.02163033053986487,
          0.022892753186466268,
          0.019598936640686918,
          0.034320464416640314,
          0.03239008701921026,
          0.021711741041947397,
          0.032684213782529344,
          0.028738268746146496,
          0.024398036453564732,
          0.0016647589984297734,
          0.0008344875879441153,
          -0.004120582125542437,
          0.0008357401669425342,
          -0.002369706709525873,
          -0.0028088115387393774,
          0.0005978844876659319,
          -0.0012731376049922357,
          -0.000951219588508254,
          -0.00017389194241153316,
          -0.0012823145993699978,
          -0.00379135055529921,
          -0.0010891710329652346,
          -0.0009398590688973543,
          -0.0013673554280426437,
          -0.0010619553445829835,
          -0.0012180739226496547,
          -0.0010801354796000345,
          -0.0011364541128341954
         ],
         "yaxis": "y"
        },
        {
         "line": {
          "color": "rgb(67, 99, 216)",
          "width": 4
         },
         "mode": "lines",
         "name": "Accuracy",
         "showlegend": false,
         "type": "scatter",
         "x": [
          1,
          1.5,
          2,
          2.5,
          3,
          3.5,
          4,
          4.5,
          5,
          5.5,
          6,
          6.5,
          7,
          7.5,
          8,
          8.5,
          9,
          9.5,
          10
         ],
         "xaxis": "x",
         "y": [
          0.009053006768226624,
          0.005647294223308563,
          0.01133150327950716,
          0.016655361279845238,
          0.02353905700147152,
          0.02950824238359928,
          0.034787025302648544,
          0.039536990225315094,
          0.042415108531713486,
          0.04666997864842415,
          0.0504310242831707,
          0.0536842904984951,
          0.055704593658447266,
          0.05884562060236931,
          0.06113584712147713,
          0.06329645216464996,
          0.06409350782632828,
          0.06619248539209366,
          0.06785888224840164
         ],
         "yaxis": "y"
        },
        {
         "line": {
          "color": "rgb(245, 130, 49)",
          "width": 4
         },
         "mode": "lines",
         "name": "F1 Score",
         "showlegend": false,
         "type": "scatter",
         "x": [
          1,
          1.5,
          2,
          2.5,
          3,
          3.5,
          4,
          4.5,
          5,
          5.5,
          6,
          6.5,
          7,
          7.5,
          8,
          8.5,
          9,
          9.5,
          10
         ],
         "xaxis": "x",
         "y": [
          0.03278271953684807,
          0.019974685980433775,
          0.016840831574406464,
          0.01562630107531488,
          0.01747746529145702,
          0.01581782768098685,
          0.01704121355093093,
          0.020951077587180556,
          0.022832578112603127,
          0.025377084708181296,
          0.03163450215217826,
          0.03254956059134892,
          0.036045676825523815,
          0.04141504491260379,
          0.04608739591958622,
          0.04588221687129007,
          0.05081217816342726,
          0.05517830080750894,
          0.052229758125128666
         ],
         "yaxis": "y"
        },
        {
         "line": {
          "color": "rgb(230, 25, 75)",
          "width": 4
         },
         "mode": "lines",
         "name": "MCC",
         "showlegend": false,
         "type": "scatter",
         "x": [
          1,
          1.5,
          2,
          2.5,
          3,
          3.5,
          4,
          4.5,
          5,
          5.5,
          6,
          6.5,
          7,
          7.5,
          8,
          8.5,
          9,
          9.5,
          10
         ],
         "xaxis": "x",
         "y": [
          0.013499883230361005,
          0.013038135748629956,
          0.017138299254819647,
          0.0189730329543186,
          0.023065820876754975,
          0.027547922892252826,
          0.028583883699523093,
          0.0318870772551775,
          0.03327633874564385,
          0.034297453510909875,
          0.04082769534083406,
          0.04343908495183673,
          0.045872645372119984,
          0.05076369620364866,
          0.05199355021157206,
          0.053323735339856744,
          0.052702437855428365,
          0.05860427685230198,
          0.05336252799558855
         ],
         "yaxis": "y"
        },
        {
         "line": {
          "color": "rgb(0, 128, 128)",
          "width": 4
         },
         "mode": "lines",
         "name": "Bal. Accuracy",
         "showlegend": false,
         "type": "scatter",
         "x": [
          1,
          1.5,
          2,
          2.5,
          3,
          3.5,
          4,
          4.5,
          5,
          5.5,
          6,
          6.5,
          7,
          7.5,
          8,
          8.5,
          9,
          9.5,
          10
         ],
         "xaxis": "x",
         "y": [
          0.009053007511282898,
          0.00840957435698475,
          0.00972852329320896,
          0.009605165849937286,
          0.011030104832366355,
          0.00947811548714382,
          0.009324024498383937,
          0.012804534456058827,
          0.010390424198017967,
          0.009598588668813149,
          0.010339555475678308,
          0.010809807790737017,
          0.010098410564176425,
          0.01575582643895047,
          0.015010190154842196,
          0.011273740604444965,
          0.014281815828493452,
          0.014786378167045306,
          0.013031397725997254
         ],
         "yaxis": "y"
        },
        {
         "fill": "toself",
         "fillcolor": "rgba(67, 99, 216, 0.15)",
         "line": {
          "color": "rgba(255,255,255,0)"
         },
         "mode": "lines",
         "name": "Accuracy",
         "showlegend": false,
         "type": "scatter",
         "x": [
          1,
          1.5,
          2,
          2.5,
          3,
          3.5,
          4,
          4.5,
          5,
          5.5,
          6,
          6.5,
          7,
          7.5,
          8,
          8.5,
          9,
          9.5,
          10,
          10,
          9.5,
          9,
          8.5,
          8,
          7.5,
          7,
          6.5,
          6,
          5.5,
          5,
          4.5,
          4,
          3.5,
          3,
          2.5,
          2,
          1.5,
          1
         ],
         "xaxis": "x2",
         "y": [
          0.008612656965851784,
          0.006610858254134655,
          0.010754240676760674,
          0.011516408063471317,
          0.0070701465010643005,
          0.005581425502896309,
          0.006739258766174316,
          0.006316696293652058,
          0.00775937270373106,
          0.005010139662772417,
          0.005117742344737053,
          0.00562511058524251,
          0.005665130913257599,
          0.005748984403908253,
          0.004487528931349516,
          0.003630021121352911,
          0.0037948028184473515,
          0.003306849393993616,
          0.00412525050342083,
          -0.00012540118768811226,
          -0.00001969782169908285,
          -0.0003260161029174924,
          -0.00045435025822371244,
          -0.0007037962786853313,
          -0.00116961938329041,
          -0.0007012460846453905,
          -0.00038641877472400665,
          0.00022344989702105522,
          0.0003743106499314308,
          -0.0012581797782331705,
          -0.0007720089051872492,
          -0.0008792823646217585,
          -0.000043065985664725304,
          -0.00017096870578825474,
          -0.0013783136382699013,
          -0.0013018185272812843,
          0.0005834915209561586,
          -0.0006296131759881973
         ],
         "yaxis": "y2"
        },
        {
         "fill": "toself",
         "fillcolor": "rgba(245, 130, 49, 0.15)",
         "line": {
          "color": "rgba(255,255,255,0)"
         },
         "mode": "lines",
         "name": "F1 Score",
         "showlegend": false,
         "type": "scatter",
         "x": [
          1,
          1.5,
          2,
          2.5,
          3,
          3.5,
          4,
          4.5,
          5,
          5.5,
          6,
          6.5,
          7,
          7.5,
          8,
          8.5,
          9,
          9.5,
          10,
          10,
          9.5,
          9,
          8.5,
          8,
          7.5,
          7,
          6.5,
          6,
          5.5,
          5,
          4.5,
          4,
          3.5,
          3,
          2.5,
          2,
          1.5,
          1
         ],
         "xaxis": "x2",
         "y": [
          0.02230672996579205,
          0.04866821045952179,
          0.08366339094614647,
          0.11776660242918169,
          0.13721836033413187,
          0.14203124259704447,
          0.14960227897639178,
          0.17081557326176183,
          0.18144215011028958,
          0.1915604390732974,
          0.19262263870815338,
          0.17531124273917317,
          0.18119542538500083,
          0.1858907422853907,
          0.1938584505634473,
          0.1802107472961756,
          0.19751171611998344,
          0.1973227157889665,
          0.19821490045904977,
          -0.012427351881591053,
          -0.0057122966565666955,
          -0.008806192005470198,
          -0.015272597424328821,
          -0.014746686465949219,
          -0.011997313197086953,
          -0.01641989893838945,
          -0.020885705479219613,
          -0.027339110829639746,
          -0.033550548361105784,
          -0.030007135078013586,
          -0.03525850666758017,
          -0.02738304933572945,
          -0.029594163679727524,
          -0.028381703616889367,
          -0.022598023033064685,
          -0.017651325518251167,
          -0.008162194478712873,
          -0.0012615987470300308
         ],
         "yaxis": "y2"
        },
        {
         "fill": "toself",
         "fillcolor": "rgba(230, 25, 75, 0.15)",
         "line": {
          "color": "rgba(255,255,255,0)"
         },
         "mode": "lines",
         "name": "MCC",
         "showlegend": false,
         "type": "scatter",
         "x": [
          1,
          1.5,
          2,
          2.5,
          3,
          3.5,
          4,
          4.5,
          5,
          5.5,
          6,
          6.5,
          7,
          7.5,
          8,
          8.5,
          9,
          9.5,
          10,
          10,
          9.5,
          9,
          8.5,
          8,
          7.5,
          7,
          6.5,
          6,
          5.5,
          5,
          4.5,
          4,
          3.5,
          3,
          2.5,
          2,
          1.5,
          1
         ],
         "xaxis": "x2",
         "y": [
          0.01980798007362923,
          0.0205947624430568,
          0.03727084581321932,
          0.05718895751284571,
          0.059103107284208645,
          0.06990246403286149,
          0.06834412671236637,
          0.07766090988222904,
          0.09738017090157366,
          0.11382783326478765,
          0.11535076043457163,
          0.09159829837169918,
          0.10581096331479609,
          0.12087124534214053,
          0.1269044822090859,
          0.10940449057357447,
          0.11926868761308443,
          0.1329214709230246,
          0.1310248568247682,
          -0.014587850266212753,
          -0.009652999577666264,
          -0.008697269702823092,
          -0.014164409171171607,
          -0.014938361057144793,
          -0.016369362021157657,
          -0.009631577931819811,
          -0.00823071576719861,
          -0.017273421608586977,
          -0.02321971828776579,
          -0.015646519412924477,
          -0.012345699791173892,
          -0.011517191805155372,
          -0.016761515980384768,
          -0.008292341191551336,
          -0.008683833532526327,
          -0.004541315611466194,
          0.0007727998932553631,
          -0.0014300024330358048
         ],
         "yaxis": "y2"
        },
        {
         "fill": "toself",
         "fillcolor": "rgba(0, 128, 128, 0.15)",
         "line": {
          "color": "rgba(255,255,255,0)"
         },
         "mode": "lines",
         "name": "Bal. Accuracy",
         "showlegend": false,
         "type": "scatter",
         "x": [
          1,
          1.5,
          2,
          2.5,
          3,
          3.5,
          4,
          4.5,
          5,
          5.5,
          6,
          6.5,
          7,
          7.5,
          8,
          8.5,
          9,
          9.5,
          10,
          10,
          9.5,
          9,
          8.5,
          8,
          7.5,
          7,
          6.5,
          6,
          5.5,
          5,
          4.5,
          4,
          3.5,
          3,
          2.5,
          2,
          1.5,
          1
         ],
         "xaxis": "x2",
         "y": [
          0.008612655892036327,
          0.01618037379857482,
          0.03678960538197433,
          0.059540888998212006,
          0.07142412162691539,
          0.07984550238199062,
          0.08788569173544215,
          0.1041663858039317,
          0.11718449546109017,
          0.12028697155721424,
          0.12460440602065684,
          0.1289416405867881,
          0.1340777185010804,
          0.14627661122323632,
          0.1507308498049789,
          0.1447672560011266,
          0.1625007804111801,
          0.1618840138779771,
          0.16642375928447706,
          0.03129639040228373,
          0.03504494143889114,
          0.03082389825998945,
          0.02380630175872022,
          0.025649173620179266,
          0.023078945700247724,
          0.02702575802563937,
          0.019472889108030716,
          0.017666085430294624,
          0.01366166078932169,
          0.016662622316808963,
          0.01019392622797869,
          0.009026743458008496,
          0.004576034732205983,
          0.002523286272416665,
          0.00021735537832016927,
          -0.0008789044538005074,
          0.00007424553892375341,
          -0.0006296144938575344
         ],
         "yaxis": "y2"
        },
        {
         "line": {
          "color": "rgb(67, 99, 216)",
          "width": 4
         },
         "mode": "lines",
         "name": "Accuracy",
         "showlegend": false,
         "type": "scatter",
         "x": [
          1,
          1.5,
          2,
          2.5,
          3,
          3.5,
          4,
          4.5,
          5,
          5.5,
          6,
          6.5,
          7,
          7.5,
          8,
          8.5,
          9,
          9.5,
          10
         ],
         "xaxis": "x2",
         "y": [
          0.003991521894931793,
          0.0035971750039607286,
          0.004726211074739695,
          0.005069047212600708,
          0.0034495890140533447,
          0.00276917964220047,
          0.002929988084360957,
          0.0027723435778170824,
          0.003250596346333623,
          0.002692225156351924,
          0.002670596120879054,
          0.0026193459052592516,
          0.0024819422978907824,
          0.002289682626724243,
          0.0018918663263320923,
          0.0015878354897722602,
          0.0017343932995572686,
          0.0016435757279396057,
          0.0019999246578663588
         ],
         "yaxis": "y2"
        },
        {
         "line": {
          "color": "rgb(245, 130, 49)",
          "width": 4
         },
         "mode": "lines",
         "name": "F1 Score",
         "showlegend": false,
         "type": "scatter",
         "x": [
          1,
          1.5,
          2,
          2.5,
          3,
          3.5,
          4,
          4.5,
          5,
          5.5,
          6,
          6.5,
          7,
          7.5,
          8,
          8.5,
          9,
          9.5,
          10
         ],
         "xaxis": "x2",
         "y": [
          0.01052256560938101,
          0.02025300799040446,
          0.033006032713947656,
          0.0475842896980585,
          0.05441832835862126,
          0.05621853945865848,
          0.06110961482033117,
          0.06777853329709084,
          0.075717507516138,
          0.0790049453560958,
          0.08264176393925682,
          0.07721276862997678,
          0.0823877632233057,
          0.08694671454415187,
          0.08955588204874905,
          0.08246907493592338,
          0.09435276205725662,
          0.09580520956619991,
          0.09289377428872936
         ],
         "yaxis": "y2"
        },
        {
         "line": {
          "color": "rgb(230, 25, 75)",
          "width": 4
         },
         "mode": "lines",
         "name": "MCC",
         "showlegend": false,
         "type": "scatter",
         "x": [
          1,
          1.5,
          2,
          2.5,
          3,
          3.5,
          4,
          4.5,
          5,
          5.5,
          6,
          6.5,
          7,
          7.5,
          8,
          8.5,
          9,
          9.5,
          10
         ],
         "xaxis": "x2",
         "y": [
          0.009188988820296713,
          0.010683781168156081,
          0.016364765100876564,
          0.024252561990159693,
          0.025405383046328656,
          0.02657047402623836,
          0.028413467453605495,
          0.032657605045527574,
          0.04086682574432459,
          0.04530405748851093,
          0.04903866941299232,
          0.041683791302250285,
          0.04808969269148814,
          0.052250941660491435,
          0.05598306057597056,
          0.04762004070120143,
          0.055285708955130665,
          0.061634235672679165,
          0.058218503279277724
         ],
         "yaxis": "y2"
        },
        {
         "line": {
          "color": "rgb(0, 128, 128)",
          "width": 4
         },
         "mode": "lines",
         "name": "Bal. Accuracy",
         "showlegend": false,
         "type": "scatter",
         "x": [
          1,
          1.5,
          2,
          2.5,
          3,
          3.5,
          4,
          4.5,
          5,
          5.5,
          6,
          6.5,
          7,
          7.5,
          8,
          8.5,
          9,
          9.5,
          10
         ],
         "xaxis": "x2",
         "y": [
          0.003991520699089396,
          0.008127309668749286,
          0.017955350464086913,
          0.029879122188266088,
          0.03697370394966603,
          0.0422107685570983,
          0.048456217596725325,
          0.0571801560159552,
          0.06692355888894956,
          0.06697431617326796,
          0.07113524572547573,
          0.0742072648474094,
          0.08055173826335989,
          0.08467777846174201,
          0.08819001171257908,
          0.08428677887992342,
          0.09666233933558478,
          0.09846447765843412,
          0.0988600748433804
         ],
         "yaxis": "y2"
        },
        {
         "fill": "toself",
         "fillcolor": "rgba(67, 99, 216, 0.15)",
         "line": {
          "color": "rgba(255,255,255,0)"
         },
         "mode": "lines",
         "name": "Accuracy",
         "showlegend": false,
         "type": "scatter",
         "x": [
          1,
          1.5,
          2,
          2.5,
          3,
          3.5,
          4,
          4.5,
          5,
          5.5,
          6,
          6.5,
          7,
          7.5,
          8,
          8.5,
          9,
          9.5,
          10,
          10,
          9.5,
          9,
          8.5,
          8,
          7.5,
          7,
          6.5,
          6,
          5.5,
          5,
          4.5,
          4,
          3.5,
          3,
          2.5,
          2,
          1.5,
          1
         ],
         "xaxis": "x3",
         "y": [
          0.015105340629816055,
          0.023924104869365692,
          0.04444969445466995,
          0.05770844221115112,
          0.07793495059013367,
          0.09398840367794037,
          0.10824868828058243,
          0.12039433419704437,
          0.12836581468582153,
          0.13763262331485748,
          0.146600142121315,
          0.1524699479341507,
          0.1588783860206604,
          0.16293179988861084,
          0.16866564750671387,
          0.17391836643218994,
          0.17697525024414062,
          0.18046918511390686,
          0.18403756618499756,
          0.00541435182094574,
          0.0036645159125328064,
          0.0034878700971603394,
          0.0037567242980003357,
          0.0030724555253982544,
          0.0023813769221305847,
          0.0008351355791091919,
          0.0014319419860839844,
          0.0009042620658874512,
          0.0004688352346420288,
          -0.0008113011717796326,
          0.00015227124094963074,
          -0.0014424100518226624,
          -0.0007051937282085419,
          -0.0006839223206043243,
          0.000301973894238472,
          -0.0016633961349725723,
          -0.002719355747103691,
          -0.0016627456061542034
         ],
         "yaxis": "y3"
        },
        {
         "fill": "toself",
         "fillcolor": "rgba(245, 130, 49, 0.15)",
         "line": {
          "color": "rgba(255,255,255,0)"
         },
         "mode": "lines",
         "name": "F1 Score",
         "showlegend": false,
         "type": "scatter",
         "x": [
          1,
          1.5,
          2,
          2.5,
          3,
          3.5,
          4,
          4.5,
          5,
          5.5,
          6,
          6.5,
          7,
          7.5,
          8,
          8.5,
          9,
          9.5,
          10,
          10,
          9.5,
          9,
          8.5,
          8,
          7.5,
          7,
          6.5,
          6,
          5.5,
          5,
          4.5,
          4,
          3.5,
          3,
          2.5,
          2,
          1.5,
          1
         ],
         "xaxis": "x3",
         "y": [
          0.02313169330789802,
          0.022745471142978,
          0.033100036214998366,
          0.04335957279869059,
          0.055908428393836355,
          0.0626055446745068,
          0.07527765796601768,
          0.08140230183560873,
          0.0957963795980123,
          0.10333097090003163,
          0.11529583157711513,
          0.1182236445224002,
          0.12586838707621334,
          0.1326391932938238,
          0.1404895600429222,
          0.14658778874595385,
          0.15472921221072478,
          0.15471343372474336,
          0.16012673794990104,
          0.04052123719374748,
          0.04256617127707992,
          0.03471507014160225,
          0.03224164993401164,
          0.034239529181768376,
          0.02520563923064771,
          0.02904627507409048,
          0.029430964582003664,
          0.021976475553722466,
          0.018966945485998594,
          0.018050057132936122,
          0.014203018938047672,
          0.00764017057744127,
          0.008903521352233695,
          0.008033927580644855,
          0.005168116529956343,
          -0.0005810377294356885,
          -0.0020369901680381587,
          -0.006011925283938856
         ],
         "yaxis": "y3"
        },
        {
         "fill": "toself",
         "fillcolor": "rgba(230, 25, 75, 0.15)",
         "line": {
          "color": "rgba(255,255,255,0)"
         },
         "mode": "lines",
         "name": "MCC",
         "showlegend": false,
         "type": "scatter",
         "x": [
          1,
          1.5,
          2,
          2.5,
          3,
          3.5,
          4,
          4.5,
          5,
          5.5,
          6,
          6.5,
          7,
          7.5,
          8,
          8.5,
          9,
          9.5,
          10,
          10,
          9.5,
          9,
          8.5,
          8,
          7.5,
          7,
          6.5,
          6,
          5.5,
          5,
          4.5,
          4,
          3.5,
          3,
          2.5,
          2,
          1.5,
          1
         ],
         "xaxis": "x3",
         "y": [
          0.035490166130763105,
          0.035218499426927605,
          0.04626811073009454,
          0.03732954420372328,
          0.05254533558681912,
          0.05791183122819811,
          0.06496240932946518,
          0.06992053192539247,
          0.07186977580526657,
          0.06713843063480013,
          0.08358951511648252,
          0.08221039179371974,
          0.08975575721040475,
          0.08734043841512117,
          0.09347517315540604,
          0.09742704878088543,
          0.10382821106792547,
          0.11130330504884384,
          0.11069960351740517,
          0.012413548736638289,
          0.010675336969911832,
          0.016801091577989133,
          0.01875685775163983,
          0.016655639081508335,
          0.016140338416824176,
          0.009398085684735907,
          0.01303038271939419,
          0.009892472790676538,
          0.010693347014550839,
          0.002830592793948962,
          0.006730400391642917,
          0.0005319851988247054,
          0.0010219481771118095,
          -0.0013872096578840289,
          0.0023039949501567902,
          -0.003989241097459659,
          -0.004250401358675354,
          -0.003809882069293051
         ],
         "yaxis": "y3"
        },
        {
         "fill": "toself",
         "fillcolor": "rgba(0, 128, 128, 0.15)",
         "line": {
          "color": "rgba(255,255,255,0)"
         },
         "mode": "lines",
         "name": "Bal. Accuracy",
         "showlegend": false,
         "type": "scatter",
         "x": [
          1,
          1.5,
          2,
          2.5,
          3,
          3.5,
          4,
          4.5,
          5,
          5.5,
          6,
          6.5,
          7,
          7.5,
          8,
          8.5,
          9,
          9.5,
          10,
          10,
          9.5,
          9,
          8.5,
          8,
          7.5,
          7,
          6.5,
          6,
          5.5,
          5,
          4.5,
          4,
          3.5,
          3,
          2.5,
          2,
          1.5,
          1
         ],
         "xaxis": "x3",
         "y": [
          0.015034981197132768,
          0.015389781533497886,
          0.019720867871216498,
          0.014235987378442411,
          0.020858433785308467,
          0.01669342773858297,
          0.017609146974107096,
          0.030505426533965433,
          0.020980032967332876,
          0.020094364086969758,
          0.025599313262020702,
          0.02132406117869859,
          0.02114345350449627,
          0.025513865370611385,
          0.03043104079940727,
          0.02537584065431063,
          0.035866074710910516,
          0.030258377734542985,
          0.03254419034675218,
          -0.00509114082557538,
          -0.006887003994950153,
          -0.007802865551536068,
          -0.006428594294435342,
          -0.007358428493276588,
          -0.004834940673262424,
          -0.0035942083420509984,
          -0.004988342695312299,
          -0.0050009347520666506,
          -0.0028715845515503505,
          -0.00296098245373491,
          -0.005577500975904873,
          -0.0039060994712448206,
          -0.0021692147484226936,
          -0.004165491443716406,
          -0.0013059285708702144,
          -0.0037153687817195937,
          -0.0026481796252272975,
          -0.0018637947265689363
         ],
         "yaxis": "y3"
        },
        {
         "fill": "toself",
         "fillcolor": "rgba(128, 128, 0, 0.15)",
         "line": {
          "color": "rgba(255,255,255,0)"
         },
         "mode": "lines",
         "name": "EC (est. prev.)",
         "showlegend": false,
         "type": "scatter",
         "x": [
          1,
          1.5,
          2,
          2.5,
          3,
          3.5,
          4,
          4.5,
          5,
          5.5,
          6,
          6.5,
          7,
          7.5,
          8,
          8.5,
          9,
          9.5,
          10,
          10,
          9.5,
          9,
          8.5,
          8,
          7.5,
          7,
          6.5,
          6,
          5.5,
          5,
          4.5,
          4,
          3.5,
          3,
          2.5,
          2,
          1.5,
          1
         ],
         "xaxis": "x3",
         "y": [
          0.020581542951597045,
          0.013276525401597718,
          0.011313622467024113,
          0.014794207968762307,
          0.0077312697045395454,
          0.013034070005514374,
          0.012854003678505331,
          0.015313584322566829,
          0.01308826886382319,
          0.015788550316414997,
          0.013327388934546394,
          0.016721865658026986,
          0.012954688429229796,
          0.013162318263823112,
          0.013211572533655472,
          0.009716950727543893,
          0.009137874099357887,
          0.009758774189477543,
          0.00943488669579694,
          -0.0025799884179774123,
          -0.002552848031935414,
          -0.0023544305195327656,
          -0.0023537331594083656,
          -0.0036433207015857264,
          -0.0038228563479764293,
          -0.004623736578829082,
          -0.005576017480256688,
          -0.003870847892321263,
          -0.004488016220938173,
          -0.0033522210183783915,
          -0.004882577339359745,
          -0.0032750259318998593,
          -0.0026153265050949236,
          0.0001531891855674184,
          -0.0028807957195024813,
          -0.0018606413208181877,
          -0.0013108565283998655,
          -0.00359139162079619
         ],
         "yaxis": "y3"
        },
        {
         "fill": "toself",
         "fillcolor": "rgba(60, 180, 75, 0.15)",
         "line": {
          "color": "rgba(255,255,255,0)"
         },
         "mode": "lines",
         "name": "EC (dep. prev.)",
         "showlegend": false,
         "type": "scatter",
         "x": [
          1,
          1.5,
          2,
          2.5,
          3,
          3.5,
          4,
          4.5,
          5,
          5.5,
          6,
          6.5,
          7,
          7.5,
          8,
          8.5,
          9,
          9.5,
          10,
          10,
          9.5,
          9,
          8.5,
          8,
          7.5,
          7,
          6.5,
          6,
          5.5,
          5,
          4.5,
          4,
          3.5,
          3,
          2.5,
          2,
          1.5,
          1
         ],
         "xaxis": "x3",
         "y": [
          0.014716874542990352,
          0.012689037314999013,
          0.015986155006435826,
          0.014789104875208469,
          0.012883045493562664,
          0.010288307107947182,
          0.009600011955967873,
          0.007160246798029608,
          0.00688504564259838,
          0.005360521792225936,
          0.0060038319111077225,
          0.005560792067594744,
          0.004756752099375779,
          0.006562683063660058,
          0.006832399439942479,
          0.006519157667770888,
          0.007370167784884523,
          0.006148470778379688,
          0.007524166648635948,
          -0.0011616603560938928,
          -0.0008893293525180507,
          -0.0007861373647128052,
          -0.0006676367608745453,
          -0.0003665518147926575,
          -0.000640031498382705,
          -0.00018671089748540336,
          -0.0008045523863783465,
          0.00005544998174139906,
          0.00018020404997867463,
          -0.0006167593256711365,
          -0.0010923676350128174,
          -0.001492852005286537,
          -0.0009673835331353783,
          -0.0018230335464859745,
          -0.002713046935319311,
          -0.003943512428145057,
          -0.0017373935329953322,
          -0.001493578148946015
         ],
         "yaxis": "y3"
        },
        {
         "line": {
          "color": "rgb(67, 99, 216)",
          "width": 4
         },
         "mode": "lines",
         "name": "Accuracy",
         "type": "scatter",
         "x": [
          1,
          1.5,
          2,
          2.5,
          3,
          3.5,
          4,
          4.5,
          5,
          5.5,
          6,
          6.5,
          7,
          7.5,
          8,
          8.5,
          9,
          9.5,
          10
         ],
         "xaxis": "x3",
         "y": [
          0.00672129774466157,
          0.010602374561131,
          0.021393150091171265,
          0.029005208984017372,
          0.03862551227211952,
          0.046641603112220764,
          0.05340313911437988,
          0.06027330085635185,
          0.06377725303173065,
          0.06905072927474976,
          0.07375220209360123,
          0.07695094496011734,
          0.0798567607998848,
          0.08265659213066101,
          0.08586905151605606,
          0.08883754163980484,
          0.09023156017065048,
          0.09206684678792953,
          0.09472595900297165
         ],
         "yaxis": "y3"
        },
        {
         "line": {
          "color": "rgb(245, 130, 49)",
          "width": 4
         },
         "mode": "lines",
         "name": "F1 Score",
         "type": "scatter",
         "x": [
          1,
          1.5,
          2,
          2.5,
          3,
          3.5,
          4,
          4.5,
          5,
          5.5,
          6,
          6.5,
          7,
          7.5,
          8,
          8.5,
          9,
          9.5,
          10
         ],
         "xaxis": "x3",
         "y": [
          0.008559884011979582,
          0.010354240487469921,
          0.016259499242781337,
          0.024263844664323467,
          0.031971177987240605,
          0.03575453301337025,
          0.04145891427172947,
          0.0478026603868282,
          0.056923218365474204,
          0.061148958193015114,
          0.0686361535654188,
          0.07382730455220193,
          0.0774573310751519,
          0.07892241626223576,
          0.08736454461234529,
          0.08941471933998274,
          0.09472214117616351,
          0.09863980250091164,
          0.10032398757182426
         ],
         "yaxis": "y3"
        },
        {
         "line": {
          "color": "rgb(230, 25, 75)",
          "width": 4
         },
         "mode": "lines",
         "name": "MCC",
         "type": "scatter",
         "x": [
          1,
          1.5,
          2,
          2.5,
          3,
          3.5,
          4,
          4.5,
          5,
          5.5,
          6,
          6.5,
          7,
          7.5,
          8,
          8.5,
          9,
          9.5,
          10
         ],
         "xaxis": "x3",
         "y": [
          0.015840142030735027,
          0.015484049034126125,
          0.021139434816317443,
          0.019816769576940035,
          0.025579062964467547,
          0.02946688970265496,
          0.03274719726414494,
          0.038325466158517695,
          0.03735018429960777,
          0.03891588882467548,
          0.04674099395357953,
          0.04762038725655696,
          0.04957692144757033,
          0.05174038841597267,
          0.05506540611845719,
          0.05809195326626263,
          0.060314651322957304,
          0.06098932100937784,
          0.06155657612702173
         ],
         "yaxis": "y3"
        },
        {
         "line": {
          "color": "rgb(0, 128, 128)",
          "width": 4
         },
         "mode": "lines",
         "name": "Bal. Accuracy",
         "type": "scatter",
         "x": [
          1,
          1.5,
          2,
          2.5,
          3,
          3.5,
          4,
          4.5,
          5,
          5.5,
          6,
          6.5,
          7,
          7.5,
          8,
          8.5,
          9,
          9.5,
          10
         ],
         "xaxis": "x3",
         "y": [
          0.006585593235281915,
          0.0063708009541352945,
          0.008002749544748453,
          0.006465029403786099,
          0.00834647117079603,
          0.007262106495080138,
          0.006851523751431138,
          0.01246396277903028,
          0.009009525256798984,
          0.008611389767709704,
          0.010299189254977026,
          0.008167859241693146,
          0.008774622581222635,
          0.01033946234867448,
          0.01153630615306534,
          0.009473623179937643,
          0.014031604579687223,
          0.011685686869796416,
          0.013726524760588402
         ],
         "yaxis": "y3"
        },
        {
         "line": {
          "color": "rgb(128, 128, 0)",
          "width": 4
         },
         "mode": "lines",
         "name": "EC (est. prev.)",
         "type": "scatter",
         "x": [
          1,
          1.5,
          2,
          2.5,
          3,
          3.5,
          4,
          4.5,
          5,
          5.5,
          6,
          6.5,
          7,
          7.5,
          8,
          8.5,
          9,
          9.5,
          10
         ],
         "xaxis": "x3",
         "y": [
          0.008495075665400429,
          0.0059828344365989265,
          0.0047264905731029625,
          0.005956706124629912,
          0.003942229445053482,
          0.005209371750209725,
          0.004789488873302736,
          0.0052155034916035415,
          0.004868023922722399,
          0.005650267047738411,
          0.004728270521112565,
          0.005572924088885149,
          0.004165475925200357,
          0.004669730957923341,
          0.004784125916034872,
          0.0036816087840677637,
          0.0033917217899125606,
          0.0036029630787710646,
          0.0034274491389097647
         ],
         "yaxis": "y3"
        },
        {
         "line": {
          "color": "rgb(60, 180, 75)",
          "width": 4
         },
         "mode": "lines",
         "name": "EC (dep. prev.)",
         "type": "scatter",
         "x": [
          1,
          1.5,
          2,
          2.5,
          3,
          3.5,
          4,
          4.5,
          5,
          5.5,
          6,
          6.5,
          7,
          7.5,
          8,
          8.5,
          9,
          9.5,
          10
         ],
         "xaxis": "x3",
         "y": [
          0.006611648197022168,
          0.0054758218910018405,
          0.006021321289145384,
          0.0060380289699445795,
          0.005530005973538345,
          0.004660461787405902,
          0.0040535799753406675,
          0.003033939581508395,
          0.003134143158463622,
          0.0027703629211023053,
          0.003029640946424561,
          0.002378119840608199,
          0.0022850206009451877,
          0.0029613257826386764,
          0.003232923812574911,
          0.0029257604534481713,
          0.003292015210085859,
          0.0026295707129308185,
          0.003181253146271027
         ],
         "yaxis": "y3"
        },
        {
         "fill": "toself",
         "fillcolor": "rgba(67, 99, 216, 0.15)",
         "line": {
          "color": "rgba(255,255,255,0)"
         },
         "mode": "lines",
         "name": "Accuracy",
         "showlegend": false,
         "type": "scatter",
         "x": [
          1,
          1.5,
          2,
          2.5,
          3,
          3.5,
          4,
          4.5,
          5,
          5.5,
          6,
          6.5,
          7,
          7.5,
          8,
          8.5,
          9,
          9.5,
          10,
          10,
          9.5,
          9,
          8.5,
          8,
          7.5,
          7,
          6.5,
          6,
          5.5,
          5,
          4.5,
          4,
          3.5,
          3,
          2.5,
          2,
          1.5,
          1
         ],
         "xaxis": "x4",
         "y": [
          0.016339289024472237,
          0.027084436267614365,
          0.044683732092380524,
          0.0651104748249054,
          0.09049418568611145,
          0.0923585593700409,
          0.10719425231218338,
          0.1158800721168518,
          0.13836070895195007,
          0.1532168835401535,
          0.16026762127876282,
          0.14997899532318115,
          0.1787019968032837,
          0.1438361406326294,
          0.18401913344860077,
          0.17588907480239868,
          0.17164134979248047,
          0.177738219499588,
          0.18306410312652588,
          0.0037895962595939636,
          -0.00029418617486953735,
          0.0026666298508644104,
          0.0009394288063049316,
          -0.0030631721019744873,
          0.0044974833726882935,
          -0.008443571627140045,
          0.00051889568567276,
          -0.0031877756118774414,
          -0.004273205995559692,
          -0.007208727300167084,
          0.00036171823740005493,
          -0.0019714534282684326,
          -0.002359740436077118,
          -0.005540717393159866,
          -0.0033583249896764755,
          -0.00151117704808712,
          -0.003528079017996788,
          -0.001476796343922615
         ],
         "yaxis": "y4"
        },
        {
         "fill": "toself",
         "fillcolor": "rgba(245, 130, 49, 0.15)",
         "line": {
          "color": "rgba(255,255,255,0)"
         },
         "mode": "lines",
         "name": "F1 Score",
         "showlegend": false,
         "type": "scatter",
         "x": [
          1,
          1.5,
          2,
          2.5,
          3,
          3.5,
          4,
          4.5,
          5,
          5.5,
          6,
          6.5,
          7,
          7.5,
          8,
          8.5,
          9,
          9.5,
          10,
          10,
          9.5,
          9,
          8.5,
          8,
          7.5,
          7,
          6.5,
          6,
          5.5,
          5,
          4.5,
          4,
          3.5,
          3,
          2.5,
          2,
          1.5,
          1
         ],
         "xaxis": "x4",
         "y": [
          0.02110523281821852,
          0.022347190886284098,
          0.03246335701694583,
          0.04396515117833967,
          0.05754425142086331,
          0.0647429112669826,
          0.07568715158343559,
          0.08386938362659564,
          0.09586806852824344,
          0.10598332641443689,
          0.11778830041733637,
          0.12110458166072943,
          0.11521647455670406,
          0.13282795254094945,
          0.14224056602884802,
          0.14865638157643088,
          0.15597531962456088,
          0.15635885976541297,
          0.16532249783284436,
          0.03841059932472066,
          0.04265433941249738,
          0.03441987551957985,
          0.03265298230282449,
          0.03231908420170549,
          0.026862411196835752,
          0.02940442043171984,
          0.02841940799649128,
          0.02225842271302083,
          0.019408496854961682,
          0.018841522765068494,
          0.014258302018766739,
          0.009107410687651633,
          0.010488364897031099,
          0.00821907893187521,
          0.006145130250935736,
          0.0004452323424555364,
          -0.0021077411344594312,
          -0.004760331021393317
         ],
         "yaxis": "y4"
        },
        {
         "fill": "toself",
         "fillcolor": "rgba(230, 25, 75, 0.15)",
         "line": {
          "color": "rgba(255,255,255,0)"
         },
         "mode": "lines",
         "name": "MCC",
         "showlegend": false,
         "type": "scatter",
         "x": [
          1,
          1.5,
          2,
          2.5,
          3,
          3.5,
          4,
          4.5,
          5,
          5.5,
          6,
          6.5,
          7,
          7.5,
          8,
          8.5,
          9,
          9.5,
          10,
          10,
          9.5,
          9,
          8.5,
          8,
          7.5,
          7,
          6.5,
          6,
          5.5,
          5,
          4.5,
          4,
          3.5,
          3,
          2.5,
          2,
          1.5,
          1
         ],
         "xaxis": "x4",
         "y": [
          0.037570249297985754,
          0.03532108026630301,
          0.04525411480887262,
          0.03851799900869966,
          0.05128863527022748,
          0.057031527704694066,
          0.06309734567811837,
          0.06776381877620058,
          0.06880706846270052,
          0.0735599645198719,
          0.07579395173823972,
          0.07943868067922547,
          0.09602862554526612,
          0.08343922167555064,
          0.09127326341003944,
          0.09309870485583431,
          0.10290381690423411,
          0.10466900745135746,
          0.10256108776493719,
          0.012842993909197499,
          0.00826294475118746,
          0.010852910410327744,
          0.0165953750450909,
          0.015172948455936544,
          0.011239497199337894,
          0.0029377023773853594,
          0.012230775694849615,
          0.006219053484409119,
          0.010351948069967025,
          -0.0003822581882828788,
          0.002924940864989574,
          -0.0013090524043304075,
          -0.0018406066794821978,
          -0.0031852977755051186,
          0.0004866228496580617,
          -0.005099566575874907,
          -0.005513496204574612,
          -0.0027088952482706846
         ],
         "yaxis": "y4"
        },
        {
         "fill": "toself",
         "fillcolor": "rgba(0, 128, 128, 0.15)",
         "line": {
          "color": "rgba(255,255,255,0)"
         },
         "mode": "lines",
         "name": "Bal. Accuracy",
         "showlegend": false,
         "type": "scatter",
         "x": [
          1,
          1.5,
          2,
          2.5,
          3,
          3.5,
          4,
          4.5,
          5,
          5.5,
          6,
          6.5,
          7,
          7.5,
          8,
          8.5,
          9,
          9.5,
          10,
          10,
          9.5,
          9,
          8.5,
          8,
          7.5,
          7,
          6.5,
          6,
          5.5,
          5,
          4.5,
          4,
          3.5,
          3,
          2.5,
          2,
          1.5,
          1
         ],
         "xaxis": "x4",
         "y": [
          0.016339289383293685,
          0.0159425336687673,
          0.01986346503577586,
          0.015921368755533606,
          0.021487604915300128,
          0.016573779115641847,
          0.017182879243328255,
          0.031731866313343744,
          0.018159600455558603,
          0.02529878762052719,
          0.020353155412009785,
          0.02012908691960636,
          0.02565179369081718,
          0.021246437113097188,
          0.02653973798667805,
          0.02386736718806659,
          0.03059318963913092,
          0.029711644721819058,
          0.03067208949928745,
          -0.0051959401998218965,
          -0.00644873556785013,
          -0.006671946523638178,
          -0.005410164214118855,
          -0.006047930426806843,
          -0.003219775321033857,
          -0.005348466231985238,
          -0.0045875954572349035,
          -0.0037511348755396353,
          -0.006471291754535808,
          -0.0023342044452650413,
          -0.006664979539905476,
          -0.003420439929118637,
          -0.000998784522477563,
          -0.0038962859961646588,
          -0.002076052822468754,
          -0.0031403841525864604,
          -0.002535870544887401,
          -0.0014768020654801891
         ],
         "yaxis": "y4"
        },
        {
         "fill": "toself",
         "fillcolor": "rgba(128, 128, 0, 0.15)",
         "line": {
          "color": "rgba(255,255,255,0)"
         },
         "mode": "lines",
         "name": "EC (est. prev.)",
         "showlegend": false,
         "type": "scatter",
         "x": [
          1,
          1.5,
          2,
          2.5,
          3,
          3.5,
          4,
          4.5,
          5,
          5.5,
          6,
          6.5,
          7,
          7.5,
          8,
          8.5,
          9,
          9.5,
          10,
          10,
          9.5,
          9,
          8.5,
          8,
          7.5,
          7,
          6.5,
          6,
          5.5,
          5,
          4.5,
          4,
          3.5,
          3,
          2.5,
          2,
          1.5,
          1
         ],
         "xaxis": "x4",
         "y": [
          0.017431992942121412,
          0.015125009017863308,
          0.011350663569144975,
          0.013550325862069803,
          0.010077722598845831,
          0.010915445436774073,
          0.01217511718023213,
          0.017657580622227997,
          0.01386359170166217,
          0.01537190326461384,
          0.013130217977022785,
          0.01224406946636631,
          0.012635543866489827,
          0.013534498774694832,
          0.014287322975202838,
          0.007732216797754285,
          0.007230508996467201,
          0.007838678782310423,
          0.007703416369738904,
          -0.0011185020412855322,
          -0.0010444102244680335,
          -0.0015015615203385494,
          -0.001034375631158596,
          -0.003706094669158692,
          -0.004622706238292474,
          -0.004155087712673857,
          -0.004416284400538618,
          -0.0034609892567335236,
          -0.004418066626840287,
          -0.00414677374824745,
          -0.005550765047316884,
          -0.003989489804309669,
          -0.0018697854552239095,
          -0.0017344544345745394,
          -0.0008262630874700267,
          -0.0010268214310898633,
          -0.0019169776871676824,
          -0.0014481997474316832
         ],
         "yaxis": "y4"
        },
        {
         "fill": "toself",
         "fillcolor": "rgba(60, 180, 75, 0.15)",
         "line": {
          "color": "rgba(255,255,255,0)"
         },
         "mode": "lines",
         "name": "EC (dep. prev.)",
         "showlegend": false,
         "type": "scatter",
         "x": [
          1,
          1.5,
          2,
          2.5,
          3,
          3.5,
          4,
          4.5,
          5,
          5.5,
          6,
          6.5,
          7,
          7.5,
          8,
          8.5,
          9,
          9.5,
          10,
          10,
          9.5,
          9,
          8.5,
          8,
          7.5,
          7,
          6.5,
          6,
          5.5,
          5,
          4.5,
          4,
          3.5,
          3,
          2.5,
          2,
          1.5,
          1
         ],
         "xaxis": "x4",
         "y": [
          0.015329487787400684,
          0.01584650553091795,
          0.011287713367730741,
          0.012493318773698234,
          0.009869960345007563,
          0.008762033923765417,
          0.0057883302787523,
          0.0062873622783446,
          0.0064930022309954635,
          0.005634079687466106,
          0.005889275243718502,
          0.006924637639609716,
          0.004278625275732658,
          0.006550688634457834,
          0.007361460501600296,
          0.005812873291254919,
          0.007706330403110093,
          0.005464639405400424,
          0.005505312448609452,
          -0.000754636648961898,
          -0.0005571888534142886,
          -0.0006591994343207574,
          -0.00032266285466355654,
          -0.0006975504812161584,
          -0.0006095508129833178,
          -0.00028642646725592384,
          -0.0016812217260370457,
          0.00011468007880408894,
          0.00011234307881896784,
          -0.0003544252120150468,
          0.000023091280142966374,
          -0.0003327092971112137,
          -0.0006723248272576783,
          -0.0004838223102144497,
          -0.001527457151729519,
          -0.0012244725544769616,
          -0.0030119448302527475,
          -0.0011248952064293136
         ],
         "yaxis": "y4"
        },
        {
         "line": {
          "color": "rgb(67, 99, 216)",
          "width": 4
         },
         "mode": "lines",
         "name": "Accuracy",
         "showlegend": false,
         "type": "scatter",
         "x": [
          1,
          1.5,
          2,
          2.5,
          3,
          3.5,
          4,
          4.5,
          5,
          5.5,
          6,
          6.5,
          7,
          7.5,
          8,
          8.5,
          9,
          9.5,
          10
         ],
         "xaxis": "x4",
         "y": [
          0.007431246340274811,
          0.011778178624808788,
          0.021586276590824127,
          0.030876075848937035,
          0.04247673228383064,
          0.04499940946698189,
          0.052611399441957474,
          0.05812089517712593,
          0.0655759945511818,
          0.0744718387722969,
          0.07853992283344269,
          0.07524894922971725,
          0.08512920886278152,
          0.07416681200265884,
          0.09047798067331314,
          0.0884142518043518,
          0.08715399354696274,
          0.08872201293706894,
          0.09342685341835022
         ],
         "yaxis": "y4"
        },
        {
         "line": {
          "color": "rgb(245, 130, 49)",
          "width": 4
         },
         "mode": "lines",
         "name": "F1 Score",
         "showlegend": false,
         "type": "scatter",
         "x": [
          1,
          1.5,
          2,
          2.5,
          3,
          3.5,
          4,
          4.5,
          5,
          5.5,
          6,
          6.5,
          7,
          7.5,
          8,
          8.5,
          9,
          9.5,
          10
         ],
         "xaxis": "x4",
         "y": [
          0.0081724508984126,
          0.010119724875912334,
          0.016454294679700682,
          0.025055140714637703,
          0.03288166517636926,
          0.03761563808200685,
          0.042397281135543606,
          0.04906384282268119,
          0.057354795646655965,
          0.06269591163469929,
          0.0700233615651786,
          0.07476199482861036,
          0.07231044749421195,
          0.0798451818688926,
          0.08727982511527675,
          0.09065468193962768,
          0.09519759757207036,
          0.09950659958895518,
          0.10186654857878251
         ],
         "yaxis": "y4"
        },
        {
         "line": {
          "color": "rgb(230, 25, 75)",
          "width": 4
         },
         "mode": "lines",
         "name": "MCC",
         "showlegend": false,
         "type": "scatter",
         "x": [
          1,
          1.5,
          2,
          2.5,
          3,
          3.5,
          4,
          4.5,
          5,
          5.5,
          6,
          6.5,
          7,
          7.5,
          8,
          8.5,
          9,
          9.5,
          10
         ],
         "xaxis": "x4",
         "y": [
          0.017430677024857535,
          0.0149037920308642,
          0.020077274116498855,
          0.019502310929178864,
          0.02405166874736118,
          0.027595460512605936,
          0.03089414663689398,
          0.03534437982059508,
          0.034212405137208815,
          0.04195595629491946,
          0.041006502611324415,
          0.04583472818703754,
          0.04948316396132574,
          0.047339359437444266,
          0.05322310593298799,
          0.054847039950462605,
          0.05687836365728093,
          0.056465976101272464,
          0.05770204083706734
         ],
         "yaxis": "y4"
        },
        {
         "line": {
          "color": "rgb(0, 128, 128)",
          "width": 4
         },
         "mode": "lines",
         "name": "Bal. Accuracy",
         "showlegend": false,
         "type": "scatter",
         "x": [
          1,
          1.5,
          2,
          2.5,
          3,
          3.5,
          4,
          4.5,
          5,
          5.5,
          6,
          6.5,
          7,
          7.5,
          8,
          8.5,
          9,
          9.5,
          10
         ],
         "xaxis": "x4",
         "y": [
          0.007431243658906748,
          0.00670333156193995,
          0.0083615404415947,
          0.006922657966532427,
          0.008795659459567734,
          0.0077874972965821425,
          0.006881219657104809,
          0.012533443386719134,
          0.007912698005146782,
          0.00941374793299569,
          0.008301010268235076,
          0.007770745731185728,
          0.010151663729415972,
          0.009013330896031665,
          0.010245903779935603,
          0.009228601486973867,
          0.011960621557746373,
          0.011631454576984465,
          0.012738074649732778
         ],
         "yaxis": "y4"
        },
        {
         "line": {
          "color": "rgb(128, 128, 0)",
          "width": 4
         },
         "mode": "lines",
         "name": "EC (est. prev.)",
         "showlegend": false,
         "type": "scatter",
         "x": [
          1,
          1.5,
          2,
          2.5,
          3,
          3.5,
          4,
          4.5,
          5,
          5.5,
          6,
          6.5,
          7,
          7.5,
          8,
          8.5,
          9,
          9.5,
          10
         ],
         "xaxis": "x4",
         "y": [
          0.007991896597344865,
          0.006604015665347813,
          0.005161921069027555,
          0.006362031387299888,
          0.004171634082135646,
          0.004522829990775082,
          0.004092813687961231,
          0.006053407787455556,
          0.00485840897670736,
          0.005476918318886776,
          0.004834614360144631,
          0.003913892532913846,
          0.004240228076907985,
          0.004455896268201178,
          0.005290614153022073,
          0.0033489205832978445,
          0.002864473738064326,
          0.0033971342789211947,
          0.003292457164226686
         ],
         "yaxis": "y4"
        },
        {
         "line": {
          "color": "rgb(60, 180, 75)",
          "width": 4
         },
         "mode": "lines",
         "name": "EC (dep. prev.)",
         "showlegend": false,
         "type": "scatter",
         "x": [
          1,
          1.5,
          2,
          2.5,
          3,
          3.5,
          4,
          4.5,
          5,
          5.5,
          6,
          6.5,
          7,
          7.5,
          8,
          8.5,
          9,
          9.5,
          10
         ],
         "xaxis": "x4",
         "y": [
          0.007102296290485685,
          0.006417280350332601,
          0.00503162040662689,
          0.005482930810984357,
          0.004693069017396557,
          0.004044854548253869,
          0.0027278104908205433,
          0.0031552267792437833,
          0.003069288509490208,
          0.002873211383142537,
          0.0030019776612612956,
          0.002621707956786335,
          0.001996099404238367,
          0.0029705689107372584,
          0.003331955010192069,
          0.0027451052182956813,
          0.003523565484394668,
          0.0024537252759930677,
          0.0023753378998237766
         ],
         "yaxis": "y4"
        }
       ],
       "layout": {
        "annotations": [
         {
          "bgcolor": "white",
          "font": {
           "size": 30
          },
          "showarrow": false,
          "text": "<b>w/o re-calibration</b>",
          "x": 0.2375,
          "xanchor": "center",
          "xref": "paper",
          "y": 1,
          "yanchor": "bottom",
          "yref": "paper"
         },
         {
          "bgcolor": "white",
          "font": {
           "size": 30
          },
          "showarrow": false,
          "text": "<b>with re-calibration</b>",
          "x": 0.7424999999999999,
          "xanchor": "center",
          "xref": "paper",
          "y": 1,
          "yanchor": "bottom",
          "yref": "paper"
         },
         {
          "bgcolor": "white",
          "font": {
           "size": 30
          },
          "showarrow": false,
          "text": "<b>Argmax decision</b>",
          "textangle": 90,
          "x": 0.98,
          "xanchor": "left",
          "xref": "paper",
          "y": 0.7575000000000001,
          "yanchor": "middle",
          "yref": "paper"
         },
         {
          "bgcolor": "white",
          "font": {
           "size": 30
          },
          "showarrow": false,
          "text": "<b>Optimized threshold</b>",
          "textangle": 90,
          "x": 0.98,
          "xanchor": "left",
          "xref": "paper",
          "y": 0.2425,
          "yanchor": "middle",
          "yref": "paper"
         },
         {
          "bgcolor": "white",
          "font": {
           "size": 30
          },
          "showarrow": false,
          "text": "<b>Difference to optimum</b>",
          "textangle": -90,
          "x": 0,
          "xanchor": "right",
          "xref": "paper",
          "xshift": -40,
          "y": 0.5,
          "yanchor": "middle",
          "yref": "paper"
         }
        ],
        "autosize": false,
        "font": {
         "family": "NewComputerModern10",
         "size": 22
        },
        "height": 800,
        "images": [
         {
          "sizex": 0.08,
          "sizey": 0.08,
          "source": "/home/p079i/Projects/prevalences/data/little_guys_balanced.png",
          "x": 0,
          "xanchor": "left",
          "xref": "paper",
          "y": -0.04,
          "yanchor": "top",
          "yref": "paper"
         },
         {
          "sizex": 0.08,
          "sizey": 0.08,
          "source": "/home/p079i/Projects/prevalences/data/little_guys_high_ir.png",
          "x": 0.475,
          "xanchor": "right",
          "xref": "paper",
          "y": -0.04,
          "yanchor": "top",
          "yref": "paper"
         },
         {
          "sizex": 0.08,
          "sizey": 0.08,
          "source": "/home/p079i/Projects/prevalences/data/little_guys_balanced.png",
          "x": 0.505,
          "xanchor": "left",
          "xref": "paper",
          "y": -0.04,
          "yanchor": "top",
          "yref": "paper"
         },
         {
          "sizex": 0.08,
          "sizey": 0.08,
          "source": "/home/p079i/Projects/prevalences/data/little_guys_high_ir.png",
          "x": 0.98,
          "xanchor": "right",
          "xref": "paper",
          "y": -0.04,
          "yanchor": "top",
          "yref": "paper"
         }
        ],
        "legend": {
         "font": {
          "size": 30
         },
         "itemsizing": "constant"
        },
        "margin": {
         "b": 90,
         "r": 45,
         "t": 40
        },
        "template": {
         "data": {
          "bar": [
           {
            "error_x": {
             "color": "#2a3f5f"
            },
            "error_y": {
             "color": "#2a3f5f"
            },
            "marker": {
             "line": {
              "color": "white",
              "width": 0.5
             },
             "pattern": {
              "fillmode": "overlay",
              "size": 10,
              "solidity": 0.2
             }
            },
            "type": "bar"
           }
          ],
          "barpolar": [
           {
            "marker": {
             "line": {
              "color": "white",
              "width": 0.5
             },
             "pattern": {
              "fillmode": "overlay",
              "size": 10,
              "solidity": 0.2
             }
            },
            "type": "barpolar"
           }
          ],
          "carpet": [
           {
            "aaxis": {
             "endlinecolor": "#2a3f5f",
             "gridcolor": "#C8D4E3",
             "linecolor": "#C8D4E3",
             "minorgridcolor": "#C8D4E3",
             "startlinecolor": "#2a3f5f"
            },
            "baxis": {
             "endlinecolor": "#2a3f5f",
             "gridcolor": "#C8D4E3",
             "linecolor": "#C8D4E3",
             "minorgridcolor": "#C8D4E3",
             "startlinecolor": "#2a3f5f"
            },
            "type": "carpet"
           }
          ],
          "choropleth": [
           {
            "colorbar": {
             "outlinewidth": 0,
             "ticks": ""
            },
            "type": "choropleth"
           }
          ],
          "contour": [
           {
            "colorbar": {
             "outlinewidth": 0,
             "ticks": ""
            },
            "colorscale": [
             [
              0,
              "#0d0887"
             ],
             [
              0.1111111111111111,
              "#46039f"
             ],
             [
              0.2222222222222222,
              "#7201a8"
             ],
             [
              0.3333333333333333,
              "#9c179e"
             ],
             [
              0.4444444444444444,
              "#bd3786"
             ],
             [
              0.5555555555555556,
              "#d8576b"
             ],
             [
              0.6666666666666666,
              "#ed7953"
             ],
             [
              0.7777777777777778,
              "#fb9f3a"
             ],
             [
              0.8888888888888888,
              "#fdca26"
             ],
             [
              1,
              "#f0f921"
             ]
            ],
            "type": "contour"
           }
          ],
          "contourcarpet": [
           {
            "colorbar": {
             "outlinewidth": 0,
             "ticks": ""
            },
            "type": "contourcarpet"
           }
          ],
          "heatmap": [
           {
            "colorbar": {
             "outlinewidth": 0,
             "ticks": ""
            },
            "colorscale": [
             [
              0,
              "#0d0887"
             ],
             [
              0.1111111111111111,
              "#46039f"
             ],
             [
              0.2222222222222222,
              "#7201a8"
             ],
             [
              0.3333333333333333,
              "#9c179e"
             ],
             [
              0.4444444444444444,
              "#bd3786"
             ],
             [
              0.5555555555555556,
              "#d8576b"
             ],
             [
              0.6666666666666666,
              "#ed7953"
             ],
             [
              0.7777777777777778,
              "#fb9f3a"
             ],
             [
              0.8888888888888888,
              "#fdca26"
             ],
             [
              1,
              "#f0f921"
             ]
            ],
            "type": "heatmap"
           }
          ],
          "heatmapgl": [
           {
            "colorbar": {
             "outlinewidth": 0,
             "ticks": ""
            },
            "colorscale": [
             [
              0,
              "#0d0887"
             ],
             [
              0.1111111111111111,
              "#46039f"
             ],
             [
              0.2222222222222222,
              "#7201a8"
             ],
             [
              0.3333333333333333,
              "#9c179e"
             ],
             [
              0.4444444444444444,
              "#bd3786"
             ],
             [
              0.5555555555555556,
              "#d8576b"
             ],
             [
              0.6666666666666666,
              "#ed7953"
             ],
             [
              0.7777777777777778,
              "#fb9f3a"
             ],
             [
              0.8888888888888888,
              "#fdca26"
             ],
             [
              1,
              "#f0f921"
             ]
            ],
            "type": "heatmapgl"
           }
          ],
          "histogram": [
           {
            "marker": {
             "pattern": {
              "fillmode": "overlay",
              "size": 10,
              "solidity": 0.2
             }
            },
            "type": "histogram"
           }
          ],
          "histogram2d": [
           {
            "colorbar": {
             "outlinewidth": 0,
             "ticks": ""
            },
            "colorscale": [
             [
              0,
              "#0d0887"
             ],
             [
              0.1111111111111111,
              "#46039f"
             ],
             [
              0.2222222222222222,
              "#7201a8"
             ],
             [
              0.3333333333333333,
              "#9c179e"
             ],
             [
              0.4444444444444444,
              "#bd3786"
             ],
             [
              0.5555555555555556,
              "#d8576b"
             ],
             [
              0.6666666666666666,
              "#ed7953"
             ],
             [
              0.7777777777777778,
              "#fb9f3a"
             ],
             [
              0.8888888888888888,
              "#fdca26"
             ],
             [
              1,
              "#f0f921"
             ]
            ],
            "type": "histogram2d"
           }
          ],
          "histogram2dcontour": [
           {
            "colorbar": {
             "outlinewidth": 0,
             "ticks": ""
            },
            "colorscale": [
             [
              0,
              "#0d0887"
             ],
             [
              0.1111111111111111,
              "#46039f"
             ],
             [
              0.2222222222222222,
              "#7201a8"
             ],
             [
              0.3333333333333333,
              "#9c179e"
             ],
             [
              0.4444444444444444,
              "#bd3786"
             ],
             [
              0.5555555555555556,
              "#d8576b"
             ],
             [
              0.6666666666666666,
              "#ed7953"
             ],
             [
              0.7777777777777778,
              "#fb9f3a"
             ],
             [
              0.8888888888888888,
              "#fdca26"
             ],
             [
              1,
              "#f0f921"
             ]
            ],
            "type": "histogram2dcontour"
           }
          ],
          "mesh3d": [
           {
            "colorbar": {
             "outlinewidth": 0,
             "ticks": ""
            },
            "type": "mesh3d"
           }
          ],
          "parcoords": [
           {
            "line": {
             "colorbar": {
              "outlinewidth": 0,
              "ticks": ""
             }
            },
            "type": "parcoords"
           }
          ],
          "pie": [
           {
            "automargin": true,
            "type": "pie"
           }
          ],
          "scatter": [
           {
            "fillpattern": {
             "fillmode": "overlay",
             "size": 10,
             "solidity": 0.2
            },
            "type": "scatter"
           }
          ],
          "scatter3d": [
           {
            "line": {
             "colorbar": {
              "outlinewidth": 0,
              "ticks": ""
             }
            },
            "marker": {
             "colorbar": {
              "outlinewidth": 0,
              "ticks": ""
             }
            },
            "type": "scatter3d"
           }
          ],
          "scattercarpet": [
           {
            "marker": {
             "colorbar": {
              "outlinewidth": 0,
              "ticks": ""
             }
            },
            "type": "scattercarpet"
           }
          ],
          "scattergeo": [
           {
            "marker": {
             "colorbar": {
              "outlinewidth": 0,
              "ticks": ""
             }
            },
            "type": "scattergeo"
           }
          ],
          "scattergl": [
           {
            "marker": {
             "colorbar": {
              "outlinewidth": 0,
              "ticks": ""
             }
            },
            "type": "scattergl"
           }
          ],
          "scattermapbox": [
           {
            "marker": {
             "colorbar": {
              "outlinewidth": 0,
              "ticks": ""
             }
            },
            "type": "scattermapbox"
           }
          ],
          "scatterpolar": [
           {
            "marker": {
             "colorbar": {
              "outlinewidth": 0,
              "ticks": ""
             }
            },
            "type": "scatterpolar"
           }
          ],
          "scatterpolargl": [
           {
            "marker": {
             "colorbar": {
              "outlinewidth": 0,
              "ticks": ""
             }
            },
            "type": "scatterpolargl"
           }
          ],
          "scatterternary": [
           {
            "marker": {
             "colorbar": {
              "outlinewidth": 0,
              "ticks": ""
             }
            },
            "type": "scatterternary"
           }
          ],
          "surface": [
           {
            "colorbar": {
             "outlinewidth": 0,
             "ticks": ""
            },
            "colorscale": [
             [
              0,
              "#0d0887"
             ],
             [
              0.1111111111111111,
              "#46039f"
             ],
             [
              0.2222222222222222,
              "#7201a8"
             ],
             [
              0.3333333333333333,
              "#9c179e"
             ],
             [
              0.4444444444444444,
              "#bd3786"
             ],
             [
              0.5555555555555556,
              "#d8576b"
             ],
             [
              0.6666666666666666,
              "#ed7953"
             ],
             [
              0.7777777777777778,
              "#fb9f3a"
             ],
             [
              0.8888888888888888,
              "#fdca26"
             ],
             [
              1,
              "#f0f921"
             ]
            ],
            "type": "surface"
           }
          ],
          "table": [
           {
            "cells": {
             "fill": {
              "color": "#EBF0F8"
             },
             "line": {
              "color": "white"
             }
            },
            "header": {
             "fill": {
              "color": "#C8D4E3"
             },
             "line": {
              "color": "white"
             }
            },
            "type": "table"
           }
          ]
         },
         "layout": {
          "annotationdefaults": {
           "arrowcolor": "#2a3f5f",
           "arrowhead": 0,
           "arrowwidth": 1
          },
          "autotypenumbers": "strict",
          "coloraxis": {
           "colorbar": {
            "outlinewidth": 0,
            "ticks": ""
           }
          },
          "colorscale": {
           "diverging": [
            [
             0,
             "#8e0152"
            ],
            [
             0.1,
             "#c51b7d"
            ],
            [
             0.2,
             "#de77ae"
            ],
            [
             0.3,
             "#f1b6da"
            ],
            [
             0.4,
             "#fde0ef"
            ],
            [
             0.5,
             "#f7f7f7"
            ],
            [
             0.6,
             "#e6f5d0"
            ],
            [
             0.7,
             "#b8e186"
            ],
            [
             0.8,
             "#7fbc41"
            ],
            [
             0.9,
             "#4d9221"
            ],
            [
             1,
             "#276419"
            ]
           ],
           "sequential": [
            [
             0,
             "#0d0887"
            ],
            [
             0.1111111111111111,
             "#46039f"
            ],
            [
             0.2222222222222222,
             "#7201a8"
            ],
            [
             0.3333333333333333,
             "#9c179e"
            ],
            [
             0.4444444444444444,
             "#bd3786"
            ],
            [
             0.5555555555555556,
             "#d8576b"
            ],
            [
             0.6666666666666666,
             "#ed7953"
            ],
            [
             0.7777777777777778,
             "#fb9f3a"
            ],
            [
             0.8888888888888888,
             "#fdca26"
            ],
            [
             1,
             "#f0f921"
            ]
           ],
           "sequentialminus": [
            [
             0,
             "#0d0887"
            ],
            [
             0.1111111111111111,
             "#46039f"
            ],
            [
             0.2222222222222222,
             "#7201a8"
            ],
            [
             0.3333333333333333,
             "#9c179e"
            ],
            [
             0.4444444444444444,
             "#bd3786"
            ],
            [
             0.5555555555555556,
             "#d8576b"
            ],
            [
             0.6666666666666666,
             "#ed7953"
            ],
            [
             0.7777777777777778,
             "#fb9f3a"
            ],
            [
             0.8888888888888888,
             "#fdca26"
            ],
            [
             1,
             "#f0f921"
            ]
           ]
          },
          "colorway": [
           "#636efa",
           "#EF553B",
           "#00cc96",
           "#ab63fa",
           "#FFA15A",
           "#19d3f3",
           "#FF6692",
           "#B6E880",
           "#FF97FF",
           "#FECB52"
          ],
          "font": {
           "color": "#2a3f5f"
          },
          "geo": {
           "bgcolor": "white",
           "lakecolor": "white",
           "landcolor": "white",
           "showlakes": true,
           "showland": true,
           "subunitcolor": "#C8D4E3"
          },
          "hoverlabel": {
           "align": "left"
          },
          "hovermode": "closest",
          "mapbox": {
           "style": "light"
          },
          "paper_bgcolor": "white",
          "plot_bgcolor": "white",
          "polar": {
           "angularaxis": {
            "gridcolor": "#EBF0F8",
            "linecolor": "#EBF0F8",
            "ticks": ""
           },
           "bgcolor": "white",
           "radialaxis": {
            "gridcolor": "#EBF0F8",
            "linecolor": "#EBF0F8",
            "ticks": ""
           }
          },
          "scene": {
           "xaxis": {
            "backgroundcolor": "white",
            "gridcolor": "#DFE8F3",
            "gridwidth": 2,
            "linecolor": "#EBF0F8",
            "showbackground": true,
            "ticks": "",
            "zerolinecolor": "#EBF0F8"
           },
           "yaxis": {
            "backgroundcolor": "white",
            "gridcolor": "#DFE8F3",
            "gridwidth": 2,
            "linecolor": "#EBF0F8",
            "showbackground": true,
            "ticks": "",
            "zerolinecolor": "#EBF0F8"
           },
           "zaxis": {
            "backgroundcolor": "white",
            "gridcolor": "#DFE8F3",
            "gridwidth": 2,
            "linecolor": "#EBF0F8",
            "showbackground": true,
            "ticks": "",
            "zerolinecolor": "#EBF0F8"
           }
          },
          "shapedefaults": {
           "line": {
            "color": "#2a3f5f"
           }
          },
          "ternary": {
           "aaxis": {
            "gridcolor": "#DFE8F3",
            "linecolor": "#A2B1C6",
            "ticks": ""
           },
           "baxis": {
            "gridcolor": "#DFE8F3",
            "linecolor": "#A2B1C6",
            "ticks": ""
           },
           "bgcolor": "white",
           "caxis": {
            "gridcolor": "#DFE8F3",
            "linecolor": "#A2B1C6",
            "ticks": ""
           }
          },
          "title": {
           "x": 0.05
          },
          "xaxis": {
           "automargin": true,
           "gridcolor": "#EBF0F8",
           "linecolor": "#EBF0F8",
           "ticks": "",
           "title": {
            "standoff": 15
           },
           "zerolinecolor": "#EBF0F8",
           "zerolinewidth": 2
          },
          "yaxis": {
           "automargin": true,
           "gridcolor": "#EBF0F8",
           "linecolor": "#EBF0F8",
           "ticks": "",
           "title": {
            "standoff": 15
           },
           "zerolinecolor": "#EBF0F8",
           "zerolinewidth": 2
          }
         }
        },
        "width": 1800,
        "xaxis": {
         "anchor": "y",
         "domain": [
          0,
          0.475
         ],
         "matches": "x3",
         "showticklabels": false
        },
        "xaxis2": {
         "anchor": "y2",
         "domain": [
          0.505,
          0.98
         ],
         "matches": "x4",
         "showticklabels": false
        },
        "xaxis3": {
         "anchor": "y3",
         "domain": [
          0,
          0.475
         ],
         "title": {
          "standoff": 0,
          "text": "Imbalance ratio"
         }
        },
        "xaxis4": {
         "anchor": "y4",
         "domain": [
          0.505,
          0.98
         ],
         "title": {
          "standoff": 0,
          "text": "Imbalance ratio"
         }
        },
        "yaxis": {
         "anchor": "x",
         "domain": [
          0.515,
          1
         ],
         "range": [
          0,
          0.2
         ]
        },
        "yaxis2": {
         "anchor": "x2",
         "domain": [
          0.515,
          1
         ],
         "matches": "y",
         "range": [
          0,
          0.2
         ],
         "showticklabels": false
        },
        "yaxis3": {
         "anchor": "x3",
         "domain": [
          0,
          0.485
         ],
         "range": [
          0,
          0.2
         ]
        },
        "yaxis4": {
         "anchor": "x4",
         "domain": [
          0,
          0.485
         ],
         "matches": "y3",
         "range": [
          0,
          0.2
         ],
         "showticklabels": false
        }
       }
      }
     },
     "metadata": {},
     "output_type": "display_data"
    }
   ],
   "source": [
    "# define y axis ranges\n",
    "sub_y_ranges = {0: [0, 0.2], 1: [0, 0.2], 2: [0, 0.2], 3: [0, 0.2]}\n",
    "# create multiplot (Fig. 4) from the paper\n",
    "fig = multiplot(rows=2, cols=2, row_titles=[\"Argmax decision\", \"Optimized threshold\"],\n",
    "                column_titles=[\"w/o re-calibration\", \"with re-calibration\"], y_title=\"Difference to optimum\",\n",
    "                subplts=subplts, horizontal_spacing=0.03, vertical_spacing=0.03, legend_index=2,\n",
    "                sub_y_ranges=sub_y_ranges, height=800, shared_xaxes=True, little_guys=True, icon_axes=[3, 4],\n",
    "                icon_size=0.08)\n",
    "fig.update_xaxes(title_text=\"Imbalance ratio\", title_standoff=0, row=2, col=1)\n",
    "fig.update_xaxes(title_text=\"Imbalance ratio\", title_standoff=0, row=2, col=2)\n",
    "fig.update_layout(margin=dict(t=40, r=45))"
   ]
  },
  {
   "cell_type": "code",
   "execution_count": 9,
   "metadata": {
    "ExecuteTime": {
     "end_time": "2024-08-23T07:21:03.917372Z",
     "start_time": "2024-08-23T07:21:03.170445Z"
    }
   },
   "outputs": [],
   "source": [
    "# save plots\n",
    "name = \"24_fig_8\"\n",
    "fig.write_image(RESULT_PATH / (name + \".png\"))\n",
    "fig.write_image(RESULT_PATH / (name + \".pdf\"))\n",
    "fig.write_html(RESULT_PATH / (name + \".html\"))\n",
    "fig.write_image(RESULT_PATH / (name + \".svg\"))"
   ]
  },
  {
   "cell_type": "markdown",
   "metadata": {},
   "source": [
    "# Compute EC results from section 3.3"
   ]
  },
  {
   "cell_type": "code",
   "execution_count": 8,
   "metadata": {
    "ExecuteTime": {
     "end_time": "2024-08-23T07:21:06.535678Z",
     "start_time": "2024-08-23T07:21:06.475327Z"
    }
   },
   "outputs": [],
   "source": [
    "thresholding = ThresholdingMethod.ARGMAX\n",
    "no_recal_result_df = pd.read_pickle(\n",
    "    RESULT_PATH / (\"24_decision_rule_results_\" + CalibrationMethod.NONE.value + \"_\" + thresholding.value + \".pkl\"))\n",
    "recal_result_df = pd.read_pickle(RESULT_PATH / (\n",
    "            \"24_decision_rule_results_\" + CalibrationMethod.AFFINE_REWEIGHTED.value + \"_\" + thresholding.value + \".pkl\"))"
   ]
  },
  {
   "cell_type": "code",
   "execution_count": 9,
   "metadata": {
    "ExecuteTime": {
     "end_time": "2024-08-23T07:21:11.456171Z",
     "start_time": "2024-08-23T07:21:11.450512Z"
    }
   },
   "outputs": [],
   "source": [
    "# convert row to numpy:\n",
    "no_recal_result_df[\"reference EC\"] = no_recal_result_df[\"reference EC\"].apply(lambda row: torch.Tensor(row).numpy())\n",
    "recal_result_df[\"reference EC\"] = recal_result_df[\"reference EC\"].apply(lambda row: torch.Tensor(row).numpy())"
   ]
  },
  {
   "cell_type": "code",
   "execution_count": 10,
   "metadata": {
    "ExecuteTime": {
     "end_time": "2024-08-23T07:21:16.066066Z",
     "start_time": "2024-08-23T07:21:16.062331Z"
    }
   },
   "outputs": [],
   "source": [
    "diffs = ((no_recal_result_df[\"reference EC\"] - recal_result_df[\"reference EC\"]) / (no_recal_result_df[\"reference EC\"]))"
   ]
  },
  {
   "cell_type": "code",
   "execution_count": 11,
   "metadata": {
    "ExecuteTime": {
     "end_time": "2024-08-23T07:21:21.007105Z",
     "start_time": "2024-08-23T07:21:21.004097Z"
    }
   },
   "outputs": [
    {
     "name": "stdout",
     "output_type": "stream",
     "text": [
      "For IR values: [1, 4, 7, 10], the % changes in EC values are: [ 0.94896266 17.98756884 32.10647671 41.6311924 ]\n"
     ]
    }
   ],
   "source": [
    "ir_values = [1, 4, 7, 10]\n",
    "print(\n",
    "    f\"For IR values: {ir_values}, the % changes in EC values are: {(np.array(diffs.tolist()).mean(axis=0)[np.where(np.isin(ir_range, ir_values))]) * 100}\")"
   ]
  },
  {
   "cell_type": "code",
   "execution_count": null,
   "metadata": {},
   "outputs": [],
   "source": []
  }
 ],
 "metadata": {
  "kernelspec": {
   "display_name": "Python 3.10.11 ('prev_reproduce')",
   "language": "python",
   "name": "python3"
  },
  "language_info": {
   "codemirror_mode": {
    "name": "ipython",
    "version": 3
   },
   "file_extension": ".py",
   "mimetype": "text/x-python",
   "name": "python",
   "nbconvert_exporter": "python",
   "pygments_lexer": "ipython3",
   "version": "3.10.11"
  },
  "orig_nbformat": 4,
  "vscode": {
   "interpreter": {
    "hash": "82330981448b64ee27c7af5d3e2318137d4b014146dffcbcd9c3283996ce6bcb"
   }
  }
 },
 "nbformat": 4,
 "nbformat_minor": 2
}
