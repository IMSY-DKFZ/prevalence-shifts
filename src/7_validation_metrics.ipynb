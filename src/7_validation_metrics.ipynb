{
 "cells": [
  {
   "cell_type": "markdown",
   "metadata": {},
   "source": [
    "# RQ2c: What is the effect of prevalence shifts on the quality of performance assessment\n",
    "This notebook generates figure 9. It shows the impact of prevalence shifts on evaluation metrics in our use cases."
   ]
  },
  {
   "cell_type": "code",
   "execution_count": 1,
   "metadata": {
    "ExecuteTime": {
     "end_time": "2024-08-22T21:20:50.835099Z",
     "start_time": "2024-08-22T21:20:48.920661Z"
    }
   },
   "outputs": [
    {
     "data": {
      "text/plain": [
       "<torch._C.Generator at 0x7f4a340da050>"
      ]
     },
     "execution_count": 1,
     "metadata": {},
     "output_type": "execute_result"
    }
   ],
   "source": [
    "import os\n",
    "import sys\n",
    "\n",
    "sys.path.insert(0, os.path.abspath('..'))\n",
    "from pathlib import Path\n",
    "from progiter import ProgIter\n",
    "\n",
    "import torch\n",
    "import pandas as pd\n",
    "import numpy as np\n",
    "\n",
    "from quapy.method.aggregative import ACC\n",
    "\n",
    "from src.prev.data_loading import get_values, Kind, Split, all_tasks, example_tasks\n",
    "from src.prev.calibration import calibrate_logits_fast, CalibrationMethod\n",
    "from src.prev.scaling import scale_prevalences_ir\n",
    "from src.prev.plotting import plot_aggregate_results, Confidence, box_plot, multiplot\n",
    "from src.prev.metrics import Metric, compute_all_metrics, compute_metric\n",
    "from src.prev.quantification import adjust_priors_qp\n",
    "\n",
    "current_path = os.getcwd()\n",
    "DATA_PATH = Path(current_path).parent / 'data'\n",
    "RESULT_PATH = Path(current_path).parent / 'results'\n",
    "assert DATA_PATH.exists() and RESULT_PATH.exists()\n",
    "torch.manual_seed(seed=0)\n",
    "\n",
    "# set to false for a full rerun, including all tasks, note that we do not provide\n",
    "# logits for all tasks for licensing considerations, so one needs to generate them from scratch\n",
    "EXAMPLE_TASKS_ONLY = True\n",
    "if EXAMPLE_TASKS_ONLY:\n",
    "    rel_tasks = example_tasks\n",
    "else: rel_tasks = all_tasks"
   ]
  },
  {
   "cell_type": "code",
   "execution_count": 2,
   "metadata": {
    "ExecuteTime": {
     "end_time": "2024-08-22T21:21:01.746092Z",
     "start_time": "2024-08-22T21:20:52.165393Z"
    }
   },
   "outputs": [
    {
     "name": "stdout",
     "output_type": "stream",
     "text": [
      "Loading data 100.00% 30/30... rate=5.46 Hz, eta=0:00:00, total=0:00:05\n"
     ]
    }
   ],
   "source": [
    "data = {}\n",
    "for t in ProgIter(rel_tasks, desc='Loading data'):\n",
    "    data[t] = get_values(t, DATA_PATH, proj='mic23_predictions_original_0')  # original paper predictions"
   ]
  },
  {
   "cell_type": "code",
   "execution_count": 36,
   "metadata": {
    "ExecuteTime": {
     "end_time": "2024-08-22T22:21:39.130269Z",
     "start_time": "2024-08-22T22:21:39.119629Z"
    }
   },
   "outputs": [],
   "source": [
    "IRS = list(np.arange(1, 10.5, 0.5))\n",
    "\n",
    "\n",
    "def metrics_across_ir(task_data, calibration: CalibrationMethod = CalibrationMethod.NONE):\n",
    "    \"\"\" Computes metrics values across imbalance ratios for a given task.\"\"\"\n",
    "    # initialize results dictionary\n",
    "    results = {m: [] for m in Metric}\n",
    "    results.update({\"reference \" + m.value: [] for m in Metric})\n",
    "    #iterate over the imbalance ratio range\n",
    "    for ir in IRS:\n",
    "        # scale prevalences in the deployment set according to imbalance ratio\n",
    "        app_test_logits, app_test_classes = scale_prevalences_ir(logits=task_data[Kind.LOGITS][Split.APP_TEST],\n",
    "                                                                 classes=task_data[Kind.LABELS][Split.APP_TEST],\n",
    "                                                                 ir=ir)\n",
    "        # create a data dictionary with the modified deployment test set\n",
    "        mod_data = {Kind.LOGITS: {Split.DEV_CAL: task_data[Kind.LOGITS][Split.DEV_CAL],\n",
    "                                  Split.DEV_TEST: task_data[Kind.LOGITS][Split.DEV_TEST],\n",
    "                                  Split.APP_TEST: app_test_logits},\n",
    "                    Kind.LABELS: {Split.DEV_CAL: task_data[Kind.LABELS][Split.DEV_CAL],\n",
    "                                  Split.DEV_TEST: task_data[Kind.LABELS][Split.DEV_TEST],\n",
    "                                  Split.APP_TEST: app_test_classes}}\n",
    "\n",
    "        # extract the minority class for F1 computation\n",
    "        val_prevalences = torch.bincount(mod_data[Kind.LABELS][Split.DEV_CAL])\n",
    "        min_class = torch.argmin(val_prevalences).item()\n",
    "        max_class = torch.argmax(val_prevalences).item()\n",
    "        # catches case where for balanced task, min class was used as max class in scaling\n",
    "        if min_class == max_class:\n",
    "            min_class = 1\n",
    "        #compute the exact prevalence in the scaled deployment set\n",
    "        exact_prevalence = torch.bincount(mod_data[Kind.LABELS][Split.APP_TEST]) / len(\n",
    "            mod_data[Kind.LABELS][Split.APP_TEST])\n",
    "\n",
    "        # compute EC estimated separate - both calibration and EC adjustment rely on prevalence estimation\n",
    "        estimated_prevalence = torch.Tensor(\n",
    "            adjust_priors_qp(torch.softmax(mod_data[Kind.LOGITS][Split.DEV_TEST], dim=1),\n",
    "                             mod_data[Kind.LABELS][Split.DEV_TEST],\n",
    "                             torch.softmax(mod_data[Kind.LOGITS][Split.APP_TEST], dim=1),\n",
    "                             mod_data[Kind.LABELS][Split.APP_TEST], method=ACC))\n",
    "        # calibrate logits and get estimated prevalence\n",
    "        if calibration == CalibrationMethod.AFFINE_REWEIGHTED:\n",
    "            prior = exact_prevalence\n",
    "        elif calibration == CalibrationMethod.NONE:\n",
    "            prior = None\n",
    "        else:\n",
    "            raise ValueError(f'invalid calibration method: {calibration}')\n",
    "        calibrated_logits = calibrate_logits_fast(data=mod_data, calibration=calibration, prior=prior)\n",
    "\n",
    "        # compute predictions on scaled deployment set and development test set according to argmax decision rule\n",
    "        new_app_test_preds = torch.argmax(calibrated_logits[Split.APP_TEST], dim=1)\n",
    "        dev_test_preds = torch.argmax(calibrated_logits[Split.DEV_TEST], dim=1)\n",
    "\n",
    "        #compute the metrics on the deployment and development sets\n",
    "        dep_metrics = compute_all_metrics(mod_data[Kind.LABELS][Split.APP_TEST], calibrated_logits[Split.APP_TEST],\n",
    "                                          new_app_test_preds,\n",
    "                                          min_class=min_class, exact_priors=exact_prevalence,\n",
    "                                          estimated_priors=exact_prevalence)\n",
    "        dev_metrics = compute_all_metrics(mod_data[Kind.LABELS][Split.DEV_TEST], calibrated_logits[Split.DEV_TEST],\n",
    "                                          dev_test_preds,\n",
    "                                          min_class=min_class, exact_priors=exact_prevalence,\n",
    "                                          estimated_priors=estimated_prevalence)\n",
    "        # recompute EC estimated separate since re-calibration has to rely on estimation as well!\n",
    "        if calibration == CalibrationMethod.AFFINE_REWEIGHTED:\n",
    "            calibrated_logits_est = calibrate_logits_fast(data=mod_data, calibration=calibration, prior=estimated_prevalence)\n",
    "            estimated_app_test_preds = torch.argmax(calibrated_logits_est[Split.APP_TEST], dim=1)\n",
    "            dep_metrics[Metric.EC_EST] = compute_metric(Metric.EC_ADJUSTED, mod_data[Kind.LABELS][Split.APP_TEST],\n",
    "                                                        estimated_app_test_preds, exact_priors=exact_prevalence,\n",
    "                                                        min_class=min_class)\n",
    "            estimated_dev_test_preds = torch.argmax(calibrated_logits_est[Split.DEV_TEST], dim=1)\n",
    "            dev_metrics[Metric.EC_EST] = compute_metric(Metric.EC_EST, mod_data[Kind.LABELS][Split.DEV_TEST],\n",
    "                                                        estimated_dev_test_preds,\n",
    "                                                        min_class=min_class, estimated_priors=estimated_prevalence)\n",
    "        # append metrics to the results dictionary\n",
    "        for k in dep_metrics.keys():\n",
    "            results[k].append(dep_metrics[k])\n",
    "            results['reference ' + k.value].append(dev_metrics[k])\n",
    "    return results"
   ]
  },
  {
   "cell_type": "code",
   "execution_count": 37,
   "metadata": {
    "ExecuteTime": {
     "end_time": "2024-08-22T22:22:32.719908Z",
     "start_time": "2024-08-22T22:21:40.785425Z"
    }
   },
   "outputs": [
    {
     "name": "stdout",
     "output_type": "stream",
     "text": [
      " 100.00% 30/30... rate=1.42 Hz, eta=0:00:00, total=0:00:21\n",
      " 100.00% 30/30... rate=0.97 Hz, eta=0:00:00, total=0:00:30\n"
     ]
    }
   ],
   "source": [
    "# compute metrics at different IRs for different calibration methods and estimated priors\n",
    "for cal in [CalibrationMethod.NONE, CalibrationMethod.AFFINE_REWEIGHTED]:\n",
    "    collector = {t: {} for t in rel_tasks}\n",
    "    for t in ProgIter(rel_tasks):\n",
    "        # compute metrics for the task at different imbalance ratios\n",
    "        collector[t].update(metrics_across_ir(task_data=data[t], calibration=cal))\n",
    "    # save results to a dataframe\n",
    "    result_df = pd.DataFrame(rel_tasks, columns=[\"name\"])\n",
    "    for key in collector[rel_tasks[0]].keys():\n",
    "        result_df[key] = [torch.tensor(collector[t][key]) for t in rel_tasks]\n",
    "    result_df.to_pickle(RESULT_PATH / (\"24_metric_performance_\" + cal.value + \".pkl\"))"
   ]
  },
  {
   "cell_type": "markdown",
   "metadata": {},
   "source": [
    "## Plot of Figure 9"
   ]
  },
  {
   "cell_type": "code",
   "execution_count": 3,
   "metadata": {
    "ExecuteTime": {
     "end_time": "2024-08-22T22:23:21.507913Z",
     "start_time": "2024-08-22T22:23:21.359229Z"
    }
   },
   "outputs": [],
   "source": [
    "#initialize the list of subplots\n",
    "subplts = []\n",
    "# the metrics to be plotted\n",
    "metrics = [Metric.ACCURACY, Metric.F1, Metric.MCC, Metric.BALANCED_ACC, Metric.EC_EST, Metric.EC_ADJUSTED]\n",
    "# iterate over calibration methods\n",
    "for cal in [CalibrationMethod.NONE, CalibrationMethod.AFFINE_REWEIGHTED]:\n",
    "    # load results file\n",
    "    result_df = pd.read_pickle(RESULT_PATH / (\"24_metric_performance_\" + cal.value + \".pkl\"))\n",
    "    # compute difference\n",
    "    for m in metrics:\n",
    "        result_df[m.value] = result_df[m] - result_df[\"reference \" + m.value]\n",
    "    #compute value of metrics at imbalance ratio 10\n",
    "    ir_10_metrics = pd.DataFrame(result_df['name'])\n",
    "    for m in metrics:\n",
    "        ir_10_metrics[m.value] = np.abs(np.stack(result_df[m.value].values))[:, -1]\n",
    "    # create subplot\n",
    "    subplt = plot_aggregate_results(result_df, metrics=metrics, file=None,\n",
    "                                    delta=False, ci=Confidence.STD,\n",
    "                                    opacity=0.15, line_width=4, bound=[0, 0.3], plot_lines_later=True)\n",
    "    # append subplot to subplots list\n",
    "    subplts.append(subplt)\n",
    "    # create sub box plot\n",
    "    subplt = box_plot(ir_10_metrics, metrics)\n",
    "    # append sub box plot to subplots list\n",
    "    subplts.append(subplt)"
   ]
  },
  {
   "cell_type": "code",
   "execution_count": 5,
   "metadata": {
    "ExecuteTime": {
     "end_time": "2024-08-22T22:23:23.136010Z",
     "start_time": "2024-08-22T22:23:23.077171Z"
    }
   },
   "outputs": [
    {
     "data": {
      "application/vnd.plotly.v1+json": {
       "config": {
        "plotlyServerURL": "https://plot.ly"
       },
       "data": [
        {
         "fill": "toself",
         "fillcolor": "rgba(67, 99, 216, 0.15)",
         "line": {
          "color": "rgba(255,255,255,0)"
         },
         "mode": "lines",
         "name": "Accuracy",
         "showlegend": false,
         "type": "scatter",
         "x": [
          1,
          1.5,
          2,
          2.5,
          3,
          3.5,
          4,
          4.5,
          5,
          5.5,
          6,
          6.5,
          7,
          7.5,
          8,
          8.5,
          9,
          9.5,
          10,
          10,
          9.5,
          9,
          8.5,
          8,
          7.5,
          7,
          6.5,
          6,
          5.5,
          5,
          4.5,
          4,
          3.5,
          3,
          2.5,
          2,
          1.5,
          1
         ],
         "xaxis": "x",
         "y": [
          0.03136031702160835,
          0.03226547688245773,
          0.04465501382946968,
          0.052958570420742035,
          0.06104043871164322,
          0.06936642527580261,
          0.07171725481748581,
          0.07710079848766327,
          0.08207845687866211,
          0.08260950446128845,
          0.08702827990055084,
          0.08492335677146912,
          0.09154881536960602,
          0.0904553234577179,
          0.09307606518268585,
          0.09208397567272186,
          0.09329046308994293,
          0.09564287960529327,
          0.09710031747817993,
          0.0011441521346569061,
          -0.0014176256954669952,
          -0.00001266971230506897,
          0.00018190965056419373,
          -0.0008254945278167725,
          0.0007250197231769562,
          0.0004429146647453308,
          -0.00014709308743476868,
          0.0005059726536273956,
          0.001817513257265091,
          0.0001928769052028656,
          -0.0002934560179710388,
          -0.0003103911876678467,
          -0.000967804342508316,
          -0.001252802088856697,
          -0.00023073144257068634,
          -0.0006235390901565552,
          0.0002866629511117935,
          -0.006155482493340969
         ],
         "yaxis": "y"
        },
        {
         "fill": "toself",
         "fillcolor": "rgba(245, 130, 49, 0.15)",
         "line": {
          "color": "rgba(255,255,255,0)"
         },
         "mode": "lines",
         "name": "F1 Score",
         "showlegend": false,
         "type": "scatter",
         "x": [
          1,
          1.5,
          2,
          2.5,
          3,
          3.5,
          4,
          4.5,
          5,
          5.5,
          6,
          6.5,
          7,
          7.5,
          8,
          8.5,
          9,
          9.5,
          10,
          10,
          9.5,
          9,
          8.5,
          8,
          7.5,
          7,
          6.5,
          6,
          5.5,
          5,
          4.5,
          4,
          3.5,
          3,
          2.5,
          2,
          1.5,
          1
         ],
         "xaxis": "x",
         "y": [
          0.06307477057658853,
          0.05168656793764862,
          0.07387354698015183,
          0.08900302912052749,
          0.11586490801418639,
          0.14368457205085267,
          0.16029675646237082,
          0.17885055564800934,
          0.18328845388408965,
          0.2101315190512486,
          0.22722498382975342,
          0.24267238945751185,
          0.24984972455733678,
          0.27396791737439175,
          0.283277372207646,
          0.29726877989622863,
          0.30870212783140993,
          0.3202218896977219,
          0.329302495514301,
          0.07618346111889387,
          0.07458763933527894,
          0.06913822494508892,
          0.06192067073571543,
          0.05833062483147178,
          0.05649329630050988,
          0.05061754504302189,
          0.04743287413427828,
          0.04066372817515401,
          0.03972806304625148,
          0.0369213904107933,
          0.027267975830709598,
          0.02315379989193936,
          0.018098067449462324,
          0.01555381153378068,
          0.014379555671733858,
          0.0031690595083172443,
          -0.0025613921228834213,
          -0.021728413366472212
         ],
         "yaxis": "y"
        },
        {
         "fill": "toself",
         "fillcolor": "rgba(230, 25, 75, 0.15)",
         "line": {
          "color": "rgba(255,255,255,0)"
         },
         "mode": "lines",
         "name": "MCC",
         "showlegend": false,
         "type": "scatter",
         "x": [
          1,
          1.5,
          2,
          2.5,
          3,
          3.5,
          4,
          4.5,
          5,
          5.5,
          6,
          6.5,
          7,
          7.5,
          8,
          8.5,
          9,
          9.5,
          10,
          10,
          9.5,
          9,
          8.5,
          8,
          7.5,
          7,
          6.5,
          6,
          5.5,
          5,
          4.5,
          4,
          3.5,
          3,
          2.5,
          2,
          1.5,
          1
         ],
         "xaxis": "x",
         "y": [
          0.04892740845489959,
          0.03833471726340196,
          0.0457039546739189,
          0.03810543066737338,
          0.05693852798873361,
          0.07569691050101418,
          0.07798650795449796,
          0.08914537346487572,
          0.08206629596026652,
          0.10242072850138983,
          0.11260411094173248,
          0.12114535854018507,
          0.12261562490525524,
          0.14132203941590532,
          0.14846496840418702,
          0.1543460717529334,
          0.15876984248396223,
          0.17441494856767442,
          0.17883216307204822,
          0.04084117887839597,
          0.03935280354765751,
          0.03965723607913507,
          0.036548904375494115,
          0.026588550747973144,
          0.03001541732175618,
          0.025766494157931162,
          0.018849322337611635,
          0.02006289050034374,
          0.014969154441400165,
          0.014228447326115341,
          0.004984753630601545,
          0.004117890091876623,
          0.0019058879719351315,
          0.0007687836821119141,
          0.0023423142090885155,
          -0.002742187160298705,
          -0.0011388606263049127,
          -0.006021702937600321
         ],
         "yaxis": "y"
        },
        {
         "fill": "toself",
         "fillcolor": "rgba(0, 128, 128, 0.15)",
         "line": {
          "color": "rgba(255,255,255,0)"
         },
         "mode": "lines",
         "name": "Bal. Accuracy",
         "showlegend": false,
         "type": "scatter",
         "x": [
          1,
          1.5,
          2,
          2.5,
          3,
          3.5,
          4,
          4.5,
          5,
          5.5,
          6,
          6.5,
          7,
          7.5,
          8,
          8.5,
          9,
          9.5,
          10,
          10,
          9.5,
          9,
          8.5,
          8,
          7.5,
          7,
          6.5,
          6,
          5.5,
          5,
          4.5,
          4,
          3.5,
          3,
          2.5,
          2,
          1.5,
          1
         ],
         "xaxis": "x",
         "y": [
          0.03136031655950525,
          0.02058103329288504,
          0.02303352511617654,
          0.01761583974207927,
          0.024290810667997202,
          0.030183847488309892,
          0.02716140126617169,
          0.02855136174731819,
          0.024425841009362348,
          0.021768073310767168,
          0.024799874410277395,
          0.02839226194922386,
          0.028914296307239094,
          0.032737954110961635,
          0.0370130283990674,
          0.030568988505843265,
          0.03036833775176599,
          0.043036787018222944,
          0.03306121575992366,
          -0.003027407155260656,
          -0.007325985379378924,
          -0.002039222057459659,
          -0.0047834235329197,
          -0.006703938747396618,
          -0.004371351957131328,
          -0.002696869751896258,
          -0.0017283252187792163,
          -0.0014911559552315112,
          -0.0011905179578471665,
          0.0008951842934681372,
          -0.0034253394366927283,
          -0.0023763818189126845,
          -0.003922405381150051,
          -0.0022465534716885147,
          -0.0013374291591918691,
          -0.001641360062118711,
          -0.0009851937972516125,
          -0.00615548173863107
         ],
         "yaxis": "y"
        },
        {
         "fill": "toself",
         "fillcolor": "rgba(128, 128, 0, 0.15)",
         "line": {
          "color": "rgba(255,255,255,0)"
         },
         "mode": "lines",
         "name": "EC (est. prev.)",
         "showlegend": false,
         "type": "scatter",
         "x": [
          1,
          1.5,
          2,
          2.5,
          3,
          3.5,
          4,
          4.5,
          5,
          5.5,
          6,
          6.5,
          7,
          7.5,
          8,
          8.5,
          9,
          9.5,
          10,
          10,
          9.5,
          9,
          8.5,
          8,
          7.5,
          7,
          6.5,
          6,
          5.5,
          5,
          4.5,
          4,
          3.5,
          3,
          2.5,
          2,
          1.5,
          1
         ],
         "xaxis": "x",
         "y": [
          0.05068156870073687,
          0.02799274981243355,
          0.02629901284959964,
          0.026046623431590005,
          0.02125856651246933,
          0.03085145648915407,
          0.023268010525833986,
          0.025675403411365132,
          0.017523321674543096,
          0.018749727957085106,
          0.025644511103601594,
          0.025212528913195052,
          0.025550944247839984,
          0.02198056184413069,
          0.020566324030206744,
          0.024175660986818483,
          0.01932223771706778,
          0.023596354027253314,
          0.02205192445474391,
          -0.0036002062422174057,
          -0.003535228880286255,
          -0.002400770776657738,
          -0.003777723380591071,
          -0.0019463563269738037,
          -0.002793937157378001,
          -0.004174442763758921,
          -0.003723129151379954,
          -0.005545146736816916,
          -0.0024442349953078518,
          -0.0015844762607038314,
          -0.0033563386881220875,
          -0.002371220387628178,
          -0.005444376573548168,
          -0.0018938558475792913,
          -0.004683273449013673,
          -0.002703303259842138,
          -0.002855842407722544,
          -0.01341085525417661
         ],
         "yaxis": "y"
        },
        {
         "fill": "toself",
         "fillcolor": "rgba(60, 180, 75, 0.15)",
         "line": {
          "color": "rgba(255,255,255,0)"
         },
         "mode": "lines",
         "name": "EC (dep. prev.)",
         "showlegend": false,
         "type": "scatter",
         "x": [
          1,
          1.5,
          2,
          2.5,
          3,
          3.5,
          4,
          4.5,
          5,
          5.5,
          6,
          6.5,
          7,
          7.5,
          8,
          8.5,
          9,
          9.5,
          10,
          10,
          9.5,
          9,
          8.5,
          8,
          7.5,
          7,
          6.5,
          6,
          5.5,
          5,
          4.5,
          4,
          3.5,
          3,
          2.5,
          2,
          1.5,
          1
         ],
         "xaxis": "x",
         "y": [
          0.03136031682504563,
          0.018666800357122097,
          0.018849241104441233,
          0.015493677666979105,
          0.01924741127726111,
          0.02273151326172075,
          0.02010142294587064,
          0.02118402939615128,
          0.020014405458710756,
          0.02088318730553328,
          0.022398076950830875,
          0.021977245233569243,
          0.022511070195668906,
          0.022814841898303843,
          0.02052780777589544,
          0.02200231789971278,
          0.02116977417407015,
          0.023595780536385558,
          0.023457869006584003,
          -0.0027774739571941546,
          -0.0027991748848303043,
          -0.0027719210973017588,
          -0.0023862689536134525,
          -0.0014412661626135633,
          -0.0029679600509785985,
          -0.0013806122267771542,
          -0.0016575546645534456,
          -0.0027915494342630708,
          -0.0026442116647696703,
          -0.001237351253334391,
          -0.0010739296244465964,
          -0.001567976500381837,
          -0.0024997286367391108,
          -0.0021908607085648953,
          -0.0014632304993335322,
          -0.0018342308933633929,
          -0.0014226138326517458,
          -0.006155481891869527
         ],
         "yaxis": "y"
        },
        {
         "line": {
          "color": "rgb(67, 99, 216)",
          "width": 4
         },
         "mode": "lines",
         "name": "Accuracy",
         "showlegend": false,
         "type": "scatter",
         "x": [
          1,
          1.5,
          2,
          2.5,
          3,
          3.5,
          4,
          4.5,
          5,
          5.5,
          6,
          6.5,
          7,
          7.5,
          8,
          8.5,
          9,
          9.5,
          10
         ],
         "xaxis": "x",
         "y": [
          0.012602417729794979,
          0.016276070848107338,
          0.022015737369656563,
          0.02636392042040825,
          0.029893817380070686,
          0.034199308604002,
          0.03570343181490898,
          0.038403671234846115,
          0.04113566875457764,
          0.04221351072192192,
          0.04376712813973427,
          0.042388129979372025,
          0.045995865017175674,
          0.045590173453092575,
          0.04612528532743454,
          0.04613294079899788,
          0.04663889855146408,
          0.04711262509226799,
          0.04912223666906357
         ],
         "yaxis": "y"
        },
        {
         "line": {
          "color": "rgb(245, 130, 49)",
          "width": 4
         },
         "mode": "lines",
         "name": "F1 Score",
         "showlegend": false,
         "type": "scatter",
         "x": [
          1,
          1.5,
          2,
          2.5,
          3,
          3.5,
          4,
          4.5,
          5,
          5.5,
          6,
          6.5,
          7,
          7.5,
          8,
          8.5,
          9,
          9.5,
          10
         ],
         "xaxis": "x",
         "y": [
          0.02067317860505816,
          0.0245625879073826,
          0.038521303244234535,
          0.05169129239613067,
          0.06570935977398354,
          0.0808913197501575,
          0.09172527817715509,
          0.10305926573935946,
          0.11010492214744148,
          0.12492979104875004,
          0.13394435600245372,
          0.14505263179589506,
          0.15023363480017934,
          0.1652306068374508,
          0.17080399851955888,
          0.17959472531597204,
          0.18892017638824943,
          0.19740476451650044,
          0.20274297831659746
         ],
         "yaxis": "y"
        },
        {
         "line": {
          "color": "rgb(230, 25, 75)",
          "width": 4
         },
         "mode": "lines",
         "name": "MCC",
         "showlegend": false,
         "type": "scatter",
         "x": [
          1,
          1.5,
          2,
          2.5,
          3,
          3.5,
          4,
          4.5,
          5,
          5.5,
          6,
          6.5,
          7,
          7.5,
          8,
          8.5,
          9,
          9.5,
          10
         ],
         "xaxis": "x",
         "y": [
          0.021452852758649634,
          0.01859792831854852,
          0.021480883756810096,
          0.02022387243823095,
          0.028853655835422765,
          0.03880139923647466,
          0.04105219902318729,
          0.04706506354773863,
          0.04814737164319093,
          0.058694941471395,
          0.06633350072103811,
          0.06999734043889835,
          0.0741910595315932,
          0.08566872836883076,
          0.08752675957608008,
          0.09544748806421376,
          0.09921353928154865,
          0.10688387605766597,
          0.1098366709752221
         ],
         "yaxis": "y"
        },
        {
         "line": {
          "color": "rgb(0, 128, 128)",
          "width": 4
         },
         "mode": "lines",
         "name": "Bal. Accuracy",
         "showlegend": false,
         "type": "scatter",
         "x": [
          1,
          1.5,
          2,
          2.5,
          3,
          3.5,
          4,
          4.5,
          5,
          5.5,
          6,
          6.5,
          7,
          7.5,
          8,
          8.5,
          9,
          9.5,
          10
         ],
         "xaxis": "x",
         "y": [
          0.012602417410437088,
          0.009797919747816713,
          0.010696082527028914,
          0.0081392052914437,
          0.011022128598154345,
          0.013130721053579921,
          0.012392509723629503,
          0.012563011155312732,
          0.012660512651415243,
          0.010288777676460002,
          0.011654359227522943,
          0.013331968365222322,
          0.013108713277671418,
          0.014183301076915154,
          0.01515454482583539,
          0.012892782486461783,
          0.014164557847153165,
          0.01785540081942201,
          0.0150169043023315
         ],
         "yaxis": "y"
        },
        {
         "line": {
          "color": "rgb(128, 128, 0)",
          "width": 4
         },
         "mode": "lines",
         "name": "EC (est. prev.)",
         "showlegend": false,
         "type": "scatter",
         "x": [
          1,
          1.5,
          2,
          2.5,
          3,
          3.5,
          4,
          4.5,
          5,
          5.5,
          6,
          6.5,
          7,
          7.5,
          8,
          8.5,
          9,
          9.5,
          10
         ],
         "xaxis": "x",
         "y": [
          0.01863535672328013,
          0.012568453702355502,
          0.011797854794878751,
          0.010681674991288165,
          0.00968235533244502,
          0.012703539957802951,
          0.010448395069102905,
          0.011159532361621522,
          0.007969422706919633,
          0.008152746480888628,
          0.010049682183392339,
          0.010744699880907548,
          0.010688250742040531,
          0.009593312343376344,
          0.00930998385161647,
          0.010198968803113707,
          0.00846073347020502,
          0.01003056257348353,
          0.009225859106263253
         ],
         "yaxis": "y"
        },
        {
         "line": {
          "color": "rgb(60, 180, 75)",
          "width": 4
         },
         "mode": "lines",
         "name": "EC (dep. prev.)",
         "showlegend": false,
         "type": "scatter",
         "x": [
          1,
          1.5,
          2,
          2.5,
          3,
          3.5,
          4,
          4.5,
          5,
          5.5,
          6,
          6.5,
          7,
          7.5,
          8,
          8.5,
          9,
          9.5,
          10
         ],
         "xaxis": "x",
         "y": [
          0.01260241746658805,
          0.008622093262235175,
          0.00850750510553892,
          0.007015223583822786,
          0.008528275284348108,
          0.01011589231249082,
          0.0092667232227444,
          0.010055049885852341,
          0.009388527102688182,
          0.009119487820381805,
          0.009803263758283902,
          0.010159845284507899,
          0.010565228984445877,
          0.009923440923662622,
          0.00954327080664094,
          0.009808024473049664,
          0.009198926538384196,
          0.010398302825777627,
          0.010340197524694924
         ],
         "yaxis": "y"
        },
        {
         "boxpoints": "all",
         "jitter": 0.5,
         "marker": {
          "color": "rgb(67, 99, 216)",
          "opacity": 0.6
         },
         "name": "Accuracy",
         "pointpos": 0,
         "type": "box",
         "whiskerwidth": 0.2,
         "xaxis": "x2",
         "y": [
          0.021303535,
          0.02491647,
          0.036691666,
          0.0014084578,
          0.017363966,
          0.004617572,
          0.0013633966,
          0.004882157,
          0.000395298,
          0.017263293,
          0.15152848,
          0.039723992,
          0.057596564,
          0.071315765,
          0.15597528,
          0.09106058,
          0.06806594,
          0.17748684,
          0.0018796325,
          0.009463847,
          0.08822945,
          0.06634301,
          0.0017396808,
          0.028636992,
          0.014011562,
          0.030286849,
          0.097738385,
          0.083592,
          0.056226432,
          0.052559912
         ],
         "yaxis": "y2"
        },
        {
         "boxpoints": "all",
         "jitter": 0.5,
         "marker": {
          "color": "rgb(245, 130, 49)",
          "opacity": 0.6
         },
         "name": "F1 Score",
         "pointpos": 0,
         "type": "box",
         "whiskerwidth": 0.2,
         "xaxis": "x2",
         "y": [
          0.03824923696343907,
          0.0138191055982686,
          0.14385614385614398,
          0,
          0.1850147040020459,
          0.1963232366077381,
          0.04763053733261624,
          0.0491366227800335,
          0.1135238095238097,
          0.20053072055521537,
          0.23983570491909872,
          0.29837241074248766,
          0.29688058241255194,
          0.19079176666295583,
          0.24301147121060246,
          0.3141927537578892,
          0.14978828500278896,
          0.23651672433679366,
          0.10248677942397633,
          0.034216589861751134,
          0.14396014943960156,
          0.362962962962963,
          0.017697783673999767,
          0.3230462497542893,
          0.40539138296143074,
          0.46233766233766227,
          0.28580954497824923,
          0.3163170163170162,
          0.33849858908241703,
          0.3320908224400872
         ],
         "yaxis": "y2"
        },
        {
         "boxpoints": "all",
         "jitter": 0.5,
         "marker": {
          "color": "rgb(230, 25, 75)",
          "opacity": 0.6
         },
         "name": "MCC",
         "pointpos": 0,
         "type": "box",
         "whiskerwidth": 0.2,
         "xaxis": "x2",
         "y": [
          0.01731245133052517,
          0.11439862610714469,
          0.1245229738691801,
          0.0024478158415056628,
          0.11065320910401888,
          0.15380025380773132,
          0.039382926586674416,
          0.04803565986762459,
          0.09499123230169493,
          0.08698472320133965,
          0.10617399391045607,
          0.17379155773579502,
          0.1669691070365627,
          0.09467309012868164,
          0.0253899303379736,
          0.1257648364331892,
          0.07380384453300781,
          0.07671274049649829,
          0.08910515951603126,
          0.01947765095624321,
          0.03934141676182884,
          0.14733241480121007,
          0.017791226120501324,
          0.15979042386283432,
          0.20473863904299194,
          0.31945128306452064,
          0.14381195724213391,
          0.16463159148620926,
          0.1485590414381171,
          0.20526035233443712
         ],
         "yaxis": "y2"
        },
        {
         "boxpoints": "all",
         "jitter": 0.5,
         "marker": {
          "color": "rgb(0, 128, 128)",
          "opacity": 0.6
         },
         "name": "Bal. Accuracy",
         "pointpos": 0,
         "type": "box",
         "whiskerwidth": 0.2,
         "xaxis": "x2",
         "y": [
          0.003659579695973858,
          0.003989779189284226,
          0.028239554563083913,
          0.0011699330292945787,
          0.030918822779287924,
          0.0017589330076952514,
          0.0034170654501479714,
          0.0035185185185184764,
          0.008046268152651193,
          0.007191159291999649,
          0.0009335532266929736,
          0.0038126173173518296,
          0.006467233698913999,
          0.007748504136043,
          0.04809150780597138,
          0.009300745101580965,
          0.0014587188748809155,
          0.009897768443437593,
          0.009443833385709866,
          0.005634104257957517,
          0.044941256445493794,
          0.01388888888888895,
          0.014014549173738455,
          0.02269036365131194,
          0.009148602711227638,
          0.08496168582375474,
          0.005462797816439657,
          0.015093007551107984,
          0.009687557385076762,
          0.035920219696428
         ],
         "yaxis": "y2"
        },
        {
         "boxpoints": "all",
         "jitter": 0.5,
         "marker": {
          "color": "rgb(128, 128, 0)",
          "opacity": 0.6
         },
         "name": "EC (est. prev.)",
         "pointpos": 0,
         "type": "box",
         "whiskerwidth": 0.2,
         "xaxis": "x2",
         "y": [
          0.00015890889338258246,
          0.0017071106462913932,
          0.051938959425092524,
          0.001408450693434514,
          0.017363972988730617,
          0.003355015351198143,
          0.0009086161678610385,
          0.002163054082128737,
          0.0017867976990212295,
          0.00037820738848872576,
          0.00016120538671501872,
          0.0005861844295670104,
          0.004275731743152128,
          0.005229120649692831,
          0.011702696734102097,
          0.006593847204380776,
          0.001010517618134435,
          0.010525206870854786,
          0.001879617605790071,
          0.014999844737203283,
          0.03969535459361695,
          0.007637641164991604,
          0.003181562547713685,
          0.013066364545149922,
          0.02651248547965307,
          0.036509435054181916,
          0.0010266520160516768,
          0.0017720785468818556,
          0.0043535529649395555,
          0.004887579959495403
         ],
         "yaxis": "y2"
        },
        {
         "boxpoints": "all",
         "jitter": 0.5,
         "marker": {
          "color": "rgb(60, 180, 75)",
          "opacity": 0.6
         },
         "name": "EC (dep. prev.)",
         "pointpos": 0,
         "type": "box",
         "whiskerwidth": 0.2,
         "xaxis": "x2",
         "y": [
          0.00017771830234360186,
          0.001389908485999805,
          0.05369930497223166,
          0.001408450693434514,
          0.01736397178459638,
          0.003343266710496451,
          0.0009083082376026268,
          0.002154882219102646,
          0.00178072523805025,
          0.0005036878025099847,
          0.0021166695656675283,
          0.00043838667951701105,
          0.005209533380003545,
          0.006248951131578806,
          0.02230775307132027,
          0.010941813993132793,
          0.0015867799493355303,
          0.002611103196231118,
          0.0018796177770677887,
          0.01478654922559219,
          0.008778436214051777,
          0.01618123013112277,
          0.003175303720161224,
          0.013500973587205978,
          0.02870125029520601,
          0.036799771880672905,
          0.038154705540915934,
          0.006822693841830874,
          0.004878772586551117,
          0.0023554055273146413
         ],
         "yaxis": "y2"
        },
        {
         "fill": "toself",
         "fillcolor": "rgba(67, 99, 216, 0.15)",
         "line": {
          "color": "rgba(255,255,255,0)"
         },
         "mode": "lines",
         "name": "Accuracy",
         "showlegend": false,
         "type": "scatter",
         "x": [
          1,
          1.5,
          2,
          2.5,
          3,
          3.5,
          4,
          4.5,
          5,
          5.5,
          6,
          6.5,
          7,
          7.5,
          8,
          8.5,
          9,
          9.5,
          10,
          10,
          9.5,
          9,
          8.5,
          8,
          7.5,
          7,
          6.5,
          6,
          5.5,
          5,
          4.5,
          4,
          3.5,
          3,
          2.5,
          2,
          1.5,
          1
         ],
         "xaxis": "x3",
         "y": [
          0.025974247604608536,
          0.03254829719662666,
          0.06023416668176651,
          0.09627052396535873,
          0.12903861701488495,
          0.15664538741111755,
          0.1778867393732071,
          0.1975463628768921,
          0.21418476104736328,
          0.2266518771648407,
          0.24095045030117035,
          0.2530268430709839,
          0.26452401280403137,
          0.2730897068977356,
          0.2817533016204834,
          0.2892605662345886,
          0.2980762720108032,
          0.3047550320625305,
          0.3114987015724182,
          0.030895665287971497,
          0.02786312997341156,
          0.02746199071407318,
          0.025686219334602356,
          0.024986833333969116,
          0.021352261304855347,
          0.018082179129123688,
          0.014277637004852295,
          0.013350829482078552,
          0.010796591639518738,
          0.008511699736118317,
          0.006154745817184448,
          0.003188997507095337,
          0.0011128708720207214,
          0.002233460545539856,
          0.0027243271470069885,
          0.0026775747537612915,
          -0.0013685515150427818,
          -0.0040720440447330475
         ],
         "yaxis": "y3"
        },
        {
         "fill": "toself",
         "fillcolor": "rgba(245, 130, 49, 0.15)",
         "line": {
          "color": "rgba(255,255,255,0)"
         },
         "mode": "lines",
         "name": "F1 Score",
         "showlegend": false,
         "type": "scatter",
         "x": [
          1,
          1.5,
          2,
          2.5,
          3,
          3.5,
          4,
          4.5,
          5,
          5.5,
          6,
          6.5,
          7,
          7.5,
          8,
          8.5,
          9,
          9.5,
          10,
          10,
          9.5,
          9,
          8.5,
          8,
          7.5,
          7,
          6.5,
          6,
          5.5,
          5,
          4.5,
          4,
          3.5,
          3,
          2.5,
          2,
          1.5,
          1
         ],
         "xaxis": "x3",
         "y": [
          0.05530823357177092,
          0.05590513888840456,
          0.08672877163518516,
          0.09148400264987414,
          0.09277512437562735,
          0.08451397354911175,
          0.08368317897710426,
          0.09402059027445811,
          0.09468826716708127,
          0.09481432086882263,
          0.09219176352867917,
          0.10601632540940603,
          0.07807100118983765,
          0.10266672536389718,
          0.06461051194459132,
          0.08499942411247802,
          0.09279206666462445,
          0.08145694460554828,
          0.08633364310813979,
          0.0007805516726225245,
          0.010292824661183107,
          -0.0048468292074035635,
          0.0010214946052118437,
          0.00889875270062795,
          -0.012086527796094093,
          -0.00019947042966687173,
          -0.0202053054165097,
          -0.002987806693637886,
          0.001445877397725455,
          -0.0010682777649432401,
          -0.004303326780016284,
          -0.0028672091432486446,
          0.0005508046583660303,
          -0.0074135987284203245,
          -0.008154110214090918,
          -0.012634921354436307,
          -0.006926271146984624,
          -0.020624766970264562
         ],
         "yaxis": "y3"
        },
        {
         "fill": "toself",
         "fillcolor": "rgba(230, 25, 75, 0.15)",
         "line": {
          "color": "rgba(255,255,255,0)"
         },
         "mode": "lines",
         "name": "MCC",
         "showlegend": false,
         "type": "scatter",
         "x": [
          1,
          1.5,
          2,
          2.5,
          3,
          3.5,
          4,
          4.5,
          5,
          5.5,
          6,
          6.5,
          7,
          7.5,
          8,
          8.5,
          9,
          9.5,
          10,
          10,
          9.5,
          9,
          8.5,
          8,
          7.5,
          7,
          6.5,
          6,
          5.5,
          5,
          4.5,
          4,
          3.5,
          3,
          2.5,
          2,
          1.5,
          1
         ],
         "xaxis": "x3",
         "y": [
          0.04743564465459407,
          0.04191425436289892,
          0.04240493321734652,
          0.03954986108166284,
          0.053103571774841304,
          0.05184487440548101,
          0.04823720592371223,
          0.05243550896554215,
          0.04675985005810094,
          0.07603454802246246,
          0.08048316640083164,
          0.08264634059215664,
          0.05009448585976966,
          0.08044330496990623,
          0.04907669241640425,
          0.06500363891744715,
          0.0530569807030629,
          0.03855099315398364,
          0.06206686942583775,
          0.0026398577971758486,
          0.0029936707348981427,
          -0.0023009848179827916,
          -0.0056465425895624935,
          0.003406672147881349,
          -0.005151130779868882,
          0.004989849581317644,
          -0.01848311785078576,
          -0.010506605554118274,
          -0.004843148933454368,
          0.005824520214729456,
          0.0023637345746642564,
          1.5293598519539042e-7,
          -0.004476694087646237,
          -0.0013382914905662145,
          -0.00010651563505983258,
          -0.0026919607752286974,
          -0.0034174628058189355,
          -0.007697255920561637
         ],
         "yaxis": "y3"
        },
        {
         "fill": "toself",
         "fillcolor": "rgba(0, 128, 128, 0.15)",
         "line": {
          "color": "rgba(255,255,255,0)"
         },
         "mode": "lines",
         "name": "Bal. Accuracy",
         "showlegend": false,
         "type": "scatter",
         "x": [
          1,
          1.5,
          2,
          2.5,
          3,
          3.5,
          4,
          4.5,
          5,
          5.5,
          6,
          6.5,
          7,
          7.5,
          8,
          8.5,
          9,
          9.5,
          10,
          10,
          9.5,
          9,
          8.5,
          8,
          7.5,
          7,
          6.5,
          6,
          5.5,
          5,
          4.5,
          4,
          3.5,
          3,
          2.5,
          2,
          1.5,
          1
         ],
         "xaxis": "x3",
         "y": [
          0.025974239547113344,
          0.021124233479771534,
          0.022396187370965097,
          0.02303974163640135,
          0.027358988954920394,
          0.026318357924079633,
          0.024007337534974915,
          0.023147870836888115,
          0.01930989635611381,
          0.0259710492506087,
          0.028051269453804657,
          0.04003620773478606,
          0.024430610546887815,
          0.03777824189836706,
          0.018603013906198913,
          0.0263402874397822,
          0.02724186862752962,
          0.023025474148991937,
          0.026416288751561427,
          -0.001581714046342714,
          -0.0012815886412373377,
          -0.004071832091212523,
          -0.004133590947973768,
          -0.0011434728938362893,
          -0.007362089177977635,
          -0.0011813663394043966,
          -0.0116262156643263,
          -0.005051243079015109,
          -0.0031224685538006683,
          -0.0004430310955055375,
          -0.0011255540886053027,
          -0.0015314752205119794,
          -0.004356053838157875,
          -0.0028157514440478645,
          -0.0016053642020713594,
          -0.0020991188387737576,
          -0.0019003186879837878,
          -0.00407204324815957
         ],
         "yaxis": "y3"
        },
        {
         "fill": "toself",
         "fillcolor": "rgba(128, 128, 0, 0.15)",
         "line": {
          "color": "rgba(255,255,255,0)"
         },
         "mode": "lines",
         "name": "EC (est. prev.)",
         "showlegend": false,
         "type": "scatter",
         "x": [
          1,
          1.5,
          2,
          2.5,
          3,
          3.5,
          4,
          4.5,
          5,
          5.5,
          6,
          6.5,
          7,
          7.5,
          8,
          8.5,
          9,
          9.5,
          10,
          10,
          9.5,
          9,
          8.5,
          8,
          7.5,
          7,
          6.5,
          6,
          5.5,
          5,
          4.5,
          4,
          3.5,
          3,
          2.5,
          2,
          1.5,
          1
         ],
         "xaxis": "x3",
         "y": [
          0.0881978353417868,
          0.04362833017917456,
          0.039951427361781346,
          0.0662062042718781,
          0.06257550421321748,
          0.05854804558256391,
          0.031570560825922335,
          0.028614297806679387,
          0.04964470468191522,
          0.05219998102638787,
          0.02656334270654296,
          0.04848064081765596,
          0.04881286758189195,
          0.03543645418199709,
          0.02385364356223855,
          0.03593145241083397,
          0.04905924957945135,
          0.03749696137488254,
          0.04103278366859797,
          -0.009158540456237239,
          -0.008042214977995128,
          -0.015249225435089667,
          -0.0066265573930008245,
          -0.002486100231813622,
          -0.004312432146014972,
          -0.01546753750367581,
          -0.013847360793265144,
          -0.002118924409119002,
          -0.017222580632143866,
          -0.017055378420782488,
          -0.004754156374191227,
          -0.003592280076916853,
          -0.022758753154562075,
          -0.023115449036541287,
          -0.029753390817104465,
          -0.012656639020278517,
          -0.015066948732478875,
          -0.042786586919281215
         ],
         "yaxis": "y3"
        },
        {
         "fill": "toself",
         "fillcolor": "rgba(60, 180, 75, 0.15)",
         "line": {
          "color": "rgba(255,255,255,0)"
         },
         "mode": "lines",
         "name": "EC (dep. prev.)",
         "showlegend": false,
         "type": "scatter",
         "x": [
          1,
          1.5,
          2,
          2.5,
          3,
          3.5,
          4,
          4.5,
          5,
          5.5,
          6,
          6.5,
          7,
          7.5,
          8,
          8.5,
          9,
          9.5,
          10,
          10,
          9.5,
          9,
          8.5,
          8,
          7.5,
          7,
          6.5,
          6,
          5.5,
          5,
          4.5,
          4,
          3.5,
          3,
          2.5,
          2,
          1.5,
          1
         ],
         "xaxis": "x3",
         "y": [
          0.025974239617248554,
          0.02045364943210449,
          0.018378763301564887,
          0.01610693973938458,
          0.018692469756887268,
          0.018118887708417998,
          0.013295302058333156,
          0.01658324323438979,
          0.010557164359115606,
          0.013630529847496591,
          0.01535270978832249,
          0.014389977922704453,
          0.009003669157107739,
          0.012735746155427313,
          0.0084162664817485,
          0.009209978999441207,
          0.008537987246061196,
          0.007593226508236793,
          0.009400463166783633,
          -0.0001056965997875553,
          -0.00033465011072143997,
          -0.0006016798910896239,
          -0.000014176244424002164,
          -0.00034403905243768265,
          -0.0008732633647372135,
          -0.00012731147827954158,
          -0.0022789739554492624,
          -0.0017096139990378017,
          -0.00014925250549849105,
          0.00016207501774058008,
          -0.0020602580374340044,
          0.00062215870405992,
          -0.0027342017205484737,
          -0.003178320708649228,
          -0.0005177821746882626,
          -0.0009426528560906589,
          -0.0007854258059632295,
          -0.004072043259931166
         ],
         "yaxis": "y3"
        },
        {
         "line": {
          "color": "rgb(67, 99, 216)",
          "width": 4
         },
         "mode": "lines",
         "name": "Accuracy",
         "showlegend": false,
         "type": "scatter",
         "x": [
          1,
          1.5,
          2,
          2.5,
          3,
          3.5,
          4,
          4.5,
          5,
          5.5,
          6,
          6.5,
          7,
          7.5,
          8,
          8.5,
          9,
          9.5,
          10
         ],
         "xaxis": "x3",
         "y": [
          0.010951101779937744,
          0.015589873306453228,
          0.0314558707177639,
          0.04949742555618286,
          0.0656360387802124,
          0.07887913286685944,
          0.09053786844015121,
          0.10185055434703827,
          0.1113482341170311,
          0.11872423440217972,
          0.12715063989162445,
          0.1336522400379181,
          0.14130309224128723,
          0.14722098410129547,
          0.15337006747722626,
          0.1574734002351761,
          0.1627691239118576,
          0.16630907356739044,
          0.17119719088077545
         ],
         "yaxis": "y3"
        },
        {
         "line": {
          "color": "rgb(245, 130, 49)",
          "width": 4
         },
         "mode": "lines",
         "name": "F1 Score",
         "showlegend": false,
         "type": "scatter",
         "x": [
          1,
          1.5,
          2,
          2.5,
          3,
          3.5,
          4,
          4.5,
          5,
          5.5,
          6,
          6.5,
          7,
          7.5,
          8,
          8.5,
          9,
          9.5,
          10
         ],
         "xaxis": "x3",
         "y": [
          0.01734173330075318,
          0.024489433870709967,
          0.03704692514037443,
          0.04166494621789161,
          0.04268076282360351,
          0.04253238910373889,
          0.040407984916927805,
          0.04485863174722091,
          0.046809994701069016,
          0.04813009913327405,
          0.04460197841752064,
          0.04290550999644816,
          0.038935765380085384,
          0.04529009878390154,
          0.036754632322609636,
          0.04301045935884493,
          0.04397261872861044,
          0.04587488463336569,
          0.043557097390381154
         ],
         "yaxis": "y3"
        },
        {
         "line": {
          "color": "rgb(230, 25, 75)",
          "width": 4
         },
         "mode": "lines",
         "name": "MCC",
         "showlegend": false,
         "type": "scatter",
         "x": [
          1,
          1.5,
          2,
          2.5,
          3,
          3.5,
          4,
          4.5,
          5,
          5.5,
          6,
          6.5,
          7,
          7.5,
          8,
          8.5,
          9,
          9.5,
          10
         ],
         "xaxis": "x3",
         "y": [
          0.01986919436701622,
          0.01924839577853999,
          0.019856486221058914,
          0.019721672723301505,
          0.025882640142137547,
          0.023684090158917384,
          0.024118679429848713,
          0.027399621770103202,
          0.026292185136415198,
          0.03559569954450404,
          0.03498828042335668,
          0.03208161137068544,
          0.027542167720543652,
          0.037646087095018675,
          0.026241682282142798,
          0.02967854816394233,
          0.025377997942540056,
          0.020772331944440888,
          0.0323533636115068
         ],
         "yaxis": "y3"
        },
        {
         "line": {
          "color": "rgb(0, 128, 128)",
          "width": 4
         },
         "mode": "lines",
         "name": "Bal. Accuracy",
         "showlegend": false,
         "type": "scatter",
         "x": [
          1,
          1.5,
          2,
          2.5,
          3,
          3.5,
          4,
          4.5,
          5,
          5.5,
          6,
          6.5,
          7,
          7.5,
          8,
          8.5,
          9,
          9.5,
          10
         ],
         "xaxis": "x3",
         "y": [
          0.010951098149476887,
          0.009611957395893874,
          0.010148534266095669,
          0.010717188717164995,
          0.012271618755436265,
          0.010981152042960879,
          0.011237931157231469,
          0.011011158374141405,
          0.009433432630304136,
          0.011424290348404016,
          0.011500013187394775,
          0.01420499603522988,
          0.011624622103741709,
          0.015208076360194712,
          0.008729770506181312,
          0.011103348245904216,
          0.011585018268158548,
          0.0108719427538773,
          0.012417287352609356
         ],
         "yaxis": "y3"
        },
        {
         "line": {
          "color": "rgb(128, 128, 0)",
          "width": 4
         },
         "mode": "lines",
         "name": "EC (est. prev.)",
         "showlegend": false,
         "type": "scatter",
         "x": [
          1,
          1.5,
          2,
          2.5,
          3,
          3.5,
          4,
          4.5,
          5,
          5.5,
          6,
          6.5,
          7,
          7.5,
          8,
          8.5,
          9,
          9.5,
          10
         ],
         "xaxis": "x3",
         "y": [
          0.022705624211252794,
          0.01428069072334784,
          0.013647394170751415,
          0.01822640672738681,
          0.019730027588338098,
          0.017894646214000918,
          0.01398914037450274,
          0.01193007071624408,
          0.016294663130566364,
          0.017488700197122002,
          0.012222209148711978,
          0.01731664001219541,
          0.01667266503910807,
          0.015562011017991057,
          0.010683771665212465,
          0.014652447508916571,
          0.016905012072180838,
          0.014727373198443704,
          0.01593712160618037
         ],
         "yaxis": "y3"
        },
        {
         "line": {
          "color": "rgb(60, 180, 75)",
          "width": 4
         },
         "mode": "lines",
         "name": "EC (dep. prev.)",
         "showlegend": false,
         "type": "scatter",
         "x": [
          1,
          1.5,
          2,
          2.5,
          3,
          3.5,
          4,
          4.5,
          5,
          5.5,
          6,
          6.5,
          7,
          7.5,
          8,
          8.5,
          9,
          9.5,
          10
         ],
         "xaxis": "x3",
         "y": [
          0.010951098178658693,
          0.00983411181307063,
          0.008718055222737114,
          0.0077945787823481575,
          0.00775707452411902,
          0.007692342993934762,
          0.0069587303811965385,
          0.007261492598477892,
          0.005359619688428093,
          0.00674063867099905,
          0.0068215478946423444,
          0.006055501983627595,
          0.004438178839414098,
          0.0059312413953450495,
          0.0040361137146554095,
          0.004597901377508603,
          0.003968153677485786,
          0.003629288198757676,
          0.004647383283498039
         ],
         "yaxis": "y3"
        },
        {
         "boxpoints": "all",
         "jitter": 0.5,
         "marker": {
          "color": "rgb(67, 99, 216)",
          "opacity": 0.6
         },
         "name": "Accuracy",
         "pointpos": 0,
         "showlegend": false,
         "type": "box",
         "whiskerwidth": 0.2,
         "xaxis": "x4",
         "y": [
          0.019962728,
          0.08878839,
          0.06061381,
          0.0007042289,
          0.098080516,
          0.07161194,
          0.015800774,
          0.0020033717,
          0.014598846,
          0.025166452,
          0.327123,
          0.2490974,
          0.2721359,
          0.16638112,
          0.4082229,
          0.3948263,
          0.14034706,
          0.40305436,
          0.018657625,
          0.0126184225,
          0.12863505,
          0.41262138,
          0.0017396808,
          0.23879611,
          0.29379195,
          0.2322585,
          0.30986285,
          0.1937058,
          0.31937784,
          0.2153312
         ],
         "yaxis": "y4"
        },
        {
         "boxpoints": "all",
         "jitter": 0.5,
         "marker": {
          "color": "rgb(245, 130, 49)",
          "opacity": 0.6
         },
         "name": "F1 Score",
         "pointpos": 0,
         "showlegend": false,
         "type": "box",
         "whiskerwidth": 0.2,
         "xaxis": "x4",
         "y": [
          0.03917656293520366,
          0.00106081271243319,
          0.056797385620914964,
          0,
          0.028535758872837547,
          0.05056614803886106,
          0.01311886377978222,
          0.0457084512048056,
          0.06245120999219367,
          0.06181467646704408,
          0.04235661737568586,
          0.08600091151677086,
          0.03216533099877911,
          0.05679173447526764,
          0.004524886877828055,
          0.00630899295638692,
          0.06339072174989435,
          0.003139269406392694,
          0.04986399291497978,
          0.04740740740740734,
          0.005115089514066529,
          0,
          0.017697783673999767,
          0.011087420042643958,
          0.1642993717563507,
          0.08831168831168823,
          0.04940264772360348,
          0.18148062195404974,
          0.013380109325283551,
          0.024758454106280192
         ],
         "yaxis": "y4"
        },
        {
         "boxpoints": "all",
         "jitter": 0.5,
         "marker": {
          "color": "rgb(230, 25, 75)",
          "opacity": 0.6
         },
         "name": "MCC",
         "pointpos": 0,
         "showlegend": false,
         "type": "box",
         "whiskerwidth": 0.2,
         "xaxis": "x4",
         "y": [
          0.016091544626612997,
          0.02942429427150073,
          0.009247881882584519,
          0.0012223279760006367,
          0.05530088463519489,
          0.012245332259262387,
          0.004669672199217878,
          0.0390896127778263,
          0.04225930384277454,
          0.0012236924778834535,
          0.008029565588062115,
          0.01592255736408832,
          0.037907986522394854,
          0.0331876557852524,
          0.03369085602646046,
          0.012401123583448262,
          0.02217298113510935,
          0.015472275614749564,
          0.025012961565080705,
          0.030747273095084182,
          0.016013487934010195,
          0,
          0.017791226120501324,
          0.08847201525443005,
          0.12792668481823097,
          0.040757882176979954,
          0.010315786656173553,
          0.08922905576949253,
          0.06005656531231168,
          0.07471842107448501
         ],
         "yaxis": "y4"
        },
        {
         "boxpoints": "all",
         "jitter": 0.5,
         "marker": {
          "color": "rgb(0, 128, 128)",
          "opacity": 0.6
         },
         "name": "Bal. Accuracy",
         "pointpos": 0,
         "showlegend": false,
         "type": "box",
         "whiskerwidth": 0.2,
         "xaxis": "x4",
         "y": [
          0.002728121972590869,
          0.023701752231507278,
          0.014318181818181785,
          0.0002927400468384356,
          0.05301855766972041,
          0.0007156379141172176,
          0.005123429871093155,
          0.014814814814814836,
          0.02046605876393115,
          0.013345540236296638,
          0.008573719142474734,
          0.010535870897761757,
          0.002769754900220356,
          0.004537320960978253,
          0.0011337868480725266,
          0.0006760607914028105,
          0.003948853463732194,
          0.0012784352876229477,
          0.0004834109457283464,
          0.01473273583365331,
          0.03268975298636312,
          0,
          0.014014549173738455,
          0.013193234442287483,
          0.049309118596260526,
          0.00021893814997264727,
          0.011295317838173946,
          0.03793664436122535,
          0.0032765603639999252,
          0.01338972025552021
         ],
         "yaxis": "y4"
        },
        {
         "boxpoints": "all",
         "jitter": 0.5,
         "marker": {
          "color": "rgb(128, 128, 0)",
          "opacity": 0.6
         },
         "name": "EC (est. prev.)",
         "pointpos": 0,
         "showlegend": false,
         "type": "box",
         "whiskerwidth": 0.2,
         "xaxis": "x4",
         "y": [
          0.0012446002735024206,
          0.015179667521488069,
          0.0054494980413308525,
          0.0007042253184932736,
          0.011058949503766721,
          0.0006551679712811752,
          0.001520385644891653,
          0.005700753132502238,
          0.0072219896676601995,
          0.004756242065554063,
          0.0049163945784052865,
          0.005324945787154367,
          0.0032673284135852076,
          0.002756144040321089,
          0.032478004693984985,
          0.02156255721159471,
          0.0003083666886447428,
          0.02767833174531266,
          0.002905054550080933,
          0.009525645715684034,
          0.1281454188037331,
          0.03838141713969534,
          0.003181562547713685,
          0.0035102354773242986,
          0.030330078024192533,
          0.018967369828448627,
          0.061600972239200164,
          0.02319436422857074,
          0.005769438597218748,
          0.0008185387340751624
         ],
         "yaxis": "y4"
        },
        {
         "boxpoints": "all",
         "jitter": 0.5,
         "marker": {
          "color": "rgb(60, 180, 75)",
          "opacity": 0.6
         },
         "name": "EC (dep. prev.)",
         "pointpos": 0,
         "showlegend": false,
         "type": "box",
         "whiskerwidth": 0.2,
         "xaxis": "x4",
         "y": [
          0.0010888765522122923,
          0.015427571930689277,
          0.0050694190400944195,
          0.0007042253184932736,
          0.01538039000872466,
          0.00016217282751029155,
          0.0015107080003917053,
          0.005723905894491407,
          0.007161278651296914,
          0.004551178347931683,
          0.0014819460430643694,
          0.0028298875106645,
          0.000509861016676369,
          0.0005656713740931629,
          0.00020554029887495662,
          0.0011430359897150189,
          0.0013137153414283995,
          0.0011025278177722725,
          0.0029652342883302873,
          0.008672462895153353,
          0.006429277824338275,
          0,
          0.003175303720161224,
          0.008391923178049591,
          0.012732780329997917,
          0.015232400993342984,
          0.003282153319142417,
          0.000475351717255601,
          0.0031498691261493267,
          0.008982829148895206
         ],
         "yaxis": "y4"
        }
       ],
       "layout": {
        "annotations": [
         {
          "bgcolor": "white",
          "font": {
           "size": 30
          },
          "showarrow": false,
          "text": "<b>w/o re-calibration</b>",
          "textangle": 90,
          "x": 0.98,
          "xanchor": "left",
          "xref": "paper",
          "y": 0.7575000000000001,
          "yanchor": "middle",
          "yref": "paper"
         },
         {
          "bgcolor": "white",
          "font": {
           "size": 30
          },
          "showarrow": false,
          "text": "<b>with re-calibration</b>",
          "textangle": 90,
          "x": 0.98,
          "xanchor": "left",
          "xref": "paper",
          "y": 0.2425,
          "yanchor": "middle",
          "yref": "paper"
         },
         {
          "bgcolor": "white",
          "font": {
           "size": 30
          },
          "showarrow": false,
          "text": "<b>Absolute difference to metric score on D<sub>dev</sub> set</b>",
          "textangle": -90,
          "x": 0,
          "xanchor": "right",
          "xref": "paper",
          "xshift": -40,
          "y": 0.5,
          "yanchor": "middle",
          "yref": "paper"
         },
         {
          "bgcolor": "white",
          "bordercolor": "black",
          "borderwidth": 1,
          "font": {
           "color": "black",
           "size": 22
          },
          "showarrow": false,
          "text": "IR=10",
          "x": 0.98,
          "xanchor": "right",
          "xref": "paper",
          "y": 1,
          "yanchor": "top",
          "yref": "paper"
         },
         {
          "bgcolor": "white",
          "bordercolor": "black",
          "borderwidth": 1,
          "font": {
           "color": "black",
           "size": 22
          },
          "showarrow": false,
          "text": "IR=10",
          "x": 0.98,
          "xanchor": "right",
          "xref": "paper",
          "y": 0.485,
          "yanchor": "top",
          "yref": "paper"
         }
        ],
        "autosize": false,
        "font": {
         "family": "NewComputerModern10",
         "size": 22
        },
        "height": 800,
        "images": [
         {
          "sizex": 0.08,
          "sizey": 0.08,
          "source": "/home/p079i/Projects/prevalences/data/little_guys_balanced.png",
          "x": 0,
          "xanchor": "left",
          "xref": "paper",
          "y": -0.04,
          "yanchor": "top",
          "yref": "paper"
         },
         {
          "sizex": 0.08,
          "sizey": 0.08,
          "source": "/home/p079i/Projects/prevalences/data/little_guys_high_ir.png",
          "x": 0.475,
          "xanchor": "right",
          "xref": "paper",
          "y": -0.04,
          "yanchor": "top",
          "yref": "paper"
         }
        ],
        "legend": {
         "font": {
          "size": 30
         },
         "itemsizing": "constant"
        },
        "margin": {
         "b": 90,
         "t": 10
        },
        "template": {
         "data": {
          "bar": [
           {
            "error_x": {
             "color": "#2a3f5f"
            },
            "error_y": {
             "color": "#2a3f5f"
            },
            "marker": {
             "line": {
              "color": "white",
              "width": 0.5
             },
             "pattern": {
              "fillmode": "overlay",
              "size": 10,
              "solidity": 0.2
             }
            },
            "type": "bar"
           }
          ],
          "barpolar": [
           {
            "marker": {
             "line": {
              "color": "white",
              "width": 0.5
             },
             "pattern": {
              "fillmode": "overlay",
              "size": 10,
              "solidity": 0.2
             }
            },
            "type": "barpolar"
           }
          ],
          "carpet": [
           {
            "aaxis": {
             "endlinecolor": "#2a3f5f",
             "gridcolor": "#C8D4E3",
             "linecolor": "#C8D4E3",
             "minorgridcolor": "#C8D4E3",
             "startlinecolor": "#2a3f5f"
            },
            "baxis": {
             "endlinecolor": "#2a3f5f",
             "gridcolor": "#C8D4E3",
             "linecolor": "#C8D4E3",
             "minorgridcolor": "#C8D4E3",
             "startlinecolor": "#2a3f5f"
            },
            "type": "carpet"
           }
          ],
          "choropleth": [
           {
            "colorbar": {
             "outlinewidth": 0,
             "ticks": ""
            },
            "type": "choropleth"
           }
          ],
          "contour": [
           {
            "colorbar": {
             "outlinewidth": 0,
             "ticks": ""
            },
            "colorscale": [
             [
              0,
              "#0d0887"
             ],
             [
              0.1111111111111111,
              "#46039f"
             ],
             [
              0.2222222222222222,
              "#7201a8"
             ],
             [
              0.3333333333333333,
              "#9c179e"
             ],
             [
              0.4444444444444444,
              "#bd3786"
             ],
             [
              0.5555555555555556,
              "#d8576b"
             ],
             [
              0.6666666666666666,
              "#ed7953"
             ],
             [
              0.7777777777777778,
              "#fb9f3a"
             ],
             [
              0.8888888888888888,
              "#fdca26"
             ],
             [
              1,
              "#f0f921"
             ]
            ],
            "type": "contour"
           }
          ],
          "contourcarpet": [
           {
            "colorbar": {
             "outlinewidth": 0,
             "ticks": ""
            },
            "type": "contourcarpet"
           }
          ],
          "heatmap": [
           {
            "colorbar": {
             "outlinewidth": 0,
             "ticks": ""
            },
            "colorscale": [
             [
              0,
              "#0d0887"
             ],
             [
              0.1111111111111111,
              "#46039f"
             ],
             [
              0.2222222222222222,
              "#7201a8"
             ],
             [
              0.3333333333333333,
              "#9c179e"
             ],
             [
              0.4444444444444444,
              "#bd3786"
             ],
             [
              0.5555555555555556,
              "#d8576b"
             ],
             [
              0.6666666666666666,
              "#ed7953"
             ],
             [
              0.7777777777777778,
              "#fb9f3a"
             ],
             [
              0.8888888888888888,
              "#fdca26"
             ],
             [
              1,
              "#f0f921"
             ]
            ],
            "type": "heatmap"
           }
          ],
          "heatmapgl": [
           {
            "colorbar": {
             "outlinewidth": 0,
             "ticks": ""
            },
            "colorscale": [
             [
              0,
              "#0d0887"
             ],
             [
              0.1111111111111111,
              "#46039f"
             ],
             [
              0.2222222222222222,
              "#7201a8"
             ],
             [
              0.3333333333333333,
              "#9c179e"
             ],
             [
              0.4444444444444444,
              "#bd3786"
             ],
             [
              0.5555555555555556,
              "#d8576b"
             ],
             [
              0.6666666666666666,
              "#ed7953"
             ],
             [
              0.7777777777777778,
              "#fb9f3a"
             ],
             [
              0.8888888888888888,
              "#fdca26"
             ],
             [
              1,
              "#f0f921"
             ]
            ],
            "type": "heatmapgl"
           }
          ],
          "histogram": [
           {
            "marker": {
             "pattern": {
              "fillmode": "overlay",
              "size": 10,
              "solidity": 0.2
             }
            },
            "type": "histogram"
           }
          ],
          "histogram2d": [
           {
            "colorbar": {
             "outlinewidth": 0,
             "ticks": ""
            },
            "colorscale": [
             [
              0,
              "#0d0887"
             ],
             [
              0.1111111111111111,
              "#46039f"
             ],
             [
              0.2222222222222222,
              "#7201a8"
             ],
             [
              0.3333333333333333,
              "#9c179e"
             ],
             [
              0.4444444444444444,
              "#bd3786"
             ],
             [
              0.5555555555555556,
              "#d8576b"
             ],
             [
              0.6666666666666666,
              "#ed7953"
             ],
             [
              0.7777777777777778,
              "#fb9f3a"
             ],
             [
              0.8888888888888888,
              "#fdca26"
             ],
             [
              1,
              "#f0f921"
             ]
            ],
            "type": "histogram2d"
           }
          ],
          "histogram2dcontour": [
           {
            "colorbar": {
             "outlinewidth": 0,
             "ticks": ""
            },
            "colorscale": [
             [
              0,
              "#0d0887"
             ],
             [
              0.1111111111111111,
              "#46039f"
             ],
             [
              0.2222222222222222,
              "#7201a8"
             ],
             [
              0.3333333333333333,
              "#9c179e"
             ],
             [
              0.4444444444444444,
              "#bd3786"
             ],
             [
              0.5555555555555556,
              "#d8576b"
             ],
             [
              0.6666666666666666,
              "#ed7953"
             ],
             [
              0.7777777777777778,
              "#fb9f3a"
             ],
             [
              0.8888888888888888,
              "#fdca26"
             ],
             [
              1,
              "#f0f921"
             ]
            ],
            "type": "histogram2dcontour"
           }
          ],
          "mesh3d": [
           {
            "colorbar": {
             "outlinewidth": 0,
             "ticks": ""
            },
            "type": "mesh3d"
           }
          ],
          "parcoords": [
           {
            "line": {
             "colorbar": {
              "outlinewidth": 0,
              "ticks": ""
             }
            },
            "type": "parcoords"
           }
          ],
          "pie": [
           {
            "automargin": true,
            "type": "pie"
           }
          ],
          "scatter": [
           {
            "fillpattern": {
             "fillmode": "overlay",
             "size": 10,
             "solidity": 0.2
            },
            "type": "scatter"
           }
          ],
          "scatter3d": [
           {
            "line": {
             "colorbar": {
              "outlinewidth": 0,
              "ticks": ""
             }
            },
            "marker": {
             "colorbar": {
              "outlinewidth": 0,
              "ticks": ""
             }
            },
            "type": "scatter3d"
           }
          ],
          "scattercarpet": [
           {
            "marker": {
             "colorbar": {
              "outlinewidth": 0,
              "ticks": ""
             }
            },
            "type": "scattercarpet"
           }
          ],
          "scattergeo": [
           {
            "marker": {
             "colorbar": {
              "outlinewidth": 0,
              "ticks": ""
             }
            },
            "type": "scattergeo"
           }
          ],
          "scattergl": [
           {
            "marker": {
             "colorbar": {
              "outlinewidth": 0,
              "ticks": ""
             }
            },
            "type": "scattergl"
           }
          ],
          "scattermapbox": [
           {
            "marker": {
             "colorbar": {
              "outlinewidth": 0,
              "ticks": ""
             }
            },
            "type": "scattermapbox"
           }
          ],
          "scatterpolar": [
           {
            "marker": {
             "colorbar": {
              "outlinewidth": 0,
              "ticks": ""
             }
            },
            "type": "scatterpolar"
           }
          ],
          "scatterpolargl": [
           {
            "marker": {
             "colorbar": {
              "outlinewidth": 0,
              "ticks": ""
             }
            },
            "type": "scatterpolargl"
           }
          ],
          "scatterternary": [
           {
            "marker": {
             "colorbar": {
              "outlinewidth": 0,
              "ticks": ""
             }
            },
            "type": "scatterternary"
           }
          ],
          "surface": [
           {
            "colorbar": {
             "outlinewidth": 0,
             "ticks": ""
            },
            "colorscale": [
             [
              0,
              "#0d0887"
             ],
             [
              0.1111111111111111,
              "#46039f"
             ],
             [
              0.2222222222222222,
              "#7201a8"
             ],
             [
              0.3333333333333333,
              "#9c179e"
             ],
             [
              0.4444444444444444,
              "#bd3786"
             ],
             [
              0.5555555555555556,
              "#d8576b"
             ],
             [
              0.6666666666666666,
              "#ed7953"
             ],
             [
              0.7777777777777778,
              "#fb9f3a"
             ],
             [
              0.8888888888888888,
              "#fdca26"
             ],
             [
              1,
              "#f0f921"
             ]
            ],
            "type": "surface"
           }
          ],
          "table": [
           {
            "cells": {
             "fill": {
              "color": "#EBF0F8"
             },
             "line": {
              "color": "white"
             }
            },
            "header": {
             "fill": {
              "color": "#C8D4E3"
             },
             "line": {
              "color": "white"
             }
            },
            "type": "table"
           }
          ]
         },
         "layout": {
          "annotationdefaults": {
           "arrowcolor": "#2a3f5f",
           "arrowhead": 0,
           "arrowwidth": 1
          },
          "autotypenumbers": "strict",
          "coloraxis": {
           "colorbar": {
            "outlinewidth": 0,
            "ticks": ""
           }
          },
          "colorscale": {
           "diverging": [
            [
             0,
             "#8e0152"
            ],
            [
             0.1,
             "#c51b7d"
            ],
            [
             0.2,
             "#de77ae"
            ],
            [
             0.3,
             "#f1b6da"
            ],
            [
             0.4,
             "#fde0ef"
            ],
            [
             0.5,
             "#f7f7f7"
            ],
            [
             0.6,
             "#e6f5d0"
            ],
            [
             0.7,
             "#b8e186"
            ],
            [
             0.8,
             "#7fbc41"
            ],
            [
             0.9,
             "#4d9221"
            ],
            [
             1,
             "#276419"
            ]
           ],
           "sequential": [
            [
             0,
             "#0d0887"
            ],
            [
             0.1111111111111111,
             "#46039f"
            ],
            [
             0.2222222222222222,
             "#7201a8"
            ],
            [
             0.3333333333333333,
             "#9c179e"
            ],
            [
             0.4444444444444444,
             "#bd3786"
            ],
            [
             0.5555555555555556,
             "#d8576b"
            ],
            [
             0.6666666666666666,
             "#ed7953"
            ],
            [
             0.7777777777777778,
             "#fb9f3a"
            ],
            [
             0.8888888888888888,
             "#fdca26"
            ],
            [
             1,
             "#f0f921"
            ]
           ],
           "sequentialminus": [
            [
             0,
             "#0d0887"
            ],
            [
             0.1111111111111111,
             "#46039f"
            ],
            [
             0.2222222222222222,
             "#7201a8"
            ],
            [
             0.3333333333333333,
             "#9c179e"
            ],
            [
             0.4444444444444444,
             "#bd3786"
            ],
            [
             0.5555555555555556,
             "#d8576b"
            ],
            [
             0.6666666666666666,
             "#ed7953"
            ],
            [
             0.7777777777777778,
             "#fb9f3a"
            ],
            [
             0.8888888888888888,
             "#fdca26"
            ],
            [
             1,
             "#f0f921"
            ]
           ]
          },
          "colorway": [
           "#636efa",
           "#EF553B",
           "#00cc96",
           "#ab63fa",
           "#FFA15A",
           "#19d3f3",
           "#FF6692",
           "#B6E880",
           "#FF97FF",
           "#FECB52"
          ],
          "font": {
           "color": "#2a3f5f"
          },
          "geo": {
           "bgcolor": "white",
           "lakecolor": "white",
           "landcolor": "white",
           "showlakes": true,
           "showland": true,
           "subunitcolor": "#C8D4E3"
          },
          "hoverlabel": {
           "align": "left"
          },
          "hovermode": "closest",
          "mapbox": {
           "style": "light"
          },
          "paper_bgcolor": "white",
          "plot_bgcolor": "white",
          "polar": {
           "angularaxis": {
            "gridcolor": "#EBF0F8",
            "linecolor": "#EBF0F8",
            "ticks": ""
           },
           "bgcolor": "white",
           "radialaxis": {
            "gridcolor": "#EBF0F8",
            "linecolor": "#EBF0F8",
            "ticks": ""
           }
          },
          "scene": {
           "xaxis": {
            "backgroundcolor": "white",
            "gridcolor": "#DFE8F3",
            "gridwidth": 2,
            "linecolor": "#EBF0F8",
            "showbackground": true,
            "ticks": "",
            "zerolinecolor": "#EBF0F8"
           },
           "yaxis": {
            "backgroundcolor": "white",
            "gridcolor": "#DFE8F3",
            "gridwidth": 2,
            "linecolor": "#EBF0F8",
            "showbackground": true,
            "ticks": "",
            "zerolinecolor": "#EBF0F8"
           },
           "zaxis": {
            "backgroundcolor": "white",
            "gridcolor": "#DFE8F3",
            "gridwidth": 2,
            "linecolor": "#EBF0F8",
            "showbackground": true,
            "ticks": "",
            "zerolinecolor": "#EBF0F8"
           }
          },
          "shapedefaults": {
           "line": {
            "color": "#2a3f5f"
           }
          },
          "ternary": {
           "aaxis": {
            "gridcolor": "#DFE8F3",
            "linecolor": "#A2B1C6",
            "ticks": ""
           },
           "baxis": {
            "gridcolor": "#DFE8F3",
            "linecolor": "#A2B1C6",
            "ticks": ""
           },
           "bgcolor": "white",
           "caxis": {
            "gridcolor": "#DFE8F3",
            "linecolor": "#A2B1C6",
            "ticks": ""
           }
          },
          "title": {
           "x": 0.05
          },
          "xaxis": {
           "automargin": true,
           "gridcolor": "#EBF0F8",
           "linecolor": "#EBF0F8",
           "ticks": "",
           "title": {
            "standoff": 15
           },
           "zerolinecolor": "#EBF0F8",
           "zerolinewidth": 2
          },
          "yaxis": {
           "automargin": true,
           "gridcolor": "#EBF0F8",
           "linecolor": "#EBF0F8",
           "ticks": "",
           "title": {
            "standoff": 15
           },
           "zerolinecolor": "#EBF0F8",
           "zerolinewidth": 2
          }
         }
        },
        "width": 1800,
        "xaxis": {
         "anchor": "y",
         "domain": [
          0,
          0.475
         ],
         "matches": "x3",
         "showticklabels": false
        },
        "xaxis2": {
         "anchor": "y2",
         "domain": [
          0.505,
          0.98
         ],
         "matches": "x4",
         "showticklabels": false
        },
        "xaxis3": {
         "anchor": "y3",
         "domain": [
          0,
          0.475
         ],
         "title": {
          "text": "<b>Imbalance ratio</b>"
         }
        },
        "xaxis4": {
         "anchor": "y4",
         "domain": [
          0.505,
          0.98
         ]
        },
        "yaxis": {
         "anchor": "x",
         "domain": [
          0.515,
          1
         ],
         "range": [
          0,
          0.3
         ]
        },
        "yaxis2": {
         "anchor": "x2",
         "domain": [
          0.515,
          1
         ],
         "range": [
          -0.02,
          0.48
         ]
        },
        "yaxis3": {
         "anchor": "x3",
         "domain": [
          0,
          0.485
         ],
         "range": [
          0,
          0.3
         ]
        },
        "yaxis4": {
         "anchor": "x4",
         "domain": [
          0,
          0.485
         ],
         "range": [
          -0.02,
          0.48
         ]
        }
       }
      }
     },
     "metadata": {},
     "output_type": "display_data"
    }
   ],
   "source": [
    "# define y axis ranges for subplots\n",
    "sub_y_ranges = {0: [0, 0.3], 1: [-0.02, 0.48], 2: [0, 0.3], 3: [-0.02, 0.48]}\n",
    "# create Figure 10 from the paper\n",
    "fig = multiplot(rows=2, cols=2, row_titles=[\"w/o re-calibration\", \"with re-calibration\"],\n",
    "                y_title=\"Absolute difference to metric score on D<sub>dev</sub> set\",\n",
    "                subplts=subplts, horizontal_spacing=0.03, vertical_spacing=0.03, legend_index=1,\n",
    "                sub_x_axis_titles={2: \"Imbalance ratio\"}, sub_y_ranges=sub_y_ranges, height=800, shared_yaxes=False,\n",
    "                little_guys=True, icon_axes=[3], icon_size=0.08, ir_axes=[2, 4], ir_values=[10, 10])\n",
    "fig"
   ]
  },
  {
   "cell_type": "code",
   "execution_count": 6,
   "metadata": {
    "ExecuteTime": {
     "end_time": "2024-08-21T13:55:05.516492Z",
     "start_time": "2024-08-21T13:55:05.230649Z"
    }
   },
   "outputs": [],
   "source": [
    "# save figures\n",
    "fig.write_image(RESULT_PATH / f\"24_fig_9.png\")\n",
    "fig.write_image(RESULT_PATH / f\"24_fig_9.pdf\")\n",
    "fig.write_html(RESULT_PATH / f\"24_fig_9.html\")"
   ]
  },
  {
   "cell_type": "code",
   "execution_count": null,
   "metadata": {},
   "outputs": [],
   "source": []
  }
 ],
 "metadata": {
  "kernelspec": {
   "display_name": "Python 3.10.11 ('prev_reproduce')",
   "language": "python",
   "name": "python3"
  },
  "language_info": {
   "codemirror_mode": {
    "name": "ipython",
    "version": 3
   },
   "file_extension": ".py",
   "mimetype": "text/x-python",
   "name": "python",
   "nbconvert_exporter": "python",
   "pygments_lexer": "ipython3",
   "version": "3.10.11"
  },
  "orig_nbformat": 4,
  "vscode": {
   "interpreter": {
    "hash": "82330981448b64ee27c7af5d3e2318137d4b014146dffcbcd9c3283996ce6bcb"
   }
  }
 },
 "nbformat": 4,
 "nbformat_minor": 2
}
