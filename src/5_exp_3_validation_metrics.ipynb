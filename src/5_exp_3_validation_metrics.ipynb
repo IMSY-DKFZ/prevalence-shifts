{
 "cells": [
  {
   "cell_type": "code",
   "execution_count": 19,
   "metadata": {},
   "outputs": [
    {
     "data": {
      "text/plain": [
       "<torch._C.Generator at 0x7f01c9304d90>"
      ]
     },
     "execution_count": 19,
     "metadata": {},
     "output_type": "execute_result"
    }
   ],
   "source": [
    "import sys\n",
    "import os\n",
    "sys.path.insert(0, os.path.abspath('..'))\n",
    "from pathlib import Path\n",
    "from progiter import ProgIter\n",
    "from IPython import display\n",
    "\n",
    "import torch\n",
    "import pandas as pd\n",
    "import numpy as np\n",
    "\n",
    "\n",
    "from src.prev.data_loading import get_values, Kind, Split\n",
    "from src.prev.calibration import calibrate_logits_fast, missmatch_priors\n",
    "from src.prev.scaling import  scale_prevalences_ir\n",
    "from src.prev.plotting import plot_aggregate_results, Confidence, box_plot, multiplot\n",
    "from src.prev.utils import Metric, compute_all_metrics, last_value_df\n",
    "from src.prev.calibration import CalibrationMethod\n",
    "\n",
    "current_path = os.getcwd()\n",
    "DATA_PATH = Path(current_path).parent/ 'data'\n",
    "RESULT_PATH = Path(current_path).parent/ 'results'\n",
    "assert DATA_PATH.exists() and RESULT_PATH.exists()\n",
    "torch.manual_seed(seed=0)"
   ]
  },
  {
   "cell_type": "code",
   "execution_count": 2,
   "metadata": {},
   "outputs": [
    {
     "name": "stdout",
     "output_type": "stream",
     "text": [
      "Loading data 100.00% 30/30... rate=4.26 Hz, eta=0:00:00, total=0:00:07\n"
     ]
    }
   ],
   "source": [
    "all_tasks = ['lapgyn4_surgical_actions', 'lapgyn4_instrument_count', 'lapgyn4_anatomical_actions', 'nerthus_bowel_cleansing_quality', 'hyperkvasir_therapeutic-interventions', 'cholec80_grasper_presence', 'cholec80_hook_presence', 'idle_action_recognition', 'brain_tumor_classification', 'brain_tumor_type_classification', 'chexpert_enlarged_cardiomediastinum', 'chexpert_cardiomegaly', 'chexpert_edema', 'chexpert_consolidation', 'chexpert_pneumonia', 'chexpert_pneumothorax', 'chexpert_pleural_effusion', 'chexpert_fracture', 'pneumonia_classification', 'covid_xray_classification', 'deep_drid_dr_level', 'deep_drid_quality', 'kvasir_capsule_anatomy', 'mura_xr_wrist', 'mura_xr_shoulder', 'mura_xr_humerus', 'mura_xr_hand', 'mura_xr_forearm', 'mura_xr_finger', 'mura_xr_elbow']\n",
    "binary_tasks = ['hyperkvasir_therapeutic-interventions', 'cholec80_grasper_presence', 'cholec80_hook_presence', 'idle_action_recognition', 'brain_tumor_classification', 'chexpert_enlarged_cardiomediastinum', 'chexpert_cardiomegaly', 'chexpert_edema', 'chexpert_consolidation', 'chexpert_pneumonia', 'chexpert_pneumothorax', 'chexpert_pleural_effusion', 'chexpert_fracture', 'pneumonia_classification', 'covid_xray_classification', 'deep_drid_quality', 'kvasir_capsule_anatomy', 'mura_xr_wrist', 'mura_xr_shoulder', 'mura_xr_humerus', 'mura_xr_hand', 'mura_xr_forearm', 'mura_xr_finger', 'mura_xr_elbow']\n",
    "data = {}\n",
    "for t in ProgIter(all_tasks, desc='Loading data'):\n",
    "    data[t] = get_values(t, DATA_PATH, proj='mic23_predictions_original_0')  # original paper predictions\n",
    "    # data[t] = get_values(t, DATA_PATH, proj='mic23_predictions_reproduce_0')  # additional seed experiment"
   ]
  },
  {
   "cell_type": "code",
   "execution_count": 3,
   "metadata": {},
   "outputs": [],
   "source": [
    "def metrics_across_ir(task_data, step=0.5, calibration: CalibrationMethod = CalibrationMethod.NONE, std=None):\n",
    "    \"\"\" \n",
    "    Computes metrics values accross imbalance ratios for a given task.\n",
    "\n",
    "    :param task_data:\n",
    "    :param step: step size for varying the imbalance ratio\n",
    "    :param calibration:\n",
    "    :param std: used for estimating prevalence for scaling and metric computation, defaults to 2 None\n",
    "\n",
    "    \"\"\"\n",
    "    # initialize results dictionary\n",
    "    results ={m: [] for m in Metric}\n",
    "    results.update(zip([\"reference \"+m.value for m in Metric], [[] for m in Metric]))\n",
    "    # define the imbalance ratio range\n",
    "    ir_range = np.arange(1, 10+step, step)\n",
    "    #iterate over the imbalance ratio range\n",
    "    for ir in ir_range:\n",
    "        # scale prevalences in the deployment set according to imbalance ratio\n",
    "        app_test_logits, app_test_classes = scale_prevalences_ir(logits=task_data[Kind.LOGITS][Split.APP_TEST],\n",
    "                                                                         classes=task_data[Kind.LABELS][Split.APP_TEST],\n",
    "                                                                         ir=ir)\n",
    "        # create a data dictionary with the modified deployment test set\n",
    "        mod_data = {Kind.LOGITS: {Split.DEV_CAL: task_data[Kind.LOGITS][Split.DEV_CAL],\n",
    "                                      Split.DEV_TEST: task_data[Kind.LOGITS][Split.DEV_TEST],\n",
    "                                      Split.APP_TEST: app_test_logits},\n",
    "                        Kind.LABELS: {Split.DEV_CAL: task_data[Kind.LABELS][Split.DEV_CAL],\n",
    "                                      Split.DEV_TEST: task_data[Kind.LABELS][Split.DEV_TEST],\n",
    "                                      Split.APP_TEST: app_test_classes}}\n",
    "        if calibration==CalibrationMethod.AFFINE_REWEIGHTED:\n",
    "            # define exact prior to use if calibrating using real priors\n",
    "            prior = torch.bincount(mod_data[Kind.LABELS][Split.APP_TEST]) / len(mod_data[Kind.LABELS][Split.APP_TEST])\n",
    "        else:\n",
    "            prior = None\n",
    "        if calibration==CalibrationMethod.AFFINE_ESTIMATED:\n",
    "            # calibrate logits using estimated prevalences\n",
    "            estimated_prevalence, calibrated_logits = calibrate_logits_fast(data = mod_data,\n",
    "                                                                       calibration=calibration, \n",
    "                                                                       prior = prior, \n",
    "                                                                       return_estimate=True, std=std)\n",
    "        else:\n",
    "            # calibrate logits and get estimated prevalence\n",
    "            calibrated_logits = calibrate_logits_fast(data = mod_data, calibration=calibration, prior = prior,\n",
    "                                                 return_estimate=False)\n",
    "            real_prior = torch.bincount(mod_data[Kind.LABELS][Split.APP_TEST]) / mod_data[Kind.LABELS][Split.APP_TEST].size(0)\n",
    "            estimated_prevalence = missmatch_priors(priors=real_prior, std=std)\n",
    "\n",
    "        # compute number of samples in each class of the dev cal set\n",
    "        val_prevalences = torch.bincount(mod_data[Kind.LABELS][Split.DEV_CAL])\n",
    "        # define minimal and maximal class in the dev cal set\n",
    "        min_class = torch.argmin(val_prevalences)\n",
    "        max_class = torch.argmax(val_prevalences)\n",
    "        # catches case where for balanced task, min class was used as max class in scaling\n",
    "        if min_class==max_class:\n",
    "            min_class=1\n",
    "        # compute predictions on scaled deployment set and development test set according to argmax decision rule\n",
    "        new_app_test_preds = torch.argmax(calibrated_logits[Split.APP_TEST], dim=1)\n",
    "        dev_test_preds = torch.argmax(calibrated_logits[Split.DEV_TEST], dim=1)\n",
    "\n",
    "        #compute the exact prevalence in the scaled deployment set\n",
    "        exact_prevalence = torch.bincount(mod_data[Kind.LABELS][Split.APP_TEST])/len(mod_data[Kind.LABELS][Split.APP_TEST])\n",
    "\n",
    "        #compute the metrics on the deployment and development sets\n",
    "        dep_metrics = compute_all_metrics(mod_data[Kind.LABELS][Split.APP_TEST], calibrated_logits[Split.APP_TEST], new_app_test_preds,\n",
    "                                          min_class=min_class, exact_priors=exact_prevalence, estimated_priors=exact_prevalence)\n",
    "        dev_metrics = compute_all_metrics(mod_data[Kind.LABELS][Split.DEV_TEST], calibrated_logits[Split.DEV_TEST], dev_test_preds,\n",
    "                                          min_class=min_class, exact_priors=exact_prevalence, estimated_priors=estimated_prevalence)\n",
    "        # append metrics to the results dictionary\n",
    "        for k in dep_metrics.keys():\n",
    "            results[k].append(dep_metrics[k])\n",
    "        for k in dev_metrics.keys():\n",
    "            results['reference '+k.value].append(dev_metrics[k])\n",
    "    return results\n"
   ]
  },
  {
   "cell_type": "code",
   "execution_count": 4,
   "metadata": {},
   "outputs": [
    {
     "name": "stdout",
     "output_type": "stream",
     "text": [
      " 0.00%  0/30... rate=0 Hz, eta=?, total=0:00:00"
     ]
    },
    {
     "name": "stdout",
     "output_type": "stream",
     "text": [
      " 100.00% 30/30... rate=2.38 Hz, eta=0:00:00, total=0:00:12\n",
      " 100.00% 30/30... rate=2.38 Hz, eta=0:00:00, total=0:00:12\n",
      " 100.00% 30/30... rate=2.35 Hz, eta=0:00:00, total=0:00:12\n",
      " 100.00% 30/30... rate=1.83 Hz, eta=0:00:00, total=0:00:16\n",
      " 100.00% 30/30... rate=1.85 Hz, eta=0:00:00, total=0:00:16\n",
      " 100.00% 30/30... rate=1.86 Hz, eta=0:00:00, total=0:00:16\n",
      " 100.00% 30/30... rate=1.95 Hz, eta=0:00:00, total=0:00:15\n",
      " 100.00% 30/30... rate=1.90 Hz, eta=0:00:00, total=0:00:15\n",
      " 100.00% 30/30... rate=1.90 Hz, eta=0:00:00, total=0:00:15\n"
     ]
    }
   ],
   "source": [
    "# compute metrics at different IRs for different calibration methods and estimated priors\n",
    "# iterate over calibration methods\n",
    "for cal in [CalibrationMethod.NONE, CalibrationMethod.AFFINE_REWEIGHTED, CalibrationMethod.AFFINE_ESTIMATED]:\n",
    "    # iterate over stds for non-exact priors\n",
    "    for std in [0.05, 0.075, 0.1]:\n",
    "        # iterate over tasks\n",
    "        for t in ProgIter(all_tasks):\n",
    "            # compute metrics for the task at different imbalance ratios\n",
    "            data[t].update(metrics_across_ir(task_data=data[t],\n",
    "                                calibration=cal, std=std))\n",
    "        # save results to a dataframe\n",
    "        result_df = pd.DataFrame(all_tasks, columns=[\"name\"])\n",
    "        for key in data[all_tasks[0]].keys():\n",
    "            if key not in [\"name\", Kind.LABELS, Kind.LOGITS]:\n",
    "                result_df[key] = [torch.tensor(data[t][key]) for t in all_tasks]\n",
    "            else:\n",
    "                result_df[key] = [data[t][key] for t in all_tasks]\n",
    "        result_df.to_pickle(RESULT_PATH / (\"exp_3_results_\"+cal.value+f\"_std_{std}.pkl\"))"
   ]
  },
  {
   "cell_type": "markdown",
   "metadata": {},
   "source": [
    "## Generating Figure 5"
   ]
  },
  {
   "cell_type": "code",
   "execution_count": 5,
   "metadata": {},
   "outputs": [],
   "source": [
    "#initialize the list of subplots\n",
    "subplts = []\n",
    "\n",
    "# iterate over calibration methods\n",
    "for cal in [CalibrationMethod.NONE, CalibrationMethod.AFFINE_REWEIGHTED]:#, CalibrationMethod.AFFINE_ESTIMATED]):\n",
    "    # define relevant metrics based on the calibration method used\n",
    "    if (cal == CalibrationMethod.NONE)|(cal==CalibrationMethod.AFFINE_REWEIGHTED):\n",
    "        metrics = [Metric.ACCURACY, Metric.F1, Metric.MCC, Metric.EC_ADJUSTED]\n",
    "    elif cal==CalibrationMethod.AFFINE_ESTIMATED:\n",
    "        metrics = [Metric.ACCURACY, Metric.F1, Metric.MCC, Metric.EC_EST]\n",
    "    else:\n",
    "        raise ValueError(f'{cal=}')\n",
    "\n",
    "    # load relevant results file ommiting the small task\n",
    "    name = \"exp_3_results_\"+cal.value+\"_std_0.05.pkl\"    \n",
    "    result_df = pd.read_pickle(RESULT_PATH / name)\n",
    "    \n",
    "    #compute value of metrics at imbalance ratio 10\n",
    "    ir_10_metrics = last_value_df(result_df, metrics=metrics)\n",
    "    # create subplot\n",
    "    subplt = plot_aggregate_results(result_df, metrics=metrics, file=RESULT_PATH / f\"{cal.value}.svg\",\n",
    "                                    delta=False, ci=Confidence.STD, y_axis_title=\"Absolute difference to metric score on $D_{app}$ set\", title= None, opacity=0.15, line_width=4, bound=[0, 0.3])\n",
    "    # append subplot to subplots list\n",
    "    subplts.append(subplt)\n",
    "    # create sub box plot\n",
    "    subplt = box_plot(ir_10_metrics, metrics)\n",
    "    # save box plot\n",
    "    subplt.write_image(RESULT_PATH / f\"{cal.value}_box.svg\")\n",
    "    # append sub box plot to subplots list\n",
    "    subplts.append(subplt)\n"
   ]
  },
  {
   "cell_type": "code",
   "execution_count": 6,
   "metadata": {},
   "outputs": [
    {
     "data": {
      "application/vnd.plotly.v1+json": {
       "config": {
        "plotlyServerURL": "https://plot.ly"
       },
       "data": [
        {
         "fill": "toself",
         "fillcolor": "rgba(67, 99, 216, 0.15)",
         "line": {
          "color": "rgba(255,255,255,0)"
         },
         "mode": "lines",
         "name": "Accuracy",
         "showlegend": false,
         "type": "scatter",
         "x": [
          1,
          1.5,
          2,
          2.5,
          3,
          3.5,
          4,
          4.5,
          5,
          5.5,
          6,
          6.5,
          7,
          7.5,
          8,
          8.5,
          9,
          9.5,
          10,
          10,
          9.5,
          9,
          8.5,
          8,
          7.5,
          7,
          6.5,
          6,
          5.5,
          5,
          4.5,
          4,
          3.5,
          3,
          2.5,
          2,
          1.5,
          1
         ],
         "xaxis": "x",
         "y": [
          0.03136031702160835,
          0.03226547688245773,
          0.04465501382946968,
          0.052958570420742035,
          0.06104043871164322,
          0.06936642527580261,
          0.07171725481748581,
          0.07710079848766327,
          0.08207845687866211,
          0.08260950446128845,
          0.08702827990055084,
          0.08492335677146912,
          0.09154881536960602,
          0.0904553234577179,
          0.09307606518268585,
          0.09208397567272186,
          0.09329046308994293,
          0.09564287960529327,
          0.09710031747817993,
          0.0011441521346569061,
          -0.0014176256954669952,
          -0.00001266971230506897,
          0.00018190965056419373,
          -0.0008254945278167725,
          0.0007250197231769562,
          0.0004429146647453308,
          -0.00014709308743476868,
          0.0005059726536273956,
          0.001817513257265091,
          0.0001928769052028656,
          -0.0002934560179710388,
          -0.0003103911876678467,
          -0.000967804342508316,
          -0.001252802088856697,
          -0.00023073144257068634,
          -0.0006235390901565552,
          0.0002866629511117935,
          -0.006155482493340969
         ],
         "yaxis": "y"
        },
        {
         "line": {
          "color": "rgb(67, 99, 216)",
          "width": 4
         },
         "mode": "lines",
         "name": "Accuracy",
         "showlegend": false,
         "type": "scatter",
         "x": [
          1,
          1.5,
          2,
          2.5,
          3,
          3.5,
          4,
          4.5,
          5,
          5.5,
          6,
          6.5,
          7,
          7.5,
          8,
          8.5,
          9,
          9.5,
          10
         ],
         "xaxis": "x",
         "y": [
          0.012602417729794979,
          0.016276070848107338,
          0.022015737369656563,
          0.02636392042040825,
          0.029893817380070686,
          0.034199308604002,
          0.03570343181490898,
          0.038403671234846115,
          0.04113566875457764,
          0.04221351072192192,
          0.04376712813973427,
          0.042388129979372025,
          0.045995865017175674,
          0.045590173453092575,
          0.04612528532743454,
          0.04613294079899788,
          0.04663889855146408,
          0.04711262509226799,
          0.04912223666906357
         ],
         "yaxis": "y"
        },
        {
         "fill": "toself",
         "fillcolor": "rgba(245, 130, 49, 0.15)",
         "line": {
          "color": "rgba(255,255,255,0)"
         },
         "mode": "lines",
         "name": "F1 Score",
         "showlegend": false,
         "type": "scatter",
         "x": [
          1,
          1.5,
          2,
          2.5,
          3,
          3.5,
          4,
          4.5,
          5,
          5.5,
          6,
          6.5,
          7,
          7.5,
          8,
          8.5,
          9,
          9.5,
          10,
          10,
          9.5,
          9,
          8.5,
          8,
          7.5,
          7,
          6.5,
          6,
          5.5,
          5,
          4.5,
          4,
          3.5,
          3,
          2.5,
          2,
          1.5,
          1
         ],
         "xaxis": "x",
         "y": [
          0.06307477057658853,
          0.05168656793764862,
          0.07387354698015183,
          0.08900302912052749,
          0.11586490801418639,
          0.14368457205085267,
          0.16029675646237082,
          0.17885055564800934,
          0.18328845388408965,
          0.2101315190512486,
          0.22722498382975342,
          0.24267238945751185,
          0.24984972455733678,
          0.27396791737439175,
          0.283277372207646,
          0.29726877989622863,
          0.30870212783140993,
          0.3202218896977219,
          0.329302495514301,
          0.07618346111889387,
          0.07458763933527894,
          0.06913822494508892,
          0.06192067073571543,
          0.05833062483147178,
          0.05649329630050988,
          0.05061754504302189,
          0.04743287413427828,
          0.04066372817515401,
          0.03972806304625148,
          0.0369213904107933,
          0.027267975830709598,
          0.02315379989193936,
          0.018098067449462324,
          0.01555381153378068,
          0.014379555671733858,
          0.0031690595083172443,
          -0.0025613921228834213,
          -0.021728413366472212
         ],
         "yaxis": "y"
        },
        {
         "line": {
          "color": "rgb(245, 130, 49)",
          "width": 4
         },
         "mode": "lines",
         "name": "F1 Score",
         "showlegend": false,
         "type": "scatter",
         "x": [
          1,
          1.5,
          2,
          2.5,
          3,
          3.5,
          4,
          4.5,
          5,
          5.5,
          6,
          6.5,
          7,
          7.5,
          8,
          8.5,
          9,
          9.5,
          10
         ],
         "xaxis": "x",
         "y": [
          0.02067317860505816,
          0.0245625879073826,
          0.038521303244234535,
          0.05169129239613067,
          0.06570935977398354,
          0.0808913197501575,
          0.09172527817715509,
          0.10305926573935946,
          0.11010492214744148,
          0.12492979104875004,
          0.13394435600245372,
          0.14505263179589506,
          0.15023363480017934,
          0.1652306068374508,
          0.17080399851955888,
          0.17959472531597204,
          0.18892017638824943,
          0.19740476451650044,
          0.20274297831659746
         ],
         "yaxis": "y"
        },
        {
         "fill": "toself",
         "fillcolor": "rgba(230, 25, 75, 0.15)",
         "line": {
          "color": "rgba(255,255,255,0)"
         },
         "mode": "lines",
         "name": "MCC",
         "showlegend": false,
         "type": "scatter",
         "x": [
          1,
          1.5,
          2,
          2.5,
          3,
          3.5,
          4,
          4.5,
          5,
          5.5,
          6,
          6.5,
          7,
          7.5,
          8,
          8.5,
          9,
          9.5,
          10,
          10,
          9.5,
          9,
          8.5,
          8,
          7.5,
          7,
          6.5,
          6,
          5.5,
          5,
          4.5,
          4,
          3.5,
          3,
          2.5,
          2,
          1.5,
          1
         ],
         "xaxis": "x",
         "y": [
          0.04892740845489959,
          0.03833471726340196,
          0.0457039546739189,
          0.03810543066737338,
          0.05693852798873361,
          0.07569691050101418,
          0.07798650795449796,
          0.08914537346487572,
          0.08206629596026652,
          0.10242072850138983,
          0.11260411094173248,
          0.12114535854018507,
          0.12261562490525524,
          0.14132203941590532,
          0.14846496840418702,
          0.1543460717529334,
          0.15876984248396223,
          0.17441494856767442,
          0.17883216307204822,
          0.04084117887839597,
          0.03935280354765751,
          0.03965723607913507,
          0.036548904375494115,
          0.026588550747973144,
          0.03001541732175618,
          0.025766494157931162,
          0.018849322337611635,
          0.02006289050034374,
          0.014969154441400165,
          0.014228447326115341,
          0.004984753630601545,
          0.004117890091876623,
          0.0019058879719351315,
          0.0007687836821119141,
          0.0023423142090885155,
          -0.002742187160298705,
          -0.0011388606263049127,
          -0.006021702937600321
         ],
         "yaxis": "y"
        },
        {
         "line": {
          "color": "rgb(230, 25, 75)",
          "width": 4
         },
         "mode": "lines",
         "name": "MCC",
         "showlegend": false,
         "type": "scatter",
         "x": [
          1,
          1.5,
          2,
          2.5,
          3,
          3.5,
          4,
          4.5,
          5,
          5.5,
          6,
          6.5,
          7,
          7.5,
          8,
          8.5,
          9,
          9.5,
          10
         ],
         "xaxis": "x",
         "y": [
          0.021452852758649634,
          0.01859792831854852,
          0.021480883756810096,
          0.02022387243823095,
          0.028853655835422765,
          0.03880139923647466,
          0.04105219902318729,
          0.04706506354773863,
          0.04814737164319093,
          0.058694941471395,
          0.06633350072103811,
          0.06999734043889835,
          0.0741910595315932,
          0.08566872836883076,
          0.08752675957608008,
          0.09544748806421376,
          0.09921353928154865,
          0.10688387605766597,
          0.1098366709752221
         ],
         "yaxis": "y"
        },
        {
         "fill": "toself",
         "fillcolor": "rgba(60, 180, 75, 0.15)",
         "line": {
          "color": "rgba(255,255,255,0)"
         },
         "mode": "lines",
         "name": "EC (dep. prev.)",
         "showlegend": false,
         "type": "scatter",
         "x": [
          1,
          1.5,
          2,
          2.5,
          3,
          3.5,
          4,
          4.5,
          5,
          5.5,
          6,
          6.5,
          7,
          7.5,
          8,
          8.5,
          9,
          9.5,
          10,
          10,
          9.5,
          9,
          8.5,
          8,
          7.5,
          7,
          6.5,
          6,
          5.5,
          5,
          4.5,
          4,
          3.5,
          3,
          2.5,
          2,
          1.5,
          1
         ],
         "xaxis": "x",
         "y": [
          0.03136031682504563,
          0.018666800357122097,
          0.018849241104441233,
          0.015493677666979105,
          0.01924741127726111,
          0.02273151326172075,
          0.02010142294587064,
          0.02118402939615128,
          0.020014405458710756,
          0.02088318730553328,
          0.022398076950830875,
          0.021977245233569243,
          0.022511070195668906,
          0.022814841898303843,
          0.02052780777589544,
          0.02200231789971278,
          0.02116977417407015,
          0.023595780536385558,
          0.023457869006584003,
          -0.0027774739571941546,
          -0.0027991748848303043,
          -0.0027719210973017588,
          -0.0023862689536134525,
          -0.0014412661626135633,
          -0.0029679600509785985,
          -0.0013806122267771542,
          -0.0016575546645534456,
          -0.0027915494342630708,
          -0.0026442116647696703,
          -0.001237351253334391,
          -0.0010739296244465964,
          -0.001567976500381837,
          -0.0024997286367391108,
          -0.0021908607085648953,
          -0.0014632304993335322,
          -0.0018342308933633929,
          -0.0014226138326517458,
          -0.006155481891869527
         ],
         "yaxis": "y"
        },
        {
         "line": {
          "color": "rgb(60, 180, 75)",
          "width": 4
         },
         "mode": "lines",
         "name": "EC (dep. prev.)",
         "showlegend": false,
         "type": "scatter",
         "x": [
          1,
          1.5,
          2,
          2.5,
          3,
          3.5,
          4,
          4.5,
          5,
          5.5,
          6,
          6.5,
          7,
          7.5,
          8,
          8.5,
          9,
          9.5,
          10
         ],
         "xaxis": "x",
         "y": [
          0.01260241746658805,
          0.008622093262235175,
          0.00850750510553892,
          0.007015223583822786,
          0.008528275284348108,
          0.01011589231249082,
          0.0092667232227444,
          0.010055049885852341,
          0.009388527102688182,
          0.009119487820381805,
          0.009803263758283902,
          0.010159845284507899,
          0.010565228984445877,
          0.009923440923662622,
          0.00954327080664094,
          0.009808024473049664,
          0.009198926538384196,
          0.010398302825777627,
          0.010340197524694924
         ],
         "yaxis": "y"
        },
        {
         "boxpoints": "all",
         "jitter": 0.5,
         "marker": {
          "color": "rgb(67, 99, 216)"
         },
         "name": "Accuracy",
         "type": "box",
         "whiskerwidth": 0.2,
         "xaxis": "x2",
         "y": [
          0.021303535,
          0.02491647,
          0.036691666,
          0.0014084578,
          0.017363966,
          0.004617572,
          0.0013633966,
          0.004882157,
          0.000395298,
          0.017263293,
          0.15152848,
          0.039723992,
          0.057596564,
          0.071315765,
          0.15597528,
          0.09106058,
          0.06806594,
          0.17748684,
          0.0018796325,
          0.009463847,
          0.08822945,
          0.06634301,
          0.0017396808,
          0.028636992,
          0.014011562,
          0.030286849,
          0.097738385,
          0.083592,
          0.056226432,
          0.052559912
         ],
         "yaxis": "y2"
        },
        {
         "boxpoints": "all",
         "jitter": 0.5,
         "marker": {
          "color": "rgb(245, 130, 49)"
         },
         "name": "F1 Score",
         "type": "box",
         "whiskerwidth": 0.2,
         "xaxis": "x2",
         "y": [
          0.03824923696343907,
          0.0138191055982686,
          0.14385614385614398,
          0,
          0.1850147040020459,
          0.1963232366077381,
          0.04763053733261624,
          0.0491366227800335,
          0.1135238095238097,
          0.20053072055521537,
          0.23983570491909872,
          0.29837241074248766,
          0.29688058241255194,
          0.19079176666295583,
          0.24301147121060246,
          0.3141927537578892,
          0.14978828500278896,
          0.23651672433679366,
          0.10248677942397633,
          0.034216589861751134,
          0.14396014943960156,
          0.362962962962963,
          0.017697783673999767,
          0.3230462497542893,
          0.40539138296143074,
          0.46233766233766227,
          0.28580954497824923,
          0.3163170163170162,
          0.33849858908241703,
          0.3320908224400872
         ],
         "yaxis": "y2"
        },
        {
         "boxpoints": "all",
         "jitter": 0.5,
         "marker": {
          "color": "rgb(230, 25, 75)"
         },
         "name": "MCC",
         "type": "box",
         "whiskerwidth": 0.2,
         "xaxis": "x2",
         "y": [
          0.01731245133052517,
          0.11439862610714469,
          0.1245229738691801,
          0.0024478158415056628,
          0.11065320910401888,
          0.15380025380773132,
          0.039382926586674416,
          0.04803565986762459,
          0.09499123230169493,
          0.08698472320133965,
          0.10617399391045607,
          0.17379155773579502,
          0.1669691070365627,
          0.09467309012868164,
          0.0253899303379736,
          0.1257648364331892,
          0.07380384453300781,
          0.07671274049649829,
          0.08910515951603126,
          0.01947765095624321,
          0.03934141676182884,
          0.14733241480121007,
          0.017791226120501324,
          0.15979042386283432,
          0.20473863904299194,
          0.31945128306452064,
          0.14381195724213391,
          0.16463159148620926,
          0.1485590414381171,
          0.20526035233443712
         ],
         "yaxis": "y2"
        },
        {
         "boxpoints": "all",
         "jitter": 0.5,
         "marker": {
          "color": "rgb(60, 180, 75)"
         },
         "name": "EC",
         "type": "box",
         "whiskerwidth": 0.2,
         "xaxis": "x2",
         "y": [
          0.00017771830234360186,
          0.001389908485999805,
          0.05369930497223166,
          0.001408450693434514,
          0.01736397178459638,
          0.003343266710496451,
          0.0009083082376026268,
          0.002154882219102646,
          0.00178072523805025,
          0.0005036878025099847,
          0.0021166695656675283,
          0.00043838667951701105,
          0.005209533380003545,
          0.006248951131578806,
          0.02230775307132027,
          0.010941813993132793,
          0.0015867799493355303,
          0.002611103196231118,
          0.0018796177770677887,
          0.01478654922559219,
          0.008778436214051777,
          0.01618123013112277,
          0.003175303720161224,
          0.013500973587205978,
          0.02870125029520601,
          0.036799771880672905,
          0.038154705540915934,
          0.006822693841830874,
          0.004878772586551117,
          0.0023554055273146413
         ],
         "yaxis": "y2"
        },
        {
         "fill": "toself",
         "fillcolor": "rgba(67, 99, 216, 0.15)",
         "line": {
          "color": "rgba(255,255,255,0)"
         },
         "mode": "lines",
         "name": "Accuracy",
         "showlegend": false,
         "type": "scatter",
         "x": [
          1,
          1.5,
          2,
          2.5,
          3,
          3.5,
          4,
          4.5,
          5,
          5.5,
          6,
          6.5,
          7,
          7.5,
          8,
          8.5,
          9,
          9.5,
          10,
          10,
          9.5,
          9,
          8.5,
          8,
          7.5,
          7,
          6.5,
          6,
          5.5,
          5,
          4.5,
          4,
          3.5,
          3,
          2.5,
          2,
          1.5,
          1
         ],
         "xaxis": "x3",
         "y": [
          0.025974247604608536,
          0.03254829719662666,
          0.06023416668176651,
          0.09627052396535873,
          0.12903861701488495,
          0.15664538741111755,
          0.1778867393732071,
          0.1975463628768921,
          0.21418476104736328,
          0.2266518771648407,
          0.24095045030117035,
          0.2530268430709839,
          0.26452401280403137,
          0.2730897068977356,
          0.2817533016204834,
          0.2892605662345886,
          0.2980762720108032,
          0.3047550320625305,
          0.3114987015724182,
          0.030895665287971497,
          0.02786312997341156,
          0.02746199071407318,
          0.025686219334602356,
          0.024986833333969116,
          0.021352261304855347,
          0.018082179129123688,
          0.014277637004852295,
          0.013350829482078552,
          0.010796591639518738,
          0.008511699736118317,
          0.006154745817184448,
          0.003188997507095337,
          0.0011128708720207214,
          0.002233460545539856,
          0.0027243271470069885,
          0.0026775747537612915,
          -0.0013685515150427818,
          -0.0040720440447330475
         ],
         "yaxis": "y3"
        },
        {
         "line": {
          "color": "rgb(67, 99, 216)",
          "width": 4
         },
         "mode": "lines",
         "name": "Accuracy",
         "showlegend": false,
         "type": "scatter",
         "x": [
          1,
          1.5,
          2,
          2.5,
          3,
          3.5,
          4,
          4.5,
          5,
          5.5,
          6,
          6.5,
          7,
          7.5,
          8,
          8.5,
          9,
          9.5,
          10
         ],
         "xaxis": "x3",
         "y": [
          0.010951101779937744,
          0.015589873306453228,
          0.0314558707177639,
          0.04949742555618286,
          0.0656360387802124,
          0.07887913286685944,
          0.09053786844015121,
          0.10185055434703827,
          0.1113482341170311,
          0.11872423440217972,
          0.12715063989162445,
          0.1336522400379181,
          0.14130309224128723,
          0.14722098410129547,
          0.15337006747722626,
          0.1574734002351761,
          0.1627691239118576,
          0.16630907356739044,
          0.17119719088077545
         ],
         "yaxis": "y3"
        },
        {
         "fill": "toself",
         "fillcolor": "rgba(245, 130, 49, 0.15)",
         "line": {
          "color": "rgba(255,255,255,0)"
         },
         "mode": "lines",
         "name": "F1 Score",
         "showlegend": false,
         "type": "scatter",
         "x": [
          1,
          1.5,
          2,
          2.5,
          3,
          3.5,
          4,
          4.5,
          5,
          5.5,
          6,
          6.5,
          7,
          7.5,
          8,
          8.5,
          9,
          9.5,
          10,
          10,
          9.5,
          9,
          8.5,
          8,
          7.5,
          7,
          6.5,
          6,
          5.5,
          5,
          4.5,
          4,
          3.5,
          3,
          2.5,
          2,
          1.5,
          1
         ],
         "xaxis": "x3",
         "y": [
          0.05530823357177092,
          0.05590513888840456,
          0.08672877163518516,
          0.09148400264987414,
          0.09277512437562735,
          0.08451397354911175,
          0.08368317897710426,
          0.09402059027445811,
          0.09468826716708127,
          0.09481432086882263,
          0.09219176352867917,
          0.10601632540940603,
          0.07807100118983765,
          0.10266672536389718,
          0.06461051194459132,
          0.08499942411247802,
          0.09279206666462445,
          0.08145694460554828,
          0.08633364310813979,
          0.0007805516726225245,
          0.010292824661183107,
          -0.0048468292074035635,
          0.0010214946052118437,
          0.00889875270062795,
          -0.012086527796094093,
          -0.00019947042966687173,
          -0.0202053054165097,
          -0.002987806693637886,
          0.001445877397725455,
          -0.0010682777649432401,
          -0.004303326780016284,
          -0.0028672091432486446,
          0.0005508046583660303,
          -0.0074135987284203245,
          -0.008154110214090918,
          -0.012634921354436307,
          -0.006926271146984624,
          -0.020624766970264562
         ],
         "yaxis": "y3"
        },
        {
         "line": {
          "color": "rgb(245, 130, 49)",
          "width": 4
         },
         "mode": "lines",
         "name": "F1 Score",
         "showlegend": false,
         "type": "scatter",
         "x": [
          1,
          1.5,
          2,
          2.5,
          3,
          3.5,
          4,
          4.5,
          5,
          5.5,
          6,
          6.5,
          7,
          7.5,
          8,
          8.5,
          9,
          9.5,
          10
         ],
         "xaxis": "x3",
         "y": [
          0.01734173330075318,
          0.024489433870709967,
          0.03704692514037443,
          0.04166494621789161,
          0.04268076282360351,
          0.04253238910373889,
          0.040407984916927805,
          0.04485863174722091,
          0.046809994701069016,
          0.04813009913327405,
          0.04460197841752064,
          0.04290550999644816,
          0.038935765380085384,
          0.04529009878390154,
          0.036754632322609636,
          0.04301045935884493,
          0.04397261872861044,
          0.04587488463336569,
          0.043557097390381154
         ],
         "yaxis": "y3"
        },
        {
         "fill": "toself",
         "fillcolor": "rgba(230, 25, 75, 0.15)",
         "line": {
          "color": "rgba(255,255,255,0)"
         },
         "mode": "lines",
         "name": "MCC",
         "showlegend": false,
         "type": "scatter",
         "x": [
          1,
          1.5,
          2,
          2.5,
          3,
          3.5,
          4,
          4.5,
          5,
          5.5,
          6,
          6.5,
          7,
          7.5,
          8,
          8.5,
          9,
          9.5,
          10,
          10,
          9.5,
          9,
          8.5,
          8,
          7.5,
          7,
          6.5,
          6,
          5.5,
          5,
          4.5,
          4,
          3.5,
          3,
          2.5,
          2,
          1.5,
          1
         ],
         "xaxis": "x3",
         "y": [
          0.04743564465459407,
          0.04191425436289892,
          0.04240493321734652,
          0.03954986108166284,
          0.053103571774841304,
          0.05184487440548101,
          0.04823720592371223,
          0.05243550896554215,
          0.04675985005810094,
          0.07603454802246246,
          0.08048316640083164,
          0.08264634059215664,
          0.05009448585976966,
          0.08044330496990623,
          0.04907669241640425,
          0.06500363891744715,
          0.0530569807030629,
          0.03855099315398364,
          0.06206686942583775,
          0.0026398577971758486,
          0.0029936707348981427,
          -0.0023009848179827916,
          -0.0056465425895624935,
          0.003406672147881349,
          -0.005151130779868882,
          0.004989849581317644,
          -0.01848311785078576,
          -0.010506605554118274,
          -0.004843148933454368,
          0.005824520214729456,
          0.0023637345746642564,
          1.5293598519539042e-7,
          -0.004476694087646237,
          -0.0013382914905662145,
          -0.00010651563505983258,
          -0.0026919607752286974,
          -0.0034174628058189355,
          -0.007697255920561637
         ],
         "yaxis": "y3"
        },
        {
         "line": {
          "color": "rgb(230, 25, 75)",
          "width": 4
         },
         "mode": "lines",
         "name": "MCC",
         "showlegend": false,
         "type": "scatter",
         "x": [
          1,
          1.5,
          2,
          2.5,
          3,
          3.5,
          4,
          4.5,
          5,
          5.5,
          6,
          6.5,
          7,
          7.5,
          8,
          8.5,
          9,
          9.5,
          10
         ],
         "xaxis": "x3",
         "y": [
          0.01986919436701622,
          0.01924839577853999,
          0.019856486221058914,
          0.019721672723301505,
          0.025882640142137547,
          0.023684090158917384,
          0.024118679429848713,
          0.027399621770103202,
          0.026292185136415198,
          0.03559569954450404,
          0.03498828042335668,
          0.03208161137068544,
          0.027542167720543652,
          0.037646087095018675,
          0.026241682282142798,
          0.02967854816394233,
          0.025377997942540056,
          0.020772331944440888,
          0.0323533636115068
         ],
         "yaxis": "y3"
        },
        {
         "fill": "toself",
         "fillcolor": "rgba(60, 180, 75, 0.15)",
         "line": {
          "color": "rgba(255,255,255,0)"
         },
         "mode": "lines",
         "name": "EC (dep. prev.)",
         "showlegend": false,
         "type": "scatter",
         "x": [
          1,
          1.5,
          2,
          2.5,
          3,
          3.5,
          4,
          4.5,
          5,
          5.5,
          6,
          6.5,
          7,
          7.5,
          8,
          8.5,
          9,
          9.5,
          10,
          10,
          9.5,
          9,
          8.5,
          8,
          7.5,
          7,
          6.5,
          6,
          5.5,
          5,
          4.5,
          4,
          3.5,
          3,
          2.5,
          2,
          1.5,
          1
         ],
         "xaxis": "x3",
         "y": [
          0.025974239617248554,
          0.02045364943210449,
          0.018378763301564887,
          0.01610693973938458,
          0.018692469756887268,
          0.018118887708417998,
          0.013295302058333156,
          0.01658324323438979,
          0.010557164359115606,
          0.013630529847496591,
          0.01535270978832249,
          0.014389977922704453,
          0.009003669157107739,
          0.012735746155427313,
          0.0084162664817485,
          0.009209978999441207,
          0.008537987246061196,
          0.007593226508236793,
          0.009400463166783633,
          -0.0001056965997875553,
          -0.00033465011072143997,
          -0.0006016798910896239,
          -0.000014176244424002164,
          -0.00034403905243768265,
          -0.0008732633647372135,
          -0.00012731147827954158,
          -0.0022789739554492624,
          -0.0017096139990378017,
          -0.00014925250549849105,
          0.00016207501774058008,
          -0.0020602580374340044,
          0.00062215870405992,
          -0.0027342017205484737,
          -0.003178320708649228,
          -0.0005177821746882626,
          -0.0009426528560906589,
          -0.0007854258059632295,
          -0.004072043259931166
         ],
         "yaxis": "y3"
        },
        {
         "line": {
          "color": "rgb(60, 180, 75)",
          "width": 4
         },
         "mode": "lines",
         "name": "EC (dep. prev.)",
         "showlegend": false,
         "type": "scatter",
         "x": [
          1,
          1.5,
          2,
          2.5,
          3,
          3.5,
          4,
          4.5,
          5,
          5.5,
          6,
          6.5,
          7,
          7.5,
          8,
          8.5,
          9,
          9.5,
          10
         ],
         "xaxis": "x3",
         "y": [
          0.010951098178658693,
          0.00983411181307063,
          0.008718055222737114,
          0.0077945787823481575,
          0.00775707452411902,
          0.007692342993934762,
          0.0069587303811965385,
          0.007261492598477892,
          0.005359619688428093,
          0.00674063867099905,
          0.0068215478946423444,
          0.006055501983627595,
          0.004438178839414098,
          0.0059312413953450495,
          0.0040361137146554095,
          0.004597901377508603,
          0.003968153677485786,
          0.003629288198757676,
          0.004647383283498039
         ],
         "yaxis": "y3"
        },
        {
         "boxpoints": "all",
         "jitter": 0.5,
         "marker": {
          "color": "rgb(67, 99, 216)"
         },
         "name": "Accuracy",
         "showlegend": false,
         "type": "box",
         "whiskerwidth": 0.2,
         "xaxis": "x4",
         "y": [
          0.019962728,
          0.08878839,
          0.06061381,
          0.0007042289,
          0.098080516,
          0.07161194,
          0.015800774,
          0.0020033717,
          0.014598846,
          0.025166452,
          0.327123,
          0.2490974,
          0.2721359,
          0.16638112,
          0.4082229,
          0.3948263,
          0.14034706,
          0.40305436,
          0.018657625,
          0.0126184225,
          0.12863505,
          0.41262138,
          0.0017396808,
          0.23879611,
          0.29379195,
          0.2322585,
          0.30986285,
          0.1937058,
          0.31937784,
          0.2153312
         ],
         "yaxis": "y4"
        },
        {
         "boxpoints": "all",
         "jitter": 0.5,
         "marker": {
          "color": "rgb(245, 130, 49)"
         },
         "name": "F1 Score",
         "showlegend": false,
         "type": "box",
         "whiskerwidth": 0.2,
         "xaxis": "x4",
         "y": [
          0.03917656293520366,
          0.00106081271243319,
          0.056797385620914964,
          0,
          0.028535758872837547,
          0.05056614803886106,
          0.01311886377978222,
          0.0457084512048056,
          0.06245120999219367,
          0.06181467646704408,
          0.04235661737568586,
          0.08600091151677086,
          0.03216533099877911,
          0.05679173447526764,
          0.004524886877828055,
          0.00630899295638692,
          0.06339072174989435,
          0.003139269406392694,
          0.04986399291497978,
          0.04740740740740734,
          0.005115089514066529,
          0,
          0.017697783673999767,
          0.011087420042643958,
          0.1642993717563507,
          0.08831168831168823,
          0.04940264772360348,
          0.18148062195404974,
          0.013380109325283551,
          0.024758454106280192
         ],
         "yaxis": "y4"
        },
        {
         "boxpoints": "all",
         "jitter": 0.5,
         "marker": {
          "color": "rgb(230, 25, 75)"
         },
         "name": "MCC",
         "showlegend": false,
         "type": "box",
         "whiskerwidth": 0.2,
         "xaxis": "x4",
         "y": [
          0.016091544626612997,
          0.02942429427150073,
          0.009247881882584519,
          0.0012223279760006367,
          0.05530088463519489,
          0.012245332259262387,
          0.004669672199217878,
          0.0390896127778263,
          0.04225930384277454,
          0.0012236924778834535,
          0.008029565588062115,
          0.01592255736408832,
          0.037907986522394854,
          0.0331876557852524,
          0.03369085602646046,
          0.012401123583448262,
          0.02217298113510935,
          0.015472275614749564,
          0.025012961565080705,
          0.030747273095084182,
          0.016013487934010195,
          0,
          0.017791226120501324,
          0.08847201525443005,
          0.12792668481823097,
          0.040757882176979954,
          0.010315786656173553,
          0.08922905576949253,
          0.06005656531231168,
          0.07471842107448501
         ],
         "yaxis": "y4"
        },
        {
         "boxpoints": "all",
         "jitter": 0.5,
         "marker": {
          "color": "rgb(60, 180, 75)"
         },
         "name": "EC",
         "showlegend": false,
         "type": "box",
         "whiskerwidth": 0.2,
         "xaxis": "x4",
         "y": [
          0.0010888765522122923,
          0.015427571930689277,
          0.0050694190400944195,
          0.0007042253184932736,
          0.01538039000872466,
          0.00016217282751029155,
          0.0015107080003917053,
          0.005723905894491407,
          0.007161278651296914,
          0.004551178347931683,
          0.0014819460430643694,
          0.0028298875106645,
          0.000509861016676369,
          0.0005656713740931629,
          0.00020554029887495662,
          0.0011430359897150189,
          0.0013137153414283995,
          0.0011025278177722725,
          0.0029652342883302873,
          0.008672462895153353,
          0.006429277824338275,
          0,
          0.003175303720161224,
          0.008391923178049591,
          0.012732780329997917,
          0.015232400993342984,
          0.003282153319142417,
          0.000475351717255601,
          0.0031498691261493267,
          0.008982829148895206
         ],
         "yaxis": "y4"
        }
       ],
       "layout": {
        "annotations": [
         {
          "bgcolor": "white",
          "font": {
           "size": 30
          },
          "showarrow": false,
          "text": "<b>w/o re-calibration</b>",
          "textangle": 90,
          "x": 0.98,
          "xanchor": "left",
          "xref": "paper",
          "y": 0.7575000000000001,
          "yanchor": "middle",
          "yref": "paper"
         },
         {
          "bgcolor": "white",
          "font": {
           "size": 30
          },
          "showarrow": false,
          "text": "<b>with re-calibration</b>",
          "textangle": 90,
          "x": 0.98,
          "xanchor": "left",
          "xref": "paper",
          "y": 0.2425,
          "yanchor": "middle",
          "yref": "paper"
         },
         {
          "bgcolor": "white",
          "font": {
           "size": 30
          },
          "showarrow": false,
          "text": "<b>Absolute difference to metric score on D<sub>test</sub> set</b>",
          "textangle": -90,
          "x": 0,
          "xanchor": "right",
          "xref": "paper",
          "xshift": -40,
          "y": 0.5,
          "yanchor": "middle",
          "yref": "paper"
         }
        ],
        "autosize": false,
        "font": {
         "family": "NewComputerModern10",
         "size": 22
        },
        "height": 800,
        "legend": {
         "font": {
          "size": 30
         },
         "itemsizing": "constant"
        },
        "margin": {
         "t": 10
        },
        "template": {
         "data": {
          "bar": [
           {
            "error_x": {
             "color": "#2a3f5f"
            },
            "error_y": {
             "color": "#2a3f5f"
            },
            "marker": {
             "line": {
              "color": "#E5ECF6",
              "width": 0.5
             },
             "pattern": {
              "fillmode": "overlay",
              "size": 10,
              "solidity": 0.2
             }
            },
            "type": "bar"
           }
          ],
          "barpolar": [
           {
            "marker": {
             "line": {
              "color": "#E5ECF6",
              "width": 0.5
             },
             "pattern": {
              "fillmode": "overlay",
              "size": 10,
              "solidity": 0.2
             }
            },
            "type": "barpolar"
           }
          ],
          "carpet": [
           {
            "aaxis": {
             "endlinecolor": "#2a3f5f",
             "gridcolor": "white",
             "linecolor": "white",
             "minorgridcolor": "white",
             "startlinecolor": "#2a3f5f"
            },
            "baxis": {
             "endlinecolor": "#2a3f5f",
             "gridcolor": "white",
             "linecolor": "white",
             "minorgridcolor": "white",
             "startlinecolor": "#2a3f5f"
            },
            "type": "carpet"
           }
          ],
          "choropleth": [
           {
            "colorbar": {
             "outlinewidth": 0,
             "ticks": ""
            },
            "type": "choropleth"
           }
          ],
          "contour": [
           {
            "colorbar": {
             "outlinewidth": 0,
             "ticks": ""
            },
            "colorscale": [
             [
              0,
              "#0d0887"
             ],
             [
              0.1111111111111111,
              "#46039f"
             ],
             [
              0.2222222222222222,
              "#7201a8"
             ],
             [
              0.3333333333333333,
              "#9c179e"
             ],
             [
              0.4444444444444444,
              "#bd3786"
             ],
             [
              0.5555555555555556,
              "#d8576b"
             ],
             [
              0.6666666666666666,
              "#ed7953"
             ],
             [
              0.7777777777777778,
              "#fb9f3a"
             ],
             [
              0.8888888888888888,
              "#fdca26"
             ],
             [
              1,
              "#f0f921"
             ]
            ],
            "type": "contour"
           }
          ],
          "contourcarpet": [
           {
            "colorbar": {
             "outlinewidth": 0,
             "ticks": ""
            },
            "type": "contourcarpet"
           }
          ],
          "heatmap": [
           {
            "colorbar": {
             "outlinewidth": 0,
             "ticks": ""
            },
            "colorscale": [
             [
              0,
              "#0d0887"
             ],
             [
              0.1111111111111111,
              "#46039f"
             ],
             [
              0.2222222222222222,
              "#7201a8"
             ],
             [
              0.3333333333333333,
              "#9c179e"
             ],
             [
              0.4444444444444444,
              "#bd3786"
             ],
             [
              0.5555555555555556,
              "#d8576b"
             ],
             [
              0.6666666666666666,
              "#ed7953"
             ],
             [
              0.7777777777777778,
              "#fb9f3a"
             ],
             [
              0.8888888888888888,
              "#fdca26"
             ],
             [
              1,
              "#f0f921"
             ]
            ],
            "type": "heatmap"
           }
          ],
          "heatmapgl": [
           {
            "colorbar": {
             "outlinewidth": 0,
             "ticks": ""
            },
            "colorscale": [
             [
              0,
              "#0d0887"
             ],
             [
              0.1111111111111111,
              "#46039f"
             ],
             [
              0.2222222222222222,
              "#7201a8"
             ],
             [
              0.3333333333333333,
              "#9c179e"
             ],
             [
              0.4444444444444444,
              "#bd3786"
             ],
             [
              0.5555555555555556,
              "#d8576b"
             ],
             [
              0.6666666666666666,
              "#ed7953"
             ],
             [
              0.7777777777777778,
              "#fb9f3a"
             ],
             [
              0.8888888888888888,
              "#fdca26"
             ],
             [
              1,
              "#f0f921"
             ]
            ],
            "type": "heatmapgl"
           }
          ],
          "histogram": [
           {
            "marker": {
             "pattern": {
              "fillmode": "overlay",
              "size": 10,
              "solidity": 0.2
             }
            },
            "type": "histogram"
           }
          ],
          "histogram2d": [
           {
            "colorbar": {
             "outlinewidth": 0,
             "ticks": ""
            },
            "colorscale": [
             [
              0,
              "#0d0887"
             ],
             [
              0.1111111111111111,
              "#46039f"
             ],
             [
              0.2222222222222222,
              "#7201a8"
             ],
             [
              0.3333333333333333,
              "#9c179e"
             ],
             [
              0.4444444444444444,
              "#bd3786"
             ],
             [
              0.5555555555555556,
              "#d8576b"
             ],
             [
              0.6666666666666666,
              "#ed7953"
             ],
             [
              0.7777777777777778,
              "#fb9f3a"
             ],
             [
              0.8888888888888888,
              "#fdca26"
             ],
             [
              1,
              "#f0f921"
             ]
            ],
            "type": "histogram2d"
           }
          ],
          "histogram2dcontour": [
           {
            "colorbar": {
             "outlinewidth": 0,
             "ticks": ""
            },
            "colorscale": [
             [
              0,
              "#0d0887"
             ],
             [
              0.1111111111111111,
              "#46039f"
             ],
             [
              0.2222222222222222,
              "#7201a8"
             ],
             [
              0.3333333333333333,
              "#9c179e"
             ],
             [
              0.4444444444444444,
              "#bd3786"
             ],
             [
              0.5555555555555556,
              "#d8576b"
             ],
             [
              0.6666666666666666,
              "#ed7953"
             ],
             [
              0.7777777777777778,
              "#fb9f3a"
             ],
             [
              0.8888888888888888,
              "#fdca26"
             ],
             [
              1,
              "#f0f921"
             ]
            ],
            "type": "histogram2dcontour"
           }
          ],
          "mesh3d": [
           {
            "colorbar": {
             "outlinewidth": 0,
             "ticks": ""
            },
            "type": "mesh3d"
           }
          ],
          "parcoords": [
           {
            "line": {
             "colorbar": {
              "outlinewidth": 0,
              "ticks": ""
             }
            },
            "type": "parcoords"
           }
          ],
          "pie": [
           {
            "automargin": true,
            "type": "pie"
           }
          ],
          "scatter": [
           {
            "fillpattern": {
             "fillmode": "overlay",
             "size": 10,
             "solidity": 0.2
            },
            "type": "scatter"
           }
          ],
          "scatter3d": [
           {
            "line": {
             "colorbar": {
              "outlinewidth": 0,
              "ticks": ""
             }
            },
            "marker": {
             "colorbar": {
              "outlinewidth": 0,
              "ticks": ""
             }
            },
            "type": "scatter3d"
           }
          ],
          "scattercarpet": [
           {
            "marker": {
             "colorbar": {
              "outlinewidth": 0,
              "ticks": ""
             }
            },
            "type": "scattercarpet"
           }
          ],
          "scattergeo": [
           {
            "marker": {
             "colorbar": {
              "outlinewidth": 0,
              "ticks": ""
             }
            },
            "type": "scattergeo"
           }
          ],
          "scattergl": [
           {
            "marker": {
             "colorbar": {
              "outlinewidth": 0,
              "ticks": ""
             }
            },
            "type": "scattergl"
           }
          ],
          "scattermapbox": [
           {
            "marker": {
             "colorbar": {
              "outlinewidth": 0,
              "ticks": ""
             }
            },
            "type": "scattermapbox"
           }
          ],
          "scatterpolar": [
           {
            "marker": {
             "colorbar": {
              "outlinewidth": 0,
              "ticks": ""
             }
            },
            "type": "scatterpolar"
           }
          ],
          "scatterpolargl": [
           {
            "marker": {
             "colorbar": {
              "outlinewidth": 0,
              "ticks": ""
             }
            },
            "type": "scatterpolargl"
           }
          ],
          "scatterternary": [
           {
            "marker": {
             "colorbar": {
              "outlinewidth": 0,
              "ticks": ""
             }
            },
            "type": "scatterternary"
           }
          ],
          "surface": [
           {
            "colorbar": {
             "outlinewidth": 0,
             "ticks": ""
            },
            "colorscale": [
             [
              0,
              "#0d0887"
             ],
             [
              0.1111111111111111,
              "#46039f"
             ],
             [
              0.2222222222222222,
              "#7201a8"
             ],
             [
              0.3333333333333333,
              "#9c179e"
             ],
             [
              0.4444444444444444,
              "#bd3786"
             ],
             [
              0.5555555555555556,
              "#d8576b"
             ],
             [
              0.6666666666666666,
              "#ed7953"
             ],
             [
              0.7777777777777778,
              "#fb9f3a"
             ],
             [
              0.8888888888888888,
              "#fdca26"
             ],
             [
              1,
              "#f0f921"
             ]
            ],
            "type": "surface"
           }
          ],
          "table": [
           {
            "cells": {
             "fill": {
              "color": "#EBF0F8"
             },
             "line": {
              "color": "white"
             }
            },
            "header": {
             "fill": {
              "color": "#C8D4E3"
             },
             "line": {
              "color": "white"
             }
            },
            "type": "table"
           }
          ]
         },
         "layout": {
          "annotationdefaults": {
           "arrowcolor": "#2a3f5f",
           "arrowhead": 0,
           "arrowwidth": 1
          },
          "autotypenumbers": "strict",
          "coloraxis": {
           "colorbar": {
            "outlinewidth": 0,
            "ticks": ""
           }
          },
          "colorscale": {
           "diverging": [
            [
             0,
             "#8e0152"
            ],
            [
             0.1,
             "#c51b7d"
            ],
            [
             0.2,
             "#de77ae"
            ],
            [
             0.3,
             "#f1b6da"
            ],
            [
             0.4,
             "#fde0ef"
            ],
            [
             0.5,
             "#f7f7f7"
            ],
            [
             0.6,
             "#e6f5d0"
            ],
            [
             0.7,
             "#b8e186"
            ],
            [
             0.8,
             "#7fbc41"
            ],
            [
             0.9,
             "#4d9221"
            ],
            [
             1,
             "#276419"
            ]
           ],
           "sequential": [
            [
             0,
             "#0d0887"
            ],
            [
             0.1111111111111111,
             "#46039f"
            ],
            [
             0.2222222222222222,
             "#7201a8"
            ],
            [
             0.3333333333333333,
             "#9c179e"
            ],
            [
             0.4444444444444444,
             "#bd3786"
            ],
            [
             0.5555555555555556,
             "#d8576b"
            ],
            [
             0.6666666666666666,
             "#ed7953"
            ],
            [
             0.7777777777777778,
             "#fb9f3a"
            ],
            [
             0.8888888888888888,
             "#fdca26"
            ],
            [
             1,
             "#f0f921"
            ]
           ],
           "sequentialminus": [
            [
             0,
             "#0d0887"
            ],
            [
             0.1111111111111111,
             "#46039f"
            ],
            [
             0.2222222222222222,
             "#7201a8"
            ],
            [
             0.3333333333333333,
             "#9c179e"
            ],
            [
             0.4444444444444444,
             "#bd3786"
            ],
            [
             0.5555555555555556,
             "#d8576b"
            ],
            [
             0.6666666666666666,
             "#ed7953"
            ],
            [
             0.7777777777777778,
             "#fb9f3a"
            ],
            [
             0.8888888888888888,
             "#fdca26"
            ],
            [
             1,
             "#f0f921"
            ]
           ]
          },
          "colorway": [
           "#636efa",
           "#EF553B",
           "#00cc96",
           "#ab63fa",
           "#FFA15A",
           "#19d3f3",
           "#FF6692",
           "#B6E880",
           "#FF97FF",
           "#FECB52"
          ],
          "font": {
           "color": "#2a3f5f"
          },
          "geo": {
           "bgcolor": "white",
           "lakecolor": "white",
           "landcolor": "#E5ECF6",
           "showlakes": true,
           "showland": true,
           "subunitcolor": "white"
          },
          "hoverlabel": {
           "align": "left"
          },
          "hovermode": "closest",
          "mapbox": {
           "style": "light"
          },
          "paper_bgcolor": "white",
          "plot_bgcolor": "#E5ECF6",
          "polar": {
           "angularaxis": {
            "gridcolor": "white",
            "linecolor": "white",
            "ticks": ""
           },
           "bgcolor": "#E5ECF6",
           "radialaxis": {
            "gridcolor": "white",
            "linecolor": "white",
            "ticks": ""
           }
          },
          "scene": {
           "xaxis": {
            "backgroundcolor": "#E5ECF6",
            "gridcolor": "white",
            "gridwidth": 2,
            "linecolor": "white",
            "showbackground": true,
            "ticks": "",
            "zerolinecolor": "white"
           },
           "yaxis": {
            "backgroundcolor": "#E5ECF6",
            "gridcolor": "white",
            "gridwidth": 2,
            "linecolor": "white",
            "showbackground": true,
            "ticks": "",
            "zerolinecolor": "white"
           },
           "zaxis": {
            "backgroundcolor": "#E5ECF6",
            "gridcolor": "white",
            "gridwidth": 2,
            "linecolor": "white",
            "showbackground": true,
            "ticks": "",
            "zerolinecolor": "white"
           }
          },
          "shapedefaults": {
           "line": {
            "color": "#2a3f5f"
           }
          },
          "ternary": {
           "aaxis": {
            "gridcolor": "white",
            "linecolor": "white",
            "ticks": ""
           },
           "baxis": {
            "gridcolor": "white",
            "linecolor": "white",
            "ticks": ""
           },
           "bgcolor": "#E5ECF6",
           "caxis": {
            "gridcolor": "white",
            "linecolor": "white",
            "ticks": ""
           }
          },
          "title": {
           "x": 0.05
          },
          "xaxis": {
           "automargin": true,
           "gridcolor": "white",
           "linecolor": "white",
           "ticks": "",
           "title": {
            "standoff": 15
           },
           "zerolinecolor": "white",
           "zerolinewidth": 2
          },
          "yaxis": {
           "automargin": true,
           "gridcolor": "white",
           "linecolor": "white",
           "ticks": "",
           "title": {
            "standoff": 15
           },
           "zerolinecolor": "white",
           "zerolinewidth": 2
          }
         }
        },
        "width": 1800,
        "xaxis": {
         "anchor": "y",
         "domain": [
          0,
          0.475
         ],
         "matches": "x3",
         "showticklabels": false
        },
        "xaxis2": {
         "anchor": "y2",
         "domain": [
          0.505,
          0.98
         ],
         "matches": "x4",
         "showticklabels": false
        },
        "xaxis3": {
         "anchor": "y3",
         "domain": [
          0,
          0.475
         ],
         "title": {
          "text": "<b>Imbalance ratio</b>"
         }
        },
        "xaxis4": {
         "anchor": "y4",
         "domain": [
          0.505,
          0.98
         ]
        },
        "yaxis": {
         "anchor": "x",
         "domain": [
          0.515,
          1
         ],
         "range": [
          0,
          0.3
         ]
        },
        "yaxis2": {
         "anchor": "x2",
         "domain": [
          0.515,
          1
         ],
         "range": [
          -0.02,
          0.48
         ]
        },
        "yaxis3": {
         "anchor": "x3",
         "domain": [
          0,
          0.485
         ],
         "range": [
          0,
          0.3
         ]
        },
        "yaxis4": {
         "anchor": "x4",
         "domain": [
          0,
          0.485
         ],
         "range": [
          -0.02,
          0.48
         ]
        }
       }
      }
     },
     "metadata": {},
     "output_type": "display_data"
    }
   ],
   "source": [
    "# define y axis ranges for subplots\n",
    "sub_y_ranges =  {0: [0, 0.3], 1: [-0.02, 0.48], 2: [0, 0.3], 3: [-0.02, 0.48]}\n",
    "# create Fig 5. from the paper\n",
    "fig = multiplot(rows=2, cols=2, row_titles=[\"w/o re-calibration\", \"with re-calibration\"],y_title  = \"Absolute difference to metric score on D<sub>test</sub> set\",\n",
    " subplts=subplts, horizontal_spacing = 0.03, vertical_spacing=0.03, legend_index=1, \n",
    " sub_x_axis_titles={2: \"Imbalance ratio\"}, sub_y_ranges=sub_y_ranges, height=800, shared_yaxes=False)\n",
    "# change the display name from \"EC dep prev\" to \"EC\"\n",
    "fig['data'][11]['name'] = \"EC\"\n",
    "fig['data'][23]['name'] = \"EC\"\n",
    "fig"
   ]
  },
  {
   "cell_type": "code",
   "execution_count": 7,
   "metadata": {},
   "outputs": [],
   "source": [
    "# save figures\n",
    "fig.write_image(RESULT_PATH / f\"fig_5.png\")\n",
    "fig.write_image(RESULT_PATH / f\"fig_5.pdf\")\n",
    "fig.write_html(RESULT_PATH / f\"fig_5.html\")"
   ]
  },
  {
   "cell_type": "code",
   "execution_count": 20,
   "metadata": {},
   "outputs": [
    {
     "data": {
      "image/png": "[encoded data removed]",
      "text/plain": [
       "<IPython.core.display.Image object>"
      ]
     },
     "execution_count": 20,
     "metadata": {},
     "output_type": "execute_result"
    }
   ],
   "source": [
    "display.Image(RESULT_PATH / f\"fig_5.png\")"
   ]
  },
  {
   "cell_type": "markdown",
   "metadata": {},
   "source": [
    "## Supplement plot"
   ]
  },
  {
   "cell_type": "code",
   "execution_count": 8,
   "metadata": {},
   "outputs": [],
   "source": [
    "# initialize supplement dataframe \n",
    "sup_df = pd.DataFrame(all_tasks, columns=['name'])\n",
    "# define calibration method\n",
    "cal = CalibrationMethod.NONE\n",
    "# iterate over standard deviations for non-exact priors\n",
    "for std in [0.05, 0.075, 0.1]:\n",
    "    # load relevant result file\n",
    "    result_df = pd.read_pickle(RESULT_PATH / (\"exp_3_results_\" + str(cal.value) + f\"_std_{std}.pkl\"))\n",
    "    # compute differences in metrics' values\n",
    "    sup_df[f\"EC (est. prev.) std={std}\"] = result_df[Metric.EC_EST] - result_df['reference ' + str(Metric.EC_EST.value)]\n",
    "    sup_df[Metric.ACCURACY.value] = result_df[Metric.ACCURACY] - result_df['reference Accuracy']\n",
    "    sup_df[Metric.BALANCED_ACC.value] = result_df[Metric.BALANCED_ACC] - result_df['reference Bal. Accuracy']\n",
    "    sup_df[Metric.AUROC.value] = result_df[Metric.AUROC] - result_df['reference AUROC']\n",
    "    sup_df[Metric.EC_ADJUSTED.value] = result_df[Metric.EC_ADJUSTED] - result_df['reference '+ str(Metric.EC_ADJUSTED.value)]"
   ]
  },
  {
   "cell_type": "code",
   "execution_count": 9,
   "metadata": {},
   "outputs": [],
   "source": [
    "# define the metrics list\n",
    "metrics = [k for k in sup_df.keys() if k!=\"name\"]"
   ]
  },
  {
   "cell_type": "code",
   "execution_count": 10,
   "metadata": {},
   "outputs": [],
   "source": [
    "# plot the subplots\n",
    "fig1 = plot_aggregate_results(sup_df, metrics=[Metric.ACCURACY, Metric.BALANCED_ACC,Metric.AUROC, Metric.EC_ADJUSTED], y_axis_title=\"Absolute difference to <br>metric score on D<sub>test</sub> set\", ci=Confidence.NONE)\n",
    "fig2 = plot_aggregate_results(sup_df, metrics =['EC (est. prev.) std=0.05', 'EC (est. prev.) std=0.075', 'EC (est. prev.) std=0.1'], ci=Confidence.NONE)"
   ]
  },
  {
   "cell_type": "code",
   "execution_count": 11,
   "metadata": {},
   "outputs": [],
   "source": [
    "# aggragate in 1 figure\n",
    "for i, value in enumerate(fig2['data']):\n",
    "    value['showlegend']=True\n",
    "    fig1.add_trace(value)"
   ]
  },
  {
   "cell_type": "code",
   "execution_count": 12,
   "metadata": {},
   "outputs": [],
   "source": [
    "# compute values at imbalance ratio 10\n",
    "ir_10_metrics = last_value_df(sup_df, metrics=metrics, delta=False)"
   ]
  },
  {
   "cell_type": "code",
   "execution_count": 13,
   "metadata": {},
   "outputs": [],
   "source": [
    "# create box plots\n",
    "box1 = box_plot(ir_10_metrics, metrics=[Metric.ACCURACY, Metric.BALANCED_ACC,Metric.AUROC, Metric.EC_ADJUSTED])\n",
    "box2 = box_plot(ir_10_metrics, metrics =['EC (est. prev.) std=0.05', 'EC (est. prev.) std=0.075', 'EC (est. prev.) std=0.1'])\n",
    "# aggregate box plots in 1 figure\n",
    "for  value in box2['data']:\n",
    "    value['showlegend']=True\n",
    "    box1.add_trace(value)"
   ]
  },
  {
   "cell_type": "code",
   "execution_count": 14,
   "metadata": {},
   "outputs": [],
   "source": [
    "# create Fig. 9 from supplement\n",
    "fig = multiplot(rows=1, cols=2, subplts=[fig1, box1], horizontal_spacing=0.04, legend_index=1, \n",
    "sub_y_axis_titles={0:\"Absolute difference to <br> metric score on D<sub>test</sub> set\"}, sub_x_axis_titles={0: \"Imbalance ratio\"}, sub_y_ranges={0: [0, 0.05]}, shared_yaxes=False)"
   ]
  },
  {
   "cell_type": "code",
   "execution_count": 16,
   "metadata": {},
   "outputs": [],
   "source": [
    "# save figures\n",
    "name = \"fig_9\"\n",
    "fig.write_image(RESULT_PATH / f\"{name}.png\")\n",
    "fig.write_image(RESULT_PATH / f\"{name}.pdf\")\n",
    "fig.write_html(RESULT_PATH / f\"{name}.html\")"
   ]
  },
  {
   "cell_type": "code",
   "execution_count": 22,
   "metadata": {},
   "outputs": [
    {
     "data": {
      "image/png": "[encoded data removed]",
      "text/plain": [
       "<IPython.core.display.Image object>"
      ]
     },
     "execution_count": 22,
     "metadata": {},
     "output_type": "execute_result"
    }
   ],
   "source": [
    "display.Image(RESULT_PATH / f\"fig_9.png\")"
   ]
  },
  {
   "cell_type": "code",
   "execution_count": null,
   "metadata": {},
   "outputs": [],
   "source": []
  }
 ],
 "metadata": {
  "kernelspec": {
   "display_name": "Python 3.10.11 ('prev_reproduce')",
   "language": "python",
   "name": "python3"
  },
  "language_info": {
   "codemirror_mode": {
    "name": "ipython",
    "version": 3
   },
   "file_extension": ".py",
   "mimetype": "text/x-python",
   "name": "python",
   "nbconvert_exporter": "python",
   "pygments_lexer": "ipython3",
   "version": "3.10.11"
  },
  "orig_nbformat": 4,
  "vscode": {
   "interpreter": {
    "hash": "82330981448b64ee27c7af5d3e2318137d4b014146dffcbcd9c3283996ce6bcb"
   }
  }
 },
 "nbformat": 4,
 "nbformat_minor": 2
}
